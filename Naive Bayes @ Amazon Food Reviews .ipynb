{
 "cells": [
  {
   "cell_type": "markdown",
   "metadata": {},
   "source": [
    "# K- Nearest Neighbors on Amazon Food Reviews"
   ]
  },
  {
   "cell_type": "code",
   "execution_count": 59,
   "metadata": {},
   "outputs": [],
   "source": [
    "%matplotlib inline\n",
    "import warnings\n",
    "warnings.filterwarnings(\"ignore\")\n",
    "\n",
    "# General Packages\n",
    "import os\n",
    "import sqlite3\n",
    "import pandas as pd\n",
    "import numpy as np\n",
    "import string\n",
    "import re\n",
    "import nltk\n",
    "import datetime\n",
    "import time\n",
    "from decimal import *\n",
    "\n",
    "# Plotting Packages\n",
    "import matplotlib.pyplot as plt\n",
    "import seaborn as sns\n",
    "\n",
    "# Packages for Tfidf\n",
    "from sklearn.feature_extraction.text import TfidfTransformer\n",
    "from sklearn.feature_extraction.text import TfidfVectorizer\n",
    "\n",
    "# Packages for BOW (Bag of words)\n",
    "from sklearn.feature_extraction.text import CountVectorizer\n",
    "from sklearn.metrics import confusion_matrix\n",
    "from sklearn import metrics\n",
    "from sklearn.metrics import roc_curve, auc\n",
    "\n",
    "# Packages for Text Preprocessing\n",
    "from nltk.stem.porter import PorterStemmer\n",
    "from nltk.corpus import stopwords\n",
    "from nltk.stem.wordnet import WordNetLemmatizer\n",
    "\n",
    "#Packages for Word2vec, Average Word2vec & Tf-Idf Weighted Word2Vec\n",
    "from gensim.models import Word2Vec\n",
    "from gensim.models import KeyedVectors\n",
    "import pickle\n",
    "\n",
    "#Packages for plotting Tsne plot\n",
    "from sklearn.manifold import TSNE\n",
    "\n",
    "from sklearn.cross_validation import train_test_split\n",
    "from sklearn.neighbors import KNeighborsClassifier\n",
    "from sklearn.metrics import accuracy_score\n",
    "from sklearn.cross_validation import cross_val_score\n",
    "from collections import Counter\n",
    "from sklearn.metrics import accuracy_score\n",
    "from sklearn import cross_validation\n",
    "from sklearn.metrics import classification_report, confusion_matrix  \n",
    "from sklearn.model_selection import TimeSeriesSplit\n",
    "from prettytable import PrettyTable\n",
    "from prettytable import MSWORD_FRIENDLY\n",
    "from sklearn.metrics import recall_score\n",
    "from sklearn.metrics import precision_score\n",
    "from sklearn.metrics import f1_score\n",
    "from sklearn.metrics import roc_curve\n",
    "from sklearn.naive_bayes import BernoulliNB\n",
    "from sklearn.naive_bayes import MultinomialNB\n",
    "from sklearn.model_selection import GridSearchCV\n",
    "from sklearn.model_selection import RandomizedSearchCV\n",
    "from sklearn.metrics import make_scorer, accuracy_score,average_precision_score\n",
    "from sklearn.decomposition import TruncatedSVD"
   ]
  },
  {
   "cell_type": "code",
   "execution_count": 60,
   "metadata": {},
   "outputs": [
    {
     "name": "stdout",
     "output_type": "stream",
     "text": [
      "| Model | Algorithm |  K  | TPR | TNR | Precision | Recall | F1-Score | FPR | FNR | PPV | NPV | Overall Accuracy (ACC) |\n"
     ]
    }
   ],
   "source": [
    "# Formaing Output using pretty table\n",
    "Pretty = PrettyTable([\"Model\",\"Algorithm\",\" K \",\"TPR\",\"TNR\",\"Precision\",\"Recall\",\"F1-Score\",\"FPR\",\"FNR\",\"PPV\",\"NPV\",\"Overall Accuracy (ACC)\"])\n",
    "Pretty.set_style(MSWORD_FRIENDLY)\n",
    "print(Pretty)"
   ]
  },
  {
   "cell_type": "markdown",
   "metadata": {},
   "source": [
    "### Preprocessing Stage: Cleansed Stop Words, Punctuations & Html tags"
   ]
  },
  {
   "cell_type": "code",
   "execution_count": 61,
   "metadata": {
    "collapsed": true
   },
   "outputs": [],
   "source": [
    "#Connecting the Sqlite file after the Preprocessing Stage\n",
    "#os.chdir('/Users/sujis/Downloads/AI/Sujit')\n",
    "os.chdir('C:\\Users\\sujit.venkata\\Downloads\\Dev & Imp works\\Applied AI')\n",
    "con = sqlite3.connect('final.sqlite') \n",
    "final= pd.read_sql_query(\"\"\" SELECT * FROM Reviews \"\"\", con) "
   ]
  },
  {
   "cell_type": "code",
   "execution_count": 62,
   "metadata": {},
   "outputs": [
    {
     "data": {
      "text/html": [
       "<div>\n",
       "<style>\n",
       "    .dataframe thead tr:only-child th {\n",
       "        text-align: right;\n",
       "    }\n",
       "\n",
       "    .dataframe thead th {\n",
       "        text-align: left;\n",
       "    }\n",
       "\n",
       "    .dataframe tbody tr th {\n",
       "        vertical-align: top;\n",
       "    }\n",
       "</style>\n",
       "<table border=\"1\" class=\"dataframe\">\n",
       "  <thead>\n",
       "    <tr style=\"text-align: right;\">\n",
       "      <th></th>\n",
       "      <th>index</th>\n",
       "      <th>Id</th>\n",
       "      <th>ProductId</th>\n",
       "      <th>UserId</th>\n",
       "      <th>ProfileName</th>\n",
       "      <th>HelpfulnessNumerator</th>\n",
       "      <th>HelpfulnessDenominator</th>\n",
       "      <th>Score</th>\n",
       "      <th>Time</th>\n",
       "      <th>Summary</th>\n",
       "      <th>Text</th>\n",
       "      <th>CleanedText</th>\n",
       "    </tr>\n",
       "  </thead>\n",
       "  <tbody>\n",
       "    <tr>\n",
       "      <th>0</th>\n",
       "      <td>138706</td>\n",
       "      <td>150524</td>\n",
       "      <td>0006641040</td>\n",
       "      <td>ACITT7DI6IDDL</td>\n",
       "      <td>shari zychinski</td>\n",
       "      <td>0</td>\n",
       "      <td>0</td>\n",
       "      <td>positive</td>\n",
       "      <td>939340800</td>\n",
       "      <td>EVERY book is educational</td>\n",
       "      <td>this witty little book makes my son laugh at l...</td>\n",
       "      <td>witti littl book make son laugh loud recit car...</td>\n",
       "    </tr>\n",
       "  </tbody>\n",
       "</table>\n",
       "</div>"
      ],
      "text/plain": [
       "    index      Id   ProductId         UserId      ProfileName  \\\n",
       "0  138706  150524  0006641040  ACITT7DI6IDDL  shari zychinski   \n",
       "\n",
       "   HelpfulnessNumerator  HelpfulnessDenominator     Score       Time  \\\n",
       "0                     0                       0  positive  939340800   \n",
       "\n",
       "                     Summary  \\\n",
       "0  EVERY book is educational   \n",
       "\n",
       "                                                Text  \\\n",
       "0  this witty little book makes my son laugh at l...   \n",
       "\n",
       "                                         CleanedText  \n",
       "0  witti littl book make son laugh loud recit car...  "
      ]
     },
     "execution_count": 62,
     "metadata": {},
     "output_type": "execute_result"
    }
   ],
   "source": [
    "final.head(1)"
   ]
  },
  {
   "cell_type": "code",
   "execution_count": 63,
   "metadata": {},
   "outputs": [
    {
     "data": {
      "text/plain": [
       "positive    307061\n",
       "negative     57110\n",
       "Name: Score, dtype: int64"
      ]
     },
     "execution_count": 63,
     "metadata": {},
     "output_type": "execute_result"
    }
   ],
   "source": [
    "final['Score'].value_counts()"
   ]
  },
  {
   "cell_type": "markdown",
   "metadata": {},
   "source": [
    "### Taking a Sample of 75000 records from the Dataset"
   ]
  },
  {
   "cell_type": "code",
   "execution_count": 64,
   "metadata": {
    "collapsed": true
   },
   "outputs": [],
   "source": [
    "# Taking 75K data points from the dataset\n",
    "final_dataset=final.head(75000)"
   ]
  },
  {
   "cell_type": "code",
   "execution_count": 65,
   "metadata": {},
   "outputs": [
    {
     "data": {
      "text/plain": [
       "positive    63939\n",
       "negative    11061\n",
       "Name: Score, dtype: int64"
      ]
     },
     "execution_count": 65,
     "metadata": {},
     "output_type": "execute_result"
    }
   ],
   "source": [
    "final_dataset['Score'].value_counts()"
   ]
  },
  {
   "cell_type": "code",
   "execution_count": 66,
   "metadata": {
    "collapsed": true
   },
   "outputs": [],
   "source": [
    "#Sorting the Dataframe with Date to apply Timebased Split\n",
    "final_dataset=final_dataset.sort_values(by='Time',ascending=1)"
   ]
  },
  {
   "cell_type": "code",
   "execution_count": 67,
   "metadata": {
    "collapsed": true
   },
   "outputs": [],
   "source": [
    "# create design matrix X and target vector y\n",
    "X = np.array(final_dataset.iloc[:, 0:12]) # end index is exclusive\n",
    "Y = np.array(final_dataset['Score']) # showing you two ways of indexing a pandas df"
   ]
  },
  {
   "cell_type": "code",
   "execution_count": 68,
   "metadata": {},
   "outputs": [
    {
     "name": "stdout",
     "output_type": "stream",
     "text": [
      "TimeSeriesSplit(n_splits=5)\n"
     ]
    }
   ],
   "source": [
    "#Time based split\n",
    "tscv = TimeSeriesSplit(n_splits=5)\n",
    "print(tscv)  "
   ]
  },
  {
   "cell_type": "code",
   "execution_count": 69,
   "metadata": {},
   "outputs": [
    {
     "name": "stdout",
     "output_type": "stream",
     "text": [
      "('TRAIN:', array([    0,     1,     2, ..., 12497, 12498, 12499], dtype=int64), 'TEST:', array([12500, 12501, 12502, ..., 24997, 24998, 24999], dtype=int64))\n",
      "('TRAIN:', array([    0,     1,     2, ..., 24997, 24998, 24999], dtype=int64), 'TEST:', array([25000, 25001, 25002, ..., 37497, 37498, 37499], dtype=int64))\n",
      "('TRAIN:', array([    0,     1,     2, ..., 37497, 37498, 37499], dtype=int64), 'TEST:', array([37500, 37501, 37502, ..., 49997, 49998, 49999], dtype=int64))\n",
      "('TRAIN:', array([    0,     1,     2, ..., 49997, 49998, 49999], dtype=int64), 'TEST:', array([50000, 50001, 50002, ..., 62497, 62498, 62499], dtype=int64))\n",
      "('TRAIN:', array([    0,     1,     2, ..., 62497, 62498, 62499], dtype=int64), 'TEST:', array([62500, 62501, 62502, ..., 74997, 74998, 74999], dtype=int64))\n"
     ]
    }
   ],
   "source": [
    "#Splitting the Dataset into Train set & Test set\n",
    "for train_index, test_index in tscv.split(X):\n",
    "   print(\"TRAIN:\", train_index, \"TEST:\", test_index)\n",
    "   X_train, X_test = X[train_index], X[test_index]\n",
    "   Y_train, Y_test = Y[train_index], Y[test_index]"
   ]
  },
  {
   "cell_type": "code",
   "execution_count": 70,
   "metadata": {},
   "outputs": [
    {
     "name": "stdout",
     "output_type": "stream",
     "text": [
      "(62500L, 12L)\n",
      "(12500L, 12L)\n",
      "-------------------\n",
      "(62500L,)\n",
      "(12500L,)\n"
     ]
    }
   ],
   "source": [
    "print(X_train.shape)\n",
    "print(X_test.shape)\n",
    "print('-------------------')\n",
    "print(Y_train.shape)\n",
    "print(Y_test.shape)"
   ]
  },
  {
   "cell_type": "code",
   "execution_count": 71,
   "metadata": {
    "collapsed": true
   },
   "outputs": [],
   "source": [
    "# Converting X_Train, X_cv & X_test data is  to Dataframe for the ease of use\n",
    "X_train_data=pd.DataFrame(X_train, columns=['index', 'Id', 'ProductId', 'UserId', 'ProfileName',\n",
    "       'HelpfulnessNumerator', 'HelpfulnessDenominator', 'Score', 'Time',\n",
    "       'Summary', 'Text', 'CleanedText']) \n",
    "\n",
    "X_test_data=pd.DataFrame(X_test, columns=['index', 'Id', 'ProductId', 'UserId', 'ProfileName',\n",
    "       'HelpfulnessNumerator', 'HelpfulnessDenominator', 'Score', 'Time',\n",
    "       'Summary', 'Text', 'CleanedText']) \n"
   ]
  },
  {
   "cell_type": "markdown",
   "metadata": {},
   "source": [
    "## Bag of Words"
   ]
  },
  {
   "cell_type": "code",
   "execution_count": 72,
   "metadata": {},
   "outputs": [
    {
     "name": "stdout",
     "output_type": "stream",
     "text": [
      "(62500, 30110)\n"
     ]
    }
   ],
   "source": [
    "# create the transform\n",
    "vectorizer = CountVectorizer()\n",
    "# tokenize and build vocab\n",
    "vectorizer.fit(X_train_data['CleanedText'].values)\n",
    "# Bag of Words : Train Data Set\n",
    "Train_X_vector = vectorizer.transform(X_train_data['CleanedText'].values)\n",
    "# summarize encoded vector\n",
    "print(Train_X_vector.shape)"
   ]
  },
  {
   "cell_type": "code",
   "execution_count": 73,
   "metadata": {},
   "outputs": [
    {
     "name": "stdout",
     "output_type": "stream",
     "text": [
      "(12500, 30110)\n"
     ]
    }
   ],
   "source": [
    "#Test Data Set\n",
    "Test_X_vector = vectorizer.transform(X_test_data['CleanedText'].values)\n",
    "print(Test_X_vector.shape)"
   ]
  },
  {
   "cell_type": "code",
   "execution_count": 74,
   "metadata": {
    "scrolled": true
   },
   "outputs": [
    {
     "name": "stdout",
     "output_type": "stream",
     "text": [
      "(62500, 30110)\n",
      "(12500, 30110)\n",
      "-------------------\n",
      "(62500L,)\n",
      "(12500L,)\n"
     ]
    }
   ],
   "source": [
    "print(Train_X_vector.shape)\n",
    "print(Test_X_vector.shape)\n",
    "print('-------------------')\n",
    "print(Y_train.shape)\n",
    "print(Y_test.shape)"
   ]
  },
  {
   "cell_type": "code",
   "execution_count": 75,
   "metadata": {
    "collapsed": true
   },
   "outputs": [],
   "source": [
    "# 10 fold Cross Validation\n",
    "cv_scores=[]\n",
    "Params = list(np.arange(0.1,1,0.01))\n",
    "\n",
    "for a in Params:\n",
    "    nb = MultinomialNB(alpha=a)\n",
    "    scores = cross_val_score(nb, Train_X_vector, Y_train, cv=10, scoring='accuracy')\n",
    "    cv_scores.append(scores.mean())\n",
    "\n",
    "# changing to misclassification error\n",
    "MSE = [1 - x for x in cv_scores]"
   ]
  },
  {
   "cell_type": "code",
   "execution_count": 76,
   "metadata": {},
   "outputs": [
    {
     "name": "stdout",
     "output_type": "stream",
     "text": [
      "\n",
      "The optimal alpha is 0.990\n"
     ]
    }
   ],
   "source": [
    "# determining best k\n",
    "optimal_alpha = Params[MSE.index(min(MSE))]\n",
    "print('\\nThe optimal alpha is %0.3f' % optimal_alpha)"
   ]
  },
  {
   "cell_type": "code",
   "execution_count": 77,
   "metadata": {},
   "outputs": [
    {
     "data": {
      "image/png": "[encoded data removed]",
      "text/plain": [
       "<matplotlib.figure.Figure at 0x6bbb3898>"
      ]
     },
     "metadata": {},
     "output_type": "display_data"
    },
    {
     "name": "stdout",
     "output_type": "stream",
     "text": [
      "('the misclassification error for each Alpha value is : ', array([ 0.1115,  0.1114,  0.1112,  0.1109,  0.1111,  0.1111,  0.1112,\n",
      "        0.1113,  0.1113,  0.1113,  0.1112,  0.1112,  0.1111,  0.1111,\n",
      "        0.1109,  0.1109,  0.1107,  0.1108,  0.1106,  0.1105,  0.1104,\n",
      "        0.1104,  0.1102,  0.1101,  0.1101,  0.1099,  0.1098,  0.1096,\n",
      "        0.1094,  0.1093,  0.1092,  0.1091,  0.109 ,  0.1088,  0.1088,\n",
      "        0.1087,  0.1085,  0.1082,  0.1081,  0.108 ,  0.108 ,  0.1078,\n",
      "        0.1078,  0.1076,  0.1074,  0.1073,  0.1071,  0.107 ,  0.107 ,\n",
      "        0.107 ,  0.107 ,  0.107 ,  0.1069,  0.1069,  0.1067,  0.1065,\n",
      "        0.1065,  0.1063,  0.1062,  0.1063,  0.106 ,  0.1059,  0.1058,\n",
      "        0.1058,  0.1057,  0.1054,  0.1052,  0.105 ,  0.105 ,  0.105 ,\n",
      "        0.105 ,  0.1049,  0.1049,  0.1048,  0.1047,  0.1047,  0.1046,\n",
      "        0.1045,  0.1044,  0.1043,  0.1042,  0.104 ,  0.104 ,  0.1039,\n",
      "        0.1037,  0.1036,  0.1034,  0.1033,  0.1032,  0.1032]))\n"
     ]
    }
   ],
   "source": [
    "# plot misclassification error vs k \n",
    "plt.plot(Params, MSE)\n",
    "\n",
    "plt.xlabel('Alpha Parameters')\n",
    "plt.ylabel('Misclassification Error')\n",
    "plt.show()\n",
    "\n",
    "print(\"the misclassification error for each Alpha value is : \", np.round(MSE,4))\n"
   ]
  },
  {
   "cell_type": "code",
   "execution_count": 78,
   "metadata": {},
   "outputs": [
    {
     "name": "stdout",
     "output_type": "stream",
     "text": [
      "\n",
      "The accuracy of the Naive Bayes Classifier for Alpha = 0.990 is 85.10%\n"
     ]
    }
   ],
   "source": [
    "nb = BernoulliNB(alpha=optimal_alpha)\n",
    "nb.fit(Train_X_vector,Y_train)\n",
    "pred = nb.predict(Test_X_vector)\n",
    "nb.predict_proba(Test_X_vector)\n",
    "bag_test_acc = accuracy_score(Y_test, pred, normalize=True) * float(100)\n",
    "print('\\nThe accuracy of the Naive Bayes Classifier for Alpha = %0.3f is %0.2f%%' % (optimal_alpha, bag_test_acc))\n",
    "#print('\\n****Test accuracy for Alpha = 0.990 is %0.2f%%' % (bag_test_acc))"
   ]
  },
  {
   "cell_type": "code",
   "execution_count": 79,
   "metadata": {
    "collapsed": true
   },
   "outputs": [],
   "source": [
    "# Getting top Features using feature_log_prob\n",
    "neg=np.take(vectorizer.get_feature_names(), (nb.feature_log_prob_[0, :].argsort())[:20]).tolist()\n",
    "pos=np.take(vectorizer.get_feature_names(), (nb.feature_log_prob_[1, :].argsort())[:20]).tolist()"
   ]
  },
  {
   "cell_type": "code",
   "execution_count": 80,
   "metadata": {
    "collapsed": true
   },
   "outputs": [],
   "source": [
    "# Getting top Features using feature_count\n",
    "def takefeature(elem):\n",
    "    return elem[0]\n",
    "def important_features(vectorizer,classifier,n=20):\n",
    "    class_labels = classifier.classes_\n",
    "    feature_names =vectorizer.get_feature_names()\n",
    "    topn_class1 = sorted(zip(classifier.feature_count_[0], feature_names),key=takefeature,reverse=True)[:n]\n",
    "    topn_class2 = sorted(zip(classifier.feature_count_[1], feature_names),key=takefeature,reverse=True)[:n]\n",
    "    return topn_class1,topn_class2"
   ]
  },
  {
   "cell_type": "code",
   "execution_count": 81,
   "metadata": {
    "collapsed": true
   },
   "outputs": [],
   "source": [
    "neg_bw,pos_bw=important_features(vectorizer,nb,n=20)"
   ]
  },
  {
   "cell_type": "code",
   "execution_count": 82,
   "metadata": {
    "collapsed": true
   },
   "outputs": [],
   "source": [
    "Conf_matrix=confusion_matrix(Y_test, pred)"
   ]
  },
  {
   "cell_type": "code",
   "execution_count": 83,
   "metadata": {
    "collapsed": true
   },
   "outputs": [],
   "source": [
    "import numpy as np\n",
    "\n",
    "\n",
    "def plot_confusion_matrix(cm,\n",
    "                          target_names,\n",
    "                          title='Confusion matrix',\n",
    "                          cmap=None,\n",
    "                          normalize=True):\n",
    "\n",
    "    import matplotlib.pyplot as plt\n",
    "    import numpy as np\n",
    "    import itertools\n",
    "\n",
    "    accuracy = np.trace(cm) / float(np.sum(cm))\n",
    "    misclass = 1 - accuracy\n",
    "\n",
    "    if cmap is None:\n",
    "        cmap = plt.get_cmap('Blues')\n",
    "\n",
    "    plt.figure(figsize=(8, 6))\n",
    "    plt.imshow(cm, interpolation='nearest', cmap=cmap)\n",
    "    plt.title(title)\n",
    "    plt.colorbar()\n",
    "\n",
    "    if target_names is not None:\n",
    "        tick_marks = np.arange(len(target_names))\n",
    "        plt.xticks(tick_marks, target_names, rotation=45)\n",
    "        plt.yticks(tick_marks, target_names)\n",
    "\n",
    "    if normalize:\n",
    "        cm = cm.astype('float') / cm.sum(axis=1)[:, np.newaxis]\n",
    "\n",
    "\n",
    "    thresh = cm.max() / 1.5 if normalize else cm.max() / 2\n",
    "    for i, j in itertools.product(range(cm.shape[0]), range(cm.shape[1])):\n",
    "        if normalize:\n",
    "            plt.text(j, i, \"{:0.4f}\".format(cm[i, j]),\n",
    "                     horizontalalignment=\"center\",\n",
    "                     color=\"white\" if cm[i, j] > thresh else \"black\")\n",
    "        else:\n",
    "            plt.text(j, i, \"{:,}\".format(cm[i, j]),\n",
    "                     horizontalalignment=\"center\",\n",
    "                     color=\"white\" if cm[i, j] > thresh else \"black\")\n",
    "\n",
    "\n",
    "    plt.tight_layout()\n",
    "    plt.ylabel('True label')\n",
    "    plt.xlabel('Predicted label\\naccuracy={:0.4f}; misclass={:0.4f}'.format(accuracy, misclass))\n",
    "    plt.show()"
   ]
  },
  {
   "cell_type": "code",
   "execution_count": 84,
   "metadata": {},
   "outputs": [
    {
     "data": {
      "image/png": "[encoded data removed]",
      "text/plain": [
       "<matplotlib.figure.Figure at 0x12d02b38>"
      ]
     },
     "metadata": {},
     "output_type": "display_data"
    }
   ],
   "source": [
    "plot_confusion_matrix(cm           = Conf_matrix, \n",
    "                      normalize    = False,\n",
    "                      target_names = ['Negative', 'Positive'],\n",
    "                      title        = \"Confusion Matrix\")"
   ]
  },
  {
   "cell_type": "code",
   "execution_count": 85,
   "metadata": {},
   "outputs": [
    {
     "data": {
      "text/plain": [
       "array([[1223, 1145],\n",
       "       [ 717, 9415]])"
      ]
     },
     "execution_count": 85,
     "metadata": {},
     "output_type": "execute_result"
    }
   ],
   "source": [
    "Conf_matrix"
   ]
  },
  {
   "cell_type": "code",
   "execution_count": 86,
   "metadata": {
    "collapsed": true
   },
   "outputs": [],
   "source": [
    "TN,FP,FN,TP = Conf_matrix.ravel()\n",
    "#confusion_matrix(Y_test, pred)"
   ]
  },
  {
   "cell_type": "code",
   "execution_count": 87,
   "metadata": {
    "collapsed": true
   },
   "outputs": [],
   "source": [
    "# Sensitivity, hit rate, recall, or true positive rate\n",
    "TPR ='{0:.2%}'.format(Decimal(TP)/Decimal(TP+FN))\n",
    "# Specificity or true negative rate\n",
    "TNR ='{0:.2%}'.format(Decimal(TN)/Decimal(TN+FP))\n",
    "# Fall out or false positive rate\n",
    "FPR ='{0:.2%}'.format(Decimal(FP)/Decimal(FP+TN))\n",
    "# False negative rate\n",
    "FNR ='{0:.2%}'.format(Decimal(FN)/Decimal(TP+FN))\n",
    "# Precision or positive predictive value\n",
    "PPV ='{0:.2%}'.format(Decimal(TP)/Decimal(TP+FP))\n",
    "# Negative predictive value\n",
    "NPV ='{0:.2%}'.format(Decimal(TN)/Decimal(TN+FN))\n",
    "# Overall accuracy\n",
    "ACC ='{0:.2%}'.format(Decimal(TP+TN)/Decimal(TP+FP+FN+TN))"
   ]
  },
  {
   "cell_type": "code",
   "execution_count": 88,
   "metadata": {
    "collapsed": true
   },
   "outputs": [],
   "source": [
    "Recall=recall_score(Y_test, pred, average='micro') "
   ]
  },
  {
   "cell_type": "code",
   "execution_count": 89,
   "metadata": {
    "collapsed": true
   },
   "outputs": [],
   "source": [
    "Precision=precision_score(Y_test, pred, average='micro')"
   ]
  },
  {
   "cell_type": "code",
   "execution_count": 90,
   "metadata": {
    "collapsed": true
   },
   "outputs": [],
   "source": [
    "F1_Score=f1_score(Y_test, pred, average='weighted')"
   ]
  },
  {
   "cell_type": "code",
   "execution_count": 91,
   "metadata": {},
   "outputs": [
    {
     "data": {
      "text/html": [
       "<div>\n",
       "<style>\n",
       "    .dataframe thead tr:only-child th {\n",
       "        text-align: right;\n",
       "    }\n",
       "\n",
       "    .dataframe thead th {\n",
       "        text-align: left;\n",
       "    }\n",
       "\n",
       "    .dataframe tbody tr th {\n",
       "        vertical-align: top;\n",
       "    }\n",
       "</style>\n",
       "<table border=\"1\" class=\"dataframe\">\n",
       "  <thead>\n",
       "    <tr style=\"text-align: right;\">\n",
       "      <th>Predicted</th>\n",
       "      <th>negative</th>\n",
       "      <th>positive</th>\n",
       "      <th>All</th>\n",
       "    </tr>\n",
       "    <tr>\n",
       "      <th>True</th>\n",
       "      <th></th>\n",
       "      <th></th>\n",
       "      <th></th>\n",
       "    </tr>\n",
       "  </thead>\n",
       "  <tbody>\n",
       "    <tr>\n",
       "      <th>negative</th>\n",
       "      <td>1223</td>\n",
       "      <td>1145</td>\n",
       "      <td>2368</td>\n",
       "    </tr>\n",
       "    <tr>\n",
       "      <th>positive</th>\n",
       "      <td>717</td>\n",
       "      <td>9415</td>\n",
       "      <td>10132</td>\n",
       "    </tr>\n",
       "    <tr>\n",
       "      <th>All</th>\n",
       "      <td>1940</td>\n",
       "      <td>10560</td>\n",
       "      <td>12500</td>\n",
       "    </tr>\n",
       "  </tbody>\n",
       "</table>\n",
       "</div>"
      ],
      "text/plain": [
       "Predicted  negative  positive    All\n",
       "True                                \n",
       "negative       1223      1145   2368\n",
       "positive        717      9415  10132\n",
       "All            1940     10560  12500"
      ]
     },
     "execution_count": 91,
     "metadata": {},
     "output_type": "execute_result"
    }
   ],
   "source": [
    "pd.crosstab(Y_test, pred, rownames=['True'], colnames=['Predicted'], margins=True)"
   ]
  },
  {
   "cell_type": "code",
   "execution_count": 92,
   "metadata": {
    "collapsed": true
   },
   "outputs": [],
   "source": [
    "Pretty.add_row([\"Bag of Words\",\"10 fold - Cross Validation\",optimal_alpha,TPR,TNR,'{0:.2f}'.format(Precision),'{0:.2f}'.format(Recall),'{0:.2f}'.format(F1_Score),FPR,FNR,PPV,NPV,ACC])"
   ]
  },
  {
   "cell_type": "code",
   "execution_count": 93,
   "metadata": {},
   "outputs": [
    {
     "name": "stdout",
     "output_type": "stream",
     "text": [
      "|    Model     |         Algorithm          |  K   |  TPR   |  TNR   | Precision | Recall | F1-Score |  FPR   |  FNR  |  PPV   |  NPV   | Overall Accuracy (ACC) |\n",
      "| Bag of Words | 10 fold - Cross Validation | 0.99 | 92.92% | 51.65% |    0.85   |  0.85  |   0.85   | 48.35% | 7.08% | 89.16% | 63.04% |         85.10%         |\n"
     ]
    }
   ],
   "source": [
    "print(Pretty)"
   ]
  },
  {
   "cell_type": "code",
   "execution_count": 94,
   "metadata": {},
   "outputs": [
    {
     "name": "stdout",
     "output_type": "stream",
     "text": [
      "             precision    recall  f1-score   support\n",
      "\n",
      "   negative       0.63      0.52      0.57      2368\n",
      "   positive       0.89      0.93      0.91     10132\n",
      "\n",
      "avg / total       0.84      0.85      0.85     12500\n",
      "\n"
     ]
    }
   ],
   "source": [
    "print(classification_report(Y_test, pred))  "
   ]
  },
  {
   "cell_type": "markdown",
   "metadata": {},
   "source": [
    "## TF - IDF"
   ]
  },
  {
   "cell_type": "code",
   "execution_count": 95,
   "metadata": {},
   "outputs": [
    {
     "data": {
      "text/plain": [
       "(62500, 885097)"
      ]
     },
     "execution_count": 95,
     "metadata": {},
     "output_type": "execute_result"
    }
   ],
   "source": [
    "tf_transformer = TfidfVectorizer(ngram_range=(1,2))\n",
    "TF_vector=tf_transformer.fit(X_train_data['CleanedText'].values)\n",
    "TF_train_Vector = TF_vector.transform(X_train_data['CleanedText'].values)\n",
    "TF_train_Vector.shape"
   ]
  },
  {
   "cell_type": "code",
   "execution_count": 96,
   "metadata": {},
   "outputs": [
    {
     "data": {
      "text/plain": [
       "(12500, 885097)"
      ]
     },
     "execution_count": 96,
     "metadata": {},
     "output_type": "execute_result"
    }
   ],
   "source": [
    "TF_test_Vector = TF_vector.transform(X_test_data['CleanedText'].values)\n",
    "TF_test_Vector.shape"
   ]
  },
  {
   "cell_type": "code",
   "execution_count": 97,
   "metadata": {},
   "outputs": [
    {
     "name": "stdout",
     "output_type": "stream",
     "text": [
      "(62500, 885097)\n",
      "(12500, 885097)\n",
      "-------------------\n",
      "(62500L,)\n",
      "(12500L,)\n"
     ]
    }
   ],
   "source": [
    "print(TF_train_Vector.shape)\n",
    "print(TF_test_Vector.shape)\n",
    "print('-------------------')\n",
    "print(Y_train.shape)\n",
    "print(Y_test.shape)"
   ]
  },
  {
   "cell_type": "code",
   "execution_count": 98,
   "metadata": {
    "collapsed": true
   },
   "outputs": [],
   "source": [
    "# 10 fold Cross Validation\n",
    "cv_scores=[]\n",
    "Params = list(np.arange(0.1,1,0.01))\n",
    "\n",
    "for a in Params:\n",
    "    nb = MultinomialNB(alpha=a)\n",
    "    scores = cross_val_score(nb, TF_train_Vector, Y_train, cv=10, scoring='accuracy')\n",
    "    cv_scores.append(scores.mean())\n",
    "\n",
    "# changing to misclassification error\n",
    "MSE = [1 - x for x in cv_scores]"
   ]
  },
  {
   "cell_type": "code",
   "execution_count": 99,
   "metadata": {},
   "outputs": [
    {
     "name": "stdout",
     "output_type": "stream",
     "text": [
      "\n",
      "The optimal alpha is 0.100\n"
     ]
    }
   ],
   "source": [
    "# determining best k\n",
    "optimal_alpha = Params[MSE.index(min(MSE))]\n",
    "print('\\nThe optimal alpha is %0.3f' % optimal_alpha)"
   ]
  },
  {
   "cell_type": "code",
   "execution_count": 100,
   "metadata": {},
   "outputs": [
    {
     "data": {
      "image/png": "[encoded data removed]",
      "text/plain": [
       "<matplotlib.figure.Figure at 0x47f77be0>"
      ]
     },
     "metadata": {},
     "output_type": "display_data"
    },
    {
     "name": "stdout",
     "output_type": "stream",
     "text": [
      "('the misclassification error for each Alpha value is : ', array([ 0.1113,  0.1144,  0.1169,  0.1201,  0.1223,  0.1244,  0.1264,\n",
      "        0.1285,  0.1301,  0.1314,  0.1328,  0.1336,  0.1347,  0.1354,\n",
      "        0.136 ,  0.1365,  0.1371,  0.1376,  0.138 ,  0.1383,  0.1384,\n",
      "        0.1385,  0.1387,  0.1388,  0.1388,  0.1389,  0.1389,  0.139 ,\n",
      "        0.139 ,  0.139 ,  0.139 ,  0.1391,  0.1391,  0.1391,  0.1391,\n",
      "        0.1391,  0.1391,  0.1391,  0.1391,  0.1391,  0.1391,  0.1391,\n",
      "        0.1391,  0.1391,  0.1391,  0.1391,  0.1391,  0.1391,  0.1391,\n",
      "        0.1391,  0.1391,  0.1391,  0.1391,  0.1391,  0.1391,  0.1391,\n",
      "        0.1391,  0.1391,  0.1391,  0.1391,  0.1391,  0.1391,  0.1391,\n",
      "        0.1391,  0.1391,  0.1391,  0.1391,  0.1391,  0.1391,  0.1391,\n",
      "        0.1391,  0.1391,  0.1391,  0.1391,  0.1391,  0.1391,  0.1391,\n",
      "        0.1391,  0.1391,  0.1391,  0.1391,  0.1391,  0.1391,  0.1391,\n",
      "        0.1391,  0.1391,  0.1391,  0.1391,  0.1391,  0.1391]))\n"
     ]
    }
   ],
   "source": [
    "# plot misclassification error vs k \n",
    "plt.plot(Params, MSE)\n",
    "\n",
    "plt.xlabel('Alpha Parameters')\n",
    "plt.ylabel('Misclassification Error')\n",
    "plt.show()\n",
    "\n",
    "print(\"the misclassification error for each Alpha value is : \", np.round(MSE,4))\n"
   ]
  },
  {
   "cell_type": "code",
   "execution_count": 101,
   "metadata": {},
   "outputs": [
    {
     "name": "stdout",
     "output_type": "stream",
     "text": [
      "\n",
      "The accuracy of the Naive Bayes Classifier for Alpha = 0.100 is 88.02%\n"
     ]
    }
   ],
   "source": [
    "nb = BernoulliNB(alpha=optimal_alpha)\n",
    "nb.fit(TF_train_Vector,Y_train)\n",
    "pred = nb.predict(TF_test_Vector)\n",
    "nb.predict_proba(TF_test_Vector)\n",
    "bag_test_acc = accuracy_score(Y_test, pred, normalize=True) * float(100)\n",
    "print('\\nThe accuracy of the Naive Bayes Classifier for Alpha = %0.3f is %0.2f%%' % (optimal_alpha, bag_test_acc))"
   ]
  },
  {
   "cell_type": "code",
   "execution_count": 102,
   "metadata": {
    "collapsed": true
   },
   "outputs": [],
   "source": [
    "# Getting top Features using feature_log_prob\n",
    "neg=np.take(tf_transformer.get_feature_names(), (nb.feature_log_prob_[0, :].argsort())[:20]).tolist()\n",
    "pos=np.take(tf_transformer.get_feature_names(), (nb.feature_log_prob_[1, :].argsort())[:20]).tolist()"
   ]
  },
  {
   "cell_type": "code",
   "execution_count": 103,
   "metadata": {
    "collapsed": true
   },
   "outputs": [],
   "source": [
    "# Getting top Features using feature_count\n",
    "def takefeature(elem):\n",
    "    return elem[0]\n",
    "def important_features(vectorizer,classifier,n=20):\n",
    "    class_labels = classifier.classes_\n",
    "    feature_names =vectorizer.get_feature_names()\n",
    "    topn_class1 = sorted(zip(classifier.feature_count_[0], feature_names),key=takefeature,reverse=True)[:n]\n",
    "    topn_class2 = sorted(zip(classifier.feature_count_[1], feature_names),key=takefeature,reverse=True)[:n]\n",
    "    return topn_class1,topn_class2"
   ]
  },
  {
   "cell_type": "code",
   "execution_count": 104,
   "metadata": {
    "collapsed": true
   },
   "outputs": [],
   "source": [
    "neg_tf,pos_tf=important_features(tf_transformer,nb,n=20)"
   ]
  },
  {
   "cell_type": "code",
   "execution_count": 105,
   "metadata": {
    "collapsed": true
   },
   "outputs": [],
   "source": [
    "Conf_matrix=confusion_matrix(Y_test, pred)"
   ]
  },
  {
   "cell_type": "code",
   "execution_count": 106,
   "metadata": {},
   "outputs": [
    {
     "data": {
      "text/plain": [
       "array([[1049, 1319],\n",
       "       [ 179, 9953]])"
      ]
     },
     "execution_count": 106,
     "metadata": {},
     "output_type": "execute_result"
    }
   ],
   "source": [
    "Conf_matrix"
   ]
  },
  {
   "cell_type": "code",
   "execution_count": 107,
   "metadata": {},
   "outputs": [
    {
     "data": {
      "image/png": "[encoded data removed]",
      "text/plain": [
       "<matplotlib.figure.Figure at 0x2aa672e8>"
      ]
     },
     "metadata": {},
     "output_type": "display_data"
    }
   ],
   "source": [
    "plot_confusion_matrix(cm           = Conf_matrix, \n",
    "                      normalize    = False,\n",
    "                      target_names = ['Negative', 'Positive'],\n",
    "                      title        = \"Confusion Matrix\")"
   ]
  },
  {
   "cell_type": "code",
   "execution_count": 108,
   "metadata": {
    "collapsed": true
   },
   "outputs": [],
   "source": [
    "TN,FP,FN,TP = Conf_matrix.ravel()\n",
    "#confusion_matrix(Y_test, pred)"
   ]
  },
  {
   "cell_type": "code",
   "execution_count": 109,
   "metadata": {
    "collapsed": true
   },
   "outputs": [],
   "source": [
    "# Sensitivity, hit rate, recall, or true positive rate\n",
    "TPR ='{0:.2%}'.format(Decimal(TP)/Decimal(TP+FN))\n",
    "# Specificity or true negative rate\n",
    "TNR ='{0:.2%}'.format(Decimal(TN)/Decimal(TN+FP))\n",
    "# Fall out or false positive rate\n",
    "FPR ='{0:.2%}'.format(Decimal(FP)/Decimal(FP+TN))\n",
    "# False negative rate\n",
    "FNR ='{0:.2%}'.format(Decimal(FN)/Decimal(TP+FN))\n",
    "# Precision or positive predictive value\n",
    "PPV ='{0:.2%}'.format(Decimal(TP)/Decimal(TP+FP))\n",
    "# Negative predictive value\n",
    "NPV ='{0:.2%}'.format(Decimal(TN)/Decimal(TN+FN))\n",
    "# Overall accuracy\n",
    "ACC ='{0:.2%}'.format(Decimal(TP+TN)/Decimal(TP+FP+FN+TN))"
   ]
  },
  {
   "cell_type": "code",
   "execution_count": 110,
   "metadata": {
    "collapsed": true
   },
   "outputs": [],
   "source": [
    "Recall=recall_score(Y_test, pred, average='micro') "
   ]
  },
  {
   "cell_type": "code",
   "execution_count": 111,
   "metadata": {
    "collapsed": true
   },
   "outputs": [],
   "source": [
    "Precision=precision_score(Y_test, pred, average='micro')"
   ]
  },
  {
   "cell_type": "code",
   "execution_count": 112,
   "metadata": {
    "collapsed": true
   },
   "outputs": [],
   "source": [
    "F1_Score=f1_score(Y_test, pred, average='weighted')"
   ]
  },
  {
   "cell_type": "code",
   "execution_count": 113,
   "metadata": {},
   "outputs": [
    {
     "data": {
      "text/html": [
       "<div>\n",
       "<style>\n",
       "    .dataframe thead tr:only-child th {\n",
       "        text-align: right;\n",
       "    }\n",
       "\n",
       "    .dataframe thead th {\n",
       "        text-align: left;\n",
       "    }\n",
       "\n",
       "    .dataframe tbody tr th {\n",
       "        vertical-align: top;\n",
       "    }\n",
       "</style>\n",
       "<table border=\"1\" class=\"dataframe\">\n",
       "  <thead>\n",
       "    <tr style=\"text-align: right;\">\n",
       "      <th>Predicted</th>\n",
       "      <th>negative</th>\n",
       "      <th>positive</th>\n",
       "      <th>All</th>\n",
       "    </tr>\n",
       "    <tr>\n",
       "      <th>True</th>\n",
       "      <th></th>\n",
       "      <th></th>\n",
       "      <th></th>\n",
       "    </tr>\n",
       "  </thead>\n",
       "  <tbody>\n",
       "    <tr>\n",
       "      <th>negative</th>\n",
       "      <td>1049</td>\n",
       "      <td>1319</td>\n",
       "      <td>2368</td>\n",
       "    </tr>\n",
       "    <tr>\n",
       "      <th>positive</th>\n",
       "      <td>179</td>\n",
       "      <td>9953</td>\n",
       "      <td>10132</td>\n",
       "    </tr>\n",
       "    <tr>\n",
       "      <th>All</th>\n",
       "      <td>1228</td>\n",
       "      <td>11272</td>\n",
       "      <td>12500</td>\n",
       "    </tr>\n",
       "  </tbody>\n",
       "</table>\n",
       "</div>"
      ],
      "text/plain": [
       "Predicted  negative  positive    All\n",
       "True                                \n",
       "negative       1049      1319   2368\n",
       "positive        179      9953  10132\n",
       "All            1228     11272  12500"
      ]
     },
     "execution_count": 113,
     "metadata": {},
     "output_type": "execute_result"
    }
   ],
   "source": [
    "pd.crosstab(Y_test, pred, rownames=['True'], colnames=['Predicted'], margins=True)"
   ]
  },
  {
   "cell_type": "code",
   "execution_count": 114,
   "metadata": {
    "collapsed": true
   },
   "outputs": [],
   "source": [
    "Pretty.add_row([\"TF - IDF\",\"10 fold - Cross Validation\",optimal_alpha,TPR,TNR,'{0:.2f}'.format(Precision),'{0:.2f}'.format(Recall),'{0:.2f}'.format(F1_Score),FPR,FNR,PPV,NPV,ACC])"
   ]
  },
  {
   "cell_type": "code",
   "execution_count": 115,
   "metadata": {},
   "outputs": [
    {
     "name": "stdout",
     "output_type": "stream",
     "text": [
      "             precision    recall  f1-score   support\n",
      "\n",
      "   negative       0.85      0.44      0.58      2368\n",
      "   positive       0.88      0.98      0.93     10132\n",
      "\n",
      "avg / total       0.88      0.88      0.86     12500\n",
      "\n"
     ]
    }
   ],
   "source": [
    "print(classification_report(Y_test, pred))  "
   ]
  },
  {
   "cell_type": "code",
   "execution_count": 116,
   "metadata": {},
   "outputs": [
    {
     "name": "stdout",
     "output_type": "stream",
     "text": [
      "|    Model     |         Algorithm          |  K   |  TPR   |  TNR   | Precision | Recall | F1-Score |  FPR   |  FNR  |  PPV   |  NPV   | Overall Accuracy (ACC) |\n",
      "| Bag of Words | 10 fold - Cross Validation | 0.99 | 92.92% | 51.65% |    0.85   |  0.85  |   0.85   | 48.35% | 7.08% | 89.16% | 63.04% |         85.10%         |\n",
      "|   TF - IDF   | 10 fold - Cross Validation | 0.1  | 98.23% | 44.30% |    0.88   |  0.88  |   0.86   | 55.70% | 1.77% | 88.30% | 85.42% |         88.02%         |\n"
     ]
    }
   ],
   "source": [
    "print(Pretty)"
   ]
  },
  {
   "cell_type": "code",
   "execution_count": 120,
   "metadata": {},
   "outputs": [
    {
     "name": "stdout",
     "output_type": "stream",
     "text": [
      "Top 20 Impotant Positive Features Identied using feature_count_\n"
     ]
    }
   ],
   "source": [
    "print 'Top 20 Impotant Positive Features Identied using feature_count_'"
   ]
  },
  {
   "cell_type": "code",
   "execution_count": 161,
   "metadata": {},
   "outputs": [],
   "source": [
    "Features = pd.DataFrame({'Class':[],'Model':[],'Feature Counts' : [], 'Feature':[]})\n",
    "for each in pos_bw:\n",
    "    Features = Features.append({'Class':'Positive','Model':'Bag of Words','Feature Counts': each[0],'Feature':each[1]}, ignore_index=True) \n",
    "for each in neg_bw:\n",
    "    Features = Features.append({'Class':'Negative','Model':'Bag of Words','Feature Counts': each[0],'Feature':each[1]}, ignore_index=True) \n",
    "for each in pos_tf:\n",
    "    Features = Features.append({'Class':'Positive','Model':'TF - IDF','Feature Counts': each[0],'Feature':each[1]}, ignore_index=True) \n",
    "for each in pos_tf:\n",
    "    Features = Features.append({'Class':'Negative','Model':'TF - IDF','Feature Counts': each[0],'Feature':each[1]}, ignore_index=True) "
   ]
  },
  {
   "cell_type": "code",
   "execution_count": 162,
   "metadata": {},
   "outputs": [
    {
     "data": {
      "text/html": [
       "<div>\n",
       "<style>\n",
       "    .dataframe thead tr:only-child th {\n",
       "        text-align: right;\n",
       "    }\n",
       "\n",
       "    .dataframe thead th {\n",
       "        text-align: left;\n",
       "    }\n",
       "\n",
       "    .dataframe tbody tr th {\n",
       "        vertical-align: top;\n",
       "    }\n",
       "</style>\n",
       "<table border=\"1\" class=\"dataframe\">\n",
       "  <thead>\n",
       "    <tr style=\"text-align: right;\">\n",
       "      <th></th>\n",
       "      <th>Class</th>\n",
       "      <th>Feature</th>\n",
       "      <th>Feature Counts</th>\n",
       "      <th>Model</th>\n",
       "    </tr>\n",
       "  </thead>\n",
       "  <tbody>\n",
       "    <tr>\n",
       "      <th>0</th>\n",
       "      <td>Positive</td>\n",
       "      <td>like</td>\n",
       "      <td>15110.0</td>\n",
       "      <td>Bag of Words</td>\n",
       "    </tr>\n",
       "    <tr>\n",
       "      <th>1</th>\n",
       "      <td>Positive</td>\n",
       "      <td>tast</td>\n",
       "      <td>14851.0</td>\n",
       "      <td>Bag of Words</td>\n",
       "    </tr>\n",
       "    <tr>\n",
       "      <th>2</th>\n",
       "      <td>Positive</td>\n",
       "      <td>love</td>\n",
       "      <td>14716.0</td>\n",
       "      <td>Bag of Words</td>\n",
       "    </tr>\n",
       "    <tr>\n",
       "      <th>3</th>\n",
       "      <td>Positive</td>\n",
       "      <td>great</td>\n",
       "      <td>14525.0</td>\n",
       "      <td>Bag of Words</td>\n",
       "    </tr>\n",
       "    <tr>\n",
       "      <th>4</th>\n",
       "      <td>Positive</td>\n",
       "      <td>good</td>\n",
       "      <td>14238.0</td>\n",
       "      <td>Bag of Words</td>\n",
       "    </tr>\n",
       "    <tr>\n",
       "      <th>5</th>\n",
       "      <td>Positive</td>\n",
       "      <td>use</td>\n",
       "      <td>12339.0</td>\n",
       "      <td>Bag of Words</td>\n",
       "    </tr>\n",
       "    <tr>\n",
       "      <th>6</th>\n",
       "      <td>Positive</td>\n",
       "      <td>one</td>\n",
       "      <td>11805.0</td>\n",
       "      <td>Bag of Words</td>\n",
       "    </tr>\n",
       "    <tr>\n",
       "      <th>7</th>\n",
       "      <td>Positive</td>\n",
       "      <td>flavor</td>\n",
       "      <td>11427.0</td>\n",
       "      <td>Bag of Words</td>\n",
       "    </tr>\n",
       "    <tr>\n",
       "      <th>8</th>\n",
       "      <td>Positive</td>\n",
       "      <td>product</td>\n",
       "      <td>10955.0</td>\n",
       "      <td>Bag of Words</td>\n",
       "    </tr>\n",
       "    <tr>\n",
       "      <th>9</th>\n",
       "      <td>Positive</td>\n",
       "      <td>tri</td>\n",
       "      <td>10884.0</td>\n",
       "      <td>Bag of Words</td>\n",
       "    </tr>\n",
       "    <tr>\n",
       "      <th>10</th>\n",
       "      <td>Positive</td>\n",
       "      <td>make</td>\n",
       "      <td>10573.0</td>\n",
       "      <td>Bag of Words</td>\n",
       "    </tr>\n",
       "    <tr>\n",
       "      <th>11</th>\n",
       "      <td>Positive</td>\n",
       "      <td>get</td>\n",
       "      <td>9508.0</td>\n",
       "      <td>Bag of Words</td>\n",
       "    </tr>\n",
       "    <tr>\n",
       "      <th>12</th>\n",
       "      <td>Positive</td>\n",
       "      <td>time</td>\n",
       "      <td>8144.0</td>\n",
       "      <td>Bag of Words</td>\n",
       "    </tr>\n",
       "    <tr>\n",
       "      <th>13</th>\n",
       "      <td>Positive</td>\n",
       "      <td>best</td>\n",
       "      <td>7836.0</td>\n",
       "      <td>Bag of Words</td>\n",
       "    </tr>\n",
       "    <tr>\n",
       "      <th>14</th>\n",
       "      <td>Positive</td>\n",
       "      <td>find</td>\n",
       "      <td>7595.0</td>\n",
       "      <td>Bag of Words</td>\n",
       "    </tr>\n",
       "    <tr>\n",
       "      <th>15</th>\n",
       "      <td>Positive</td>\n",
       "      <td>buy</td>\n",
       "      <td>7519.0</td>\n",
       "      <td>Bag of Words</td>\n",
       "    </tr>\n",
       "    <tr>\n",
       "      <th>16</th>\n",
       "      <td>Positive</td>\n",
       "      <td>tea</td>\n",
       "      <td>7343.0</td>\n",
       "      <td>Bag of Words</td>\n",
       "    </tr>\n",
       "    <tr>\n",
       "      <th>17</th>\n",
       "      <td>Positive</td>\n",
       "      <td>eat</td>\n",
       "      <td>7065.0</td>\n",
       "      <td>Bag of Words</td>\n",
       "    </tr>\n",
       "    <tr>\n",
       "      <th>18</th>\n",
       "      <td>Positive</td>\n",
       "      <td>amazon</td>\n",
       "      <td>7042.0</td>\n",
       "      <td>Bag of Words</td>\n",
       "    </tr>\n",
       "    <tr>\n",
       "      <th>19</th>\n",
       "      <td>Positive</td>\n",
       "      <td>realli</td>\n",
       "      <td>6936.0</td>\n",
       "      <td>Bag of Words</td>\n",
       "    </tr>\n",
       "    <tr>\n",
       "      <th>20</th>\n",
       "      <td>Negative</td>\n",
       "      <td>like</td>\n",
       "      <td>3022.0</td>\n",
       "      <td>Bag of Words</td>\n",
       "    </tr>\n",
       "    <tr>\n",
       "      <th>21</th>\n",
       "      <td>Negative</td>\n",
       "      <td>tast</td>\n",
       "      <td>2938.0</td>\n",
       "      <td>Bag of Words</td>\n",
       "    </tr>\n",
       "    <tr>\n",
       "      <th>22</th>\n",
       "      <td>Negative</td>\n",
       "      <td>product</td>\n",
       "      <td>2569.0</td>\n",
       "      <td>Bag of Words</td>\n",
       "    </tr>\n",
       "    <tr>\n",
       "      <th>23</th>\n",
       "      <td>Negative</td>\n",
       "      <td>one</td>\n",
       "      <td>2164.0</td>\n",
       "      <td>Bag of Words</td>\n",
       "    </tr>\n",
       "    <tr>\n",
       "      <th>24</th>\n",
       "      <td>Negative</td>\n",
       "      <td>would</td>\n",
       "      <td>1986.0</td>\n",
       "      <td>Bag of Words</td>\n",
       "    </tr>\n",
       "    <tr>\n",
       "      <th>25</th>\n",
       "      <td>Negative</td>\n",
       "      <td>tri</td>\n",
       "      <td>1881.0</td>\n",
       "      <td>Bag of Words</td>\n",
       "    </tr>\n",
       "    <tr>\n",
       "      <th>26</th>\n",
       "      <td>Negative</td>\n",
       "      <td>good</td>\n",
       "      <td>1744.0</td>\n",
       "      <td>Bag of Words</td>\n",
       "    </tr>\n",
       "    <tr>\n",
       "      <th>27</th>\n",
       "      <td>Negative</td>\n",
       "      <td>buy</td>\n",
       "      <td>1706.0</td>\n",
       "      <td>Bag of Words</td>\n",
       "    </tr>\n",
       "    <tr>\n",
       "      <th>28</th>\n",
       "      <td>Negative</td>\n",
       "      <td>get</td>\n",
       "      <td>1595.0</td>\n",
       "      <td>Bag of Words</td>\n",
       "    </tr>\n",
       "    <tr>\n",
       "      <th>29</th>\n",
       "      <td>Negative</td>\n",
       "      <td>flavor</td>\n",
       "      <td>1561.0</td>\n",
       "      <td>Bag of Words</td>\n",
       "    </tr>\n",
       "    <tr>\n",
       "      <th>...</th>\n",
       "      <td>...</td>\n",
       "      <td>...</td>\n",
       "      <td>...</td>\n",
       "      <td>...</td>\n",
       "    </tr>\n",
       "    <tr>\n",
       "      <th>50</th>\n",
       "      <td>Positive</td>\n",
       "      <td>make</td>\n",
       "      <td>10573.0</td>\n",
       "      <td>TF - IDF</td>\n",
       "    </tr>\n",
       "    <tr>\n",
       "      <th>51</th>\n",
       "      <td>Positive</td>\n",
       "      <td>get</td>\n",
       "      <td>9508.0</td>\n",
       "      <td>TF - IDF</td>\n",
       "    </tr>\n",
       "    <tr>\n",
       "      <th>52</th>\n",
       "      <td>Positive</td>\n",
       "      <td>time</td>\n",
       "      <td>8144.0</td>\n",
       "      <td>TF - IDF</td>\n",
       "    </tr>\n",
       "    <tr>\n",
       "      <th>53</th>\n",
       "      <td>Positive</td>\n",
       "      <td>best</td>\n",
       "      <td>7836.0</td>\n",
       "      <td>TF - IDF</td>\n",
       "    </tr>\n",
       "    <tr>\n",
       "      <th>54</th>\n",
       "      <td>Positive</td>\n",
       "      <td>find</td>\n",
       "      <td>7595.0</td>\n",
       "      <td>TF - IDF</td>\n",
       "    </tr>\n",
       "    <tr>\n",
       "      <th>55</th>\n",
       "      <td>Positive</td>\n",
       "      <td>buy</td>\n",
       "      <td>7519.0</td>\n",
       "      <td>TF - IDF</td>\n",
       "    </tr>\n",
       "    <tr>\n",
       "      <th>56</th>\n",
       "      <td>Positive</td>\n",
       "      <td>tea</td>\n",
       "      <td>7343.0</td>\n",
       "      <td>TF - IDF</td>\n",
       "    </tr>\n",
       "    <tr>\n",
       "      <th>57</th>\n",
       "      <td>Positive</td>\n",
       "      <td>eat</td>\n",
       "      <td>7065.0</td>\n",
       "      <td>TF - IDF</td>\n",
       "    </tr>\n",
       "    <tr>\n",
       "      <th>58</th>\n",
       "      <td>Positive</td>\n",
       "      <td>amazon</td>\n",
       "      <td>7042.0</td>\n",
       "      <td>TF - IDF</td>\n",
       "    </tr>\n",
       "    <tr>\n",
       "      <th>59</th>\n",
       "      <td>Positive</td>\n",
       "      <td>realli</td>\n",
       "      <td>6936.0</td>\n",
       "      <td>TF - IDF</td>\n",
       "    </tr>\n",
       "    <tr>\n",
       "      <th>60</th>\n",
       "      <td>Negative</td>\n",
       "      <td>like</td>\n",
       "      <td>15110.0</td>\n",
       "      <td>TF - IDF</td>\n",
       "    </tr>\n",
       "    <tr>\n",
       "      <th>61</th>\n",
       "      <td>Negative</td>\n",
       "      <td>tast</td>\n",
       "      <td>14851.0</td>\n",
       "      <td>TF - IDF</td>\n",
       "    </tr>\n",
       "    <tr>\n",
       "      <th>62</th>\n",
       "      <td>Negative</td>\n",
       "      <td>love</td>\n",
       "      <td>14716.0</td>\n",
       "      <td>TF - IDF</td>\n",
       "    </tr>\n",
       "    <tr>\n",
       "      <th>63</th>\n",
       "      <td>Negative</td>\n",
       "      <td>great</td>\n",
       "      <td>14525.0</td>\n",
       "      <td>TF - IDF</td>\n",
       "    </tr>\n",
       "    <tr>\n",
       "      <th>64</th>\n",
       "      <td>Negative</td>\n",
       "      <td>good</td>\n",
       "      <td>14238.0</td>\n",
       "      <td>TF - IDF</td>\n",
       "    </tr>\n",
       "    <tr>\n",
       "      <th>65</th>\n",
       "      <td>Negative</td>\n",
       "      <td>use</td>\n",
       "      <td>12339.0</td>\n",
       "      <td>TF - IDF</td>\n",
       "    </tr>\n",
       "    <tr>\n",
       "      <th>66</th>\n",
       "      <td>Negative</td>\n",
       "      <td>one</td>\n",
       "      <td>11805.0</td>\n",
       "      <td>TF - IDF</td>\n",
       "    </tr>\n",
       "    <tr>\n",
       "      <th>67</th>\n",
       "      <td>Negative</td>\n",
       "      <td>flavor</td>\n",
       "      <td>11427.0</td>\n",
       "      <td>TF - IDF</td>\n",
       "    </tr>\n",
       "    <tr>\n",
       "      <th>68</th>\n",
       "      <td>Negative</td>\n",
       "      <td>product</td>\n",
       "      <td>10955.0</td>\n",
       "      <td>TF - IDF</td>\n",
       "    </tr>\n",
       "    <tr>\n",
       "      <th>69</th>\n",
       "      <td>Negative</td>\n",
       "      <td>tri</td>\n",
       "      <td>10884.0</td>\n",
       "      <td>TF - IDF</td>\n",
       "    </tr>\n",
       "    <tr>\n",
       "      <th>70</th>\n",
       "      <td>Negative</td>\n",
       "      <td>make</td>\n",
       "      <td>10573.0</td>\n",
       "      <td>TF - IDF</td>\n",
       "    </tr>\n",
       "    <tr>\n",
       "      <th>71</th>\n",
       "      <td>Negative</td>\n",
       "      <td>get</td>\n",
       "      <td>9508.0</td>\n",
       "      <td>TF - IDF</td>\n",
       "    </tr>\n",
       "    <tr>\n",
       "      <th>72</th>\n",
       "      <td>Negative</td>\n",
       "      <td>time</td>\n",
       "      <td>8144.0</td>\n",
       "      <td>TF - IDF</td>\n",
       "    </tr>\n",
       "    <tr>\n",
       "      <th>73</th>\n",
       "      <td>Negative</td>\n",
       "      <td>best</td>\n",
       "      <td>7836.0</td>\n",
       "      <td>TF - IDF</td>\n",
       "    </tr>\n",
       "    <tr>\n",
       "      <th>74</th>\n",
       "      <td>Negative</td>\n",
       "      <td>find</td>\n",
       "      <td>7595.0</td>\n",
       "      <td>TF - IDF</td>\n",
       "    </tr>\n",
       "    <tr>\n",
       "      <th>75</th>\n",
       "      <td>Negative</td>\n",
       "      <td>buy</td>\n",
       "      <td>7519.0</td>\n",
       "      <td>TF - IDF</td>\n",
       "    </tr>\n",
       "    <tr>\n",
       "      <th>76</th>\n",
       "      <td>Negative</td>\n",
       "      <td>tea</td>\n",
       "      <td>7343.0</td>\n",
       "      <td>TF - IDF</td>\n",
       "    </tr>\n",
       "    <tr>\n",
       "      <th>77</th>\n",
       "      <td>Negative</td>\n",
       "      <td>eat</td>\n",
       "      <td>7065.0</td>\n",
       "      <td>TF - IDF</td>\n",
       "    </tr>\n",
       "    <tr>\n",
       "      <th>78</th>\n",
       "      <td>Negative</td>\n",
       "      <td>amazon</td>\n",
       "      <td>7042.0</td>\n",
       "      <td>TF - IDF</td>\n",
       "    </tr>\n",
       "    <tr>\n",
       "      <th>79</th>\n",
       "      <td>Negative</td>\n",
       "      <td>realli</td>\n",
       "      <td>6936.0</td>\n",
       "      <td>TF - IDF</td>\n",
       "    </tr>\n",
       "  </tbody>\n",
       "</table>\n",
       "<p>80 rows × 4 columns</p>\n",
       "</div>"
      ],
      "text/plain": [
       "       Class  Feature  Feature Counts         Model\n",
       "0   Positive     like         15110.0  Bag of Words\n",
       "1   Positive     tast         14851.0  Bag of Words\n",
       "2   Positive     love         14716.0  Bag of Words\n",
       "3   Positive    great         14525.0  Bag of Words\n",
       "4   Positive     good         14238.0  Bag of Words\n",
       "5   Positive      use         12339.0  Bag of Words\n",
       "6   Positive      one         11805.0  Bag of Words\n",
       "7   Positive   flavor         11427.0  Bag of Words\n",
       "8   Positive  product         10955.0  Bag of Words\n",
       "9   Positive      tri         10884.0  Bag of Words\n",
       "10  Positive     make         10573.0  Bag of Words\n",
       "11  Positive      get          9508.0  Bag of Words\n",
       "12  Positive     time          8144.0  Bag of Words\n",
       "13  Positive     best          7836.0  Bag of Words\n",
       "14  Positive     find          7595.0  Bag of Words\n",
       "15  Positive      buy          7519.0  Bag of Words\n",
       "16  Positive      tea          7343.0  Bag of Words\n",
       "17  Positive      eat          7065.0  Bag of Words\n",
       "18  Positive   amazon          7042.0  Bag of Words\n",
       "19  Positive   realli          6936.0  Bag of Words\n",
       "20  Negative     like          3022.0  Bag of Words\n",
       "21  Negative     tast          2938.0  Bag of Words\n",
       "22  Negative  product          2569.0  Bag of Words\n",
       "23  Negative      one          2164.0  Bag of Words\n",
       "24  Negative    would          1986.0  Bag of Words\n",
       "25  Negative      tri          1881.0  Bag of Words\n",
       "26  Negative     good          1744.0  Bag of Words\n",
       "27  Negative      buy          1706.0  Bag of Words\n",
       "28  Negative      get          1595.0  Bag of Words\n",
       "29  Negative   flavor          1561.0  Bag of Words\n",
       "..       ...      ...             ...           ...\n",
       "50  Positive     make         10573.0      TF - IDF\n",
       "51  Positive      get          9508.0      TF - IDF\n",
       "52  Positive     time          8144.0      TF - IDF\n",
       "53  Positive     best          7836.0      TF - IDF\n",
       "54  Positive     find          7595.0      TF - IDF\n",
       "55  Positive      buy          7519.0      TF - IDF\n",
       "56  Positive      tea          7343.0      TF - IDF\n",
       "57  Positive      eat          7065.0      TF - IDF\n",
       "58  Positive   amazon          7042.0      TF - IDF\n",
       "59  Positive   realli          6936.0      TF - IDF\n",
       "60  Negative     like         15110.0      TF - IDF\n",
       "61  Negative     tast         14851.0      TF - IDF\n",
       "62  Negative     love         14716.0      TF - IDF\n",
       "63  Negative    great         14525.0      TF - IDF\n",
       "64  Negative     good         14238.0      TF - IDF\n",
       "65  Negative      use         12339.0      TF - IDF\n",
       "66  Negative      one         11805.0      TF - IDF\n",
       "67  Negative   flavor         11427.0      TF - IDF\n",
       "68  Negative  product         10955.0      TF - IDF\n",
       "69  Negative      tri         10884.0      TF - IDF\n",
       "70  Negative     make         10573.0      TF - IDF\n",
       "71  Negative      get          9508.0      TF - IDF\n",
       "72  Negative     time          8144.0      TF - IDF\n",
       "73  Negative     best          7836.0      TF - IDF\n",
       "74  Negative     find          7595.0      TF - IDF\n",
       "75  Negative      buy          7519.0      TF - IDF\n",
       "76  Negative      tea          7343.0      TF - IDF\n",
       "77  Negative      eat          7065.0      TF - IDF\n",
       "78  Negative   amazon          7042.0      TF - IDF\n",
       "79  Negative   realli          6936.0      TF - IDF\n",
       "\n",
       "[80 rows x 4 columns]"
      ]
     },
     "execution_count": 162,
     "metadata": {},
     "output_type": "execute_result"
    }
   ],
   "source": [
    "Features"
   ]
  },
  {
   "cell_type": "code",
   "execution_count": 163,
   "metadata": {
    "collapsed": true
   },
   "outputs": [],
   "source": [
    "Features.to_csv('Features.csv',index=None)"
   ]
  },
  {
   "cell_type": "markdown",
   "metadata": {},
   "source": [
    "## Conclusion"
   ]
  },
  {
   "cell_type": "markdown",
   "metadata": {},
   "source": [
    "We can conclude that the \"TF-IDF Vectorized Multinomial Naive Bayes Classifier\" achieved significantly good Precision and Probability rates & TPR,TNR  compared to \"Bag of Words Vectorized Multinomial Naive Bayes Classifier\"."
   ]
  }
 ],
 "metadata": {
  "kernelspec": {
   "display_name": "Python 2",
   "language": "python",
   "name": "python2"
  },
  "language_info": {
   "codemirror_mode": {
    "name": "ipython",
    "version": 2
   },
   "file_extension": ".py",
   "mimetype": "text/x-python",
   "name": "python",
   "nbconvert_exporter": "python",
   "pygments_lexer": "ipython2",
   "version": "2.7.13"
  }
 },
 "nbformat": 4,
 "nbformat_minor": 2
}
