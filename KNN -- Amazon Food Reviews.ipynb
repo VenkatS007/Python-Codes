{
 "cells": [
  {
   "cell_type": "markdown",
   "metadata": {},
   "source": [
    "# K- Nearest Neighbors on Amazon Food Reviews"
   ]
  },
  {
   "cell_type": "code",
   "execution_count": 20,
   "metadata": {},
   "outputs": [],
   "source": [
    "%matplotlib inline\n",
    "import warnings\n",
    "warnings.filterwarnings(\"ignore\")\n",
    "\n",
    "# General Packages\n",
    "import os\n",
    "import sqlite3\n",
    "import pandas as pd\n",
    "import numpy as np\n",
    "import string\n",
    "import re\n",
    "import nltk\n",
    "import datetime\n",
    "import time\n",
    "\n",
    "# Plotting Packages\n",
    "import matplotlib.pyplot as plt\n",
    "import seaborn as sns\n",
    "\n",
    "# Packages for Tfidf\n",
    "from sklearn.feature_extraction.text import TfidfTransformer\n",
    "from sklearn.feature_extraction.text import TfidfVectorizer\n",
    "\n",
    "# Packages for BOW (Bag of words)\n",
    "from sklearn.feature_extraction.text import CountVectorizer\n",
    "from sklearn.metrics import confusion_matrix\n",
    "from sklearn import metrics\n",
    "from sklearn.metrics import roc_curve, auc\n",
    "\n",
    "# Packages for Text Preprocessing\n",
    "from nltk.stem.porter import PorterStemmer\n",
    "from nltk.corpus import stopwords\n",
    "from nltk.stem.wordnet import WordNetLemmatizer\n",
    "\n",
    "#Packages for Word2vec, Average Word2vec & Tf-Idf Weighted Word2Vec\n",
    "from gensim.models import Word2Vec\n",
    "from gensim.models import KeyedVectors\n",
    "import pickle\n",
    "\n",
    "#Packages for plotting Tsne plot\n",
    "from sklearn.manifold import TSNE\n",
    "\n",
    "from sklearn.cross_validation import train_test_split\n",
    "from sklearn.neighbors import KNeighborsClassifier\n",
    "from sklearn.metrics import accuracy_score\n",
    "from sklearn.cross_validation import cross_val_score\n",
    "from collections import Counter\n",
    "from sklearn.metrics import accuracy_score\n",
    "from sklearn import cross_validation\n",
    "from sklearn.metrics import classification_report, confusion_matrix  \n",
    "from sklearn.model_selection import TimeSeriesSplit\n",
    "from prettytable import PrettyTable\n",
    "from sklearn.metrics import recall_score\n",
    "from sklearn.metrics import precision_score\n",
    "from sklearn.metrics import f1_score\n",
    "from sklearn.metrics import roc_curve\n",
    "from sklearn.model_selection import GridSearchCV\n",
    "from sklearn.metrics import make_scorer, accuracy_score\n",
    "from sklearn.decomposition import TruncatedSVD"
   ]
  },
  {
   "cell_type": "code",
   "execution_count": 2,
   "metadata": {},
   "outputs": [
    {
     "name": "stdout",
     "output_type": "stream",
     "text": [
      "| Model | Algorithm |  K  | TPR | TNR | Precision | Recall | F1-Score | FPR | FNR | PPV | NPV | Overall Accuracy (ACC) |\n"
     ]
    }
   ],
   "source": [
    "# Formaing Output using pretty table\n",
    "x = PrettyTable([\"Model\",\"Algorithm\",\" K \",\"TPR\",\"TNR\",\"Precision\",\"Recall\",\"F1-Score\",\"FPR\",\"FNR\",\"PPV\",\"NPV\",\"Overall Accuracy (ACC)\"])\n",
    "from prettytable import MSWORD_FRIENDLY\n",
    "x.set_style(MSWORD_FRIENDLY)\n",
    "print(x)"
   ]
  },
  {
   "cell_type": "markdown",
   "metadata": {},
   "source": [
    "### Preprocessing Stage: Cleansed Stop Words, Punctuations & Html tags"
   ]
  },
  {
   "cell_type": "code",
   "execution_count": 3,
   "metadata": {},
   "outputs": [],
   "source": [
    "#Connecting the Sqlite file after the Preprocessing Stage\n",
    "os.chdir('/Users/sujis/Downloads/AI/Sujit')\n",
    "con = sqlite3.connect('final.sqlite') \n",
    "final= pd.read_sql_query(\"\"\" SELECT * FROM Reviews \"\"\", con) "
   ]
  },
  {
   "cell_type": "code",
   "execution_count": 4,
   "metadata": {},
   "outputs": [
    {
     "data": {
      "text/html": [
       "<div>\n",
       "<style scoped>\n",
       "    .dataframe tbody tr th:only-of-type {\n",
       "        vertical-align: middle;\n",
       "    }\n",
       "\n",
       "    .dataframe tbody tr th {\n",
       "        vertical-align: top;\n",
       "    }\n",
       "\n",
       "    .dataframe thead th {\n",
       "        text-align: right;\n",
       "    }\n",
       "</style>\n",
       "<table border=\"1\" class=\"dataframe\">\n",
       "  <thead>\n",
       "    <tr style=\"text-align: right;\">\n",
       "      <th></th>\n",
       "      <th>index</th>\n",
       "      <th>Id</th>\n",
       "      <th>ProductId</th>\n",
       "      <th>UserId</th>\n",
       "      <th>ProfileName</th>\n",
       "      <th>HelpfulnessNumerator</th>\n",
       "      <th>HelpfulnessDenominator</th>\n",
       "      <th>Score</th>\n",
       "      <th>Time</th>\n",
       "      <th>Summary</th>\n",
       "      <th>Text</th>\n",
       "      <th>CleanedText</th>\n",
       "    </tr>\n",
       "  </thead>\n",
       "  <tbody>\n",
       "    <tr>\n",
       "      <th>0</th>\n",
       "      <td>138706</td>\n",
       "      <td>150524</td>\n",
       "      <td>0006641040</td>\n",
       "      <td>ACITT7DI6IDDL</td>\n",
       "      <td>shari zychinski</td>\n",
       "      <td>0</td>\n",
       "      <td>0</td>\n",
       "      <td>positive</td>\n",
       "      <td>939340800</td>\n",
       "      <td>EVERY book is educational</td>\n",
       "      <td>this witty little book makes my son laugh at l...</td>\n",
       "      <td>witti littl book make son laugh loud recit car...</td>\n",
       "    </tr>\n",
       "  </tbody>\n",
       "</table>\n",
       "</div>"
      ],
      "text/plain": [
       "    index      Id   ProductId         UserId      ProfileName  \\\n",
       "0  138706  150524  0006641040  ACITT7DI6IDDL  shari zychinski   \n",
       "\n",
       "   HelpfulnessNumerator  HelpfulnessDenominator     Score       Time  \\\n",
       "0                     0                       0  positive  939340800   \n",
       "\n",
       "                     Summary  \\\n",
       "0  EVERY book is educational   \n",
       "\n",
       "                                                Text  \\\n",
       "0  this witty little book makes my son laugh at l...   \n",
       "\n",
       "                                         CleanedText  \n",
       "0  witti littl book make son laugh loud recit car...  "
      ]
     },
     "execution_count": 4,
     "metadata": {},
     "output_type": "execute_result"
    }
   ],
   "source": [
    "final.head(1)"
   ]
  },
  {
   "cell_type": "code",
   "execution_count": 5,
   "metadata": {},
   "outputs": [
    {
     "data": {
      "text/plain": [
       "positive    307061\n",
       "negative     57110\n",
       "Name: Score, dtype: int64"
      ]
     },
     "execution_count": 5,
     "metadata": {},
     "output_type": "execute_result"
    }
   ],
   "source": [
    "final['Score'].value_counts()"
   ]
  },
  {
   "cell_type": "markdown",
   "metadata": {},
   "source": [
    "## Considering 50K data for KNN with 'Brute' Algorithm"
   ]
  },
  {
   "cell_type": "code",
   "execution_count": 209,
   "metadata": {},
   "outputs": [],
   "source": [
    "# Taking 75K data points from the dataset\n",
    "final_dataset=final.head(50000)"
   ]
  },
  {
   "cell_type": "code",
   "execution_count": 210,
   "metadata": {},
   "outputs": [
    {
     "data": {
      "text/plain": [
       "positive    42540\n",
       "negative     7460\n",
       "Name: Score, dtype: int64"
      ]
     },
     "execution_count": 210,
     "metadata": {},
     "output_type": "execute_result"
    }
   ],
   "source": [
    "final_dataset['Score'].value_counts()"
   ]
  },
  {
   "cell_type": "code",
   "execution_count": 211,
   "metadata": {},
   "outputs": [],
   "source": [
    "#Sorting the Dataframe with Date to apply Timebased Split\n",
    "final_dataset=final_dataset.sort_values(by='Time',ascending=1)"
   ]
  },
  {
   "cell_type": "code",
   "execution_count": 212,
   "metadata": {},
   "outputs": [],
   "source": [
    "# create design matrix X and target vector y\n",
    "X = np.array(final_dataset.iloc[:, 0:12]) # end index is exclusive\n",
    "Y = np.array(final_dataset['Score']) # showing you two ways of indexing a pandas df"
   ]
  },
  {
   "cell_type": "code",
   "execution_count": 213,
   "metadata": {},
   "outputs": [
    {
     "name": "stdout",
     "output_type": "stream",
     "text": [
      "TimeSeriesSplit(max_train_size=None, n_splits=5)\n"
     ]
    }
   ],
   "source": [
    "#Time based split\n",
    "tscv = TimeSeriesSplit(n_splits=5)\n",
    "print(tscv)  "
   ]
  },
  {
   "cell_type": "code",
   "execution_count": 214,
   "metadata": {},
   "outputs": [
    {
     "name": "stdout",
     "output_type": "stream",
     "text": [
      "TRAIN: [   0    1    2 ... 8332 8333 8334] TEST: [ 8335  8336  8337 ... 16665 16666 16667]\n",
      "TRAIN: [    0     1     2 ... 16665 16666 16667] TEST: [16668 16669 16670 ... 24998 24999 25000]\n",
      "TRAIN: [    0     1     2 ... 24998 24999 25000] TEST: [25001 25002 25003 ... 33331 33332 33333]\n",
      "TRAIN: [    0     1     2 ... 33331 33332 33333] TEST: [33334 33335 33336 ... 41664 41665 41666]\n",
      "TRAIN: [    0     1     2 ... 41664 41665 41666] TEST: [41667 41668 41669 ... 49997 49998 49999]\n"
     ]
    }
   ],
   "source": [
    "#Splitting the Dataset into Train set & Test set\n",
    "for train_index, test_index in tscv.split(X):\n",
    "   print(\"TRAIN:\", train_index, \"TEST:\", test_index)\n",
    "   X_tr, X_test = X[train_index], X[test_index]\n",
    "   Y_tr, Y_test = Y[train_index], Y[test_index]"
   ]
  },
  {
   "cell_type": "code",
   "execution_count": 215,
   "metadata": {},
   "outputs": [
    {
     "name": "stdout",
     "output_type": "stream",
     "text": [
      "TRAIN: [   0    1    2 ... 6944 6945 6946] TEST: [ 6947  6948  6949 ... 13888 13889 13890]\n",
      "TRAIN: [    0     1     2 ... 13888 13889 13890] TEST: [13891 13892 13893 ... 20832 20833 20834]\n",
      "TRAIN: [    0     1     2 ... 20832 20833 20834] TEST: [20835 20836 20837 ... 27776 27777 27778]\n",
      "TRAIN: [    0     1     2 ... 27776 27777 27778] TEST: [27779 27780 27781 ... 34720 34721 34722]\n",
      "TRAIN: [    0     1     2 ... 34720 34721 34722] TEST: [34723 34724 34725 ... 41664 41665 41666]\n"
     ]
    }
   ],
   "source": [
    "# Splitting the Train dataset into Cross Validation & Train Datasets\n",
    "for train_index, test_index in tscv.split(X_tr):\n",
    "   print(\"TRAIN:\", train_index, \"TEST:\", test_index)\n",
    "   X_train, X_cv = X[train_index], X[test_index]\n",
    "   Y_train, Y_cv = Y[train_index], Y[test_index]"
   ]
  },
  {
   "cell_type": "code",
   "execution_count": 216,
   "metadata": {},
   "outputs": [
    {
     "name": "stdout",
     "output_type": "stream",
     "text": [
      "(34723, 12)\n",
      "(6944, 12)\n",
      "(8333, 12)\n",
      "-------------------\n",
      "(34723,)\n",
      "(6944,)\n",
      "(8333,)\n"
     ]
    }
   ],
   "source": [
    "print(X_train.shape)\n",
    "print(X_cv.shape)\n",
    "print(X_test.shape)\n",
    "print('-------------------')\n",
    "print(Y_train.shape)\n",
    "print(Y_cv.shape)\n",
    "print(Y_test.shape)"
   ]
  },
  {
   "cell_type": "code",
   "execution_count": 217,
   "metadata": {},
   "outputs": [],
   "source": [
    "# Converting X_Train, X_cv & X_test data is  to Dataframe for the ease of use\n",
    "X_train_data=pd.DataFrame(X_train, columns=['index', 'Id', 'ProductId', 'UserId', 'ProfileName',\n",
    "       'HelpfulnessNumerator', 'HelpfulnessDenominator', 'Score', 'Time',\n",
    "       'Summary', 'Text', 'CleanedText']) \n",
    "\n",
    "X_cv_data=pd.DataFrame(X_cv, columns=['index', 'Id', 'ProductId', 'UserId', 'ProfileName',\n",
    "       'HelpfulnessNumerator', 'HelpfulnessDenominator', 'Score', 'Time',\n",
    "       'Summary', 'Text', 'CleanedText']) \n",
    "\n",
    "X_test_data=pd.DataFrame(X_test, columns=['index', 'Id', 'ProductId', 'UserId', 'ProfileName',\n",
    "       'HelpfulnessNumerator', 'HelpfulnessDenominator', 'Score', 'Time',\n",
    "       'Summary', 'Text', 'CleanedText']) \n"
   ]
  },
  {
   "cell_type": "markdown",
   "metadata": {},
   "source": [
    "## Bag of Words"
   ]
  },
  {
   "cell_type": "code",
   "execution_count": 218,
   "metadata": {},
   "outputs": [
    {
     "name": "stdout",
     "output_type": "stream",
     "text": [
      "(34723, 23935)\n"
     ]
    }
   ],
   "source": [
    "# create the transform\n",
    "vectorizer = CountVectorizer()\n",
    "# tokenize and build vocab\n",
    "vectorizer.fit(X_train_data['CleanedText'].values)\n",
    "# Bag of Words : Train Data Set\n",
    "Train_X_vector = vectorizer.transform(X_train_data['CleanedText'].values)\n",
    "# summarize encoded vector\n",
    "print(Train_X_vector.shape)"
   ]
  },
  {
   "cell_type": "code",
   "execution_count": 219,
   "metadata": {},
   "outputs": [
    {
     "name": "stdout",
     "output_type": "stream",
     "text": [
      "(6944, 23935)\n"
     ]
    }
   ],
   "source": [
    "# Cross Validation Data Set\n",
    "CV_X_vector = vectorizer.transform(X_cv_data['CleanedText'].values)\n",
    "print(CV_X_vector.shape)"
   ]
  },
  {
   "cell_type": "code",
   "execution_count": 220,
   "metadata": {},
   "outputs": [
    {
     "name": "stdout",
     "output_type": "stream",
     "text": [
      "(8333, 23935)\n"
     ]
    }
   ],
   "source": [
    "#Test Data Set\n",
    "Test_X_vector = vectorizer.transform(X_test_data['CleanedText'].values)\n",
    "print(Test_X_vector.shape)"
   ]
  },
  {
   "cell_type": "code",
   "execution_count": 221,
   "metadata": {},
   "outputs": [
    {
     "name": "stdout",
     "output_type": "stream",
     "text": [
      "(34723, 23935)\n",
      "(6944, 23935)\n",
      "(8333, 23935)\n",
      "-------------------\n",
      "(34723,)\n",
      "(6944,)\n",
      "(8333,)\n"
     ]
    }
   ],
   "source": [
    "print(Train_X_vector.shape)\n",
    "print(CV_X_vector.shape)\n",
    "print(Test_X_vector.shape)\n",
    "print('-------------------')\n",
    "print(Y_train.shape)\n",
    "print(Y_cv.shape)\n",
    "print(Y_test.shape)"
   ]
  },
  {
   "cell_type": "code",
   "execution_count": 222,
   "metadata": {},
   "outputs": [
    {
     "name": "stdout",
     "output_type": "stream",
     "text": [
      "\n",
      "CV accuracy for k = 1 is 77.0%\n",
      "\n",
      "CV accuracy for k = 3 is 81.8%\n",
      "\n",
      "CV accuracy for k = 5 is 82.7%\n",
      "\n",
      "CV accuracy for k = 7 is 82.7%\n",
      "\n",
      "CV accuracy for k = 9 is 82.7%\n",
      "\n",
      "CV accuracy for k = 11 is 82.7%\n",
      "\n",
      "CV accuracy for k = 13 is 82.7%\n",
      "\n",
      "CV accuracy for k = 15 is 82.7%\n",
      "\n",
      "CV accuracy for k = 17 is 82.6%\n",
      "\n",
      "CV accuracy for k = 19 is 82.5%\n",
      "\n",
      "CV accuracy for k = 21 is 82.5%\n",
      "\n",
      "CV accuracy for k = 23 is 82.5%\n",
      "\n",
      "CV accuracy for k = 25 is 82.5%\n",
      "\n",
      "CV accuracy for k = 27 is 82.5%\n",
      "\n",
      "CV accuracy for k = 29 is 82.6%\n",
      "Running Time for code execution 231.88899397850037 secs\n"
     ]
    }
   ],
   "source": [
    "start_time_code = time.time()\n",
    "for i in range(1,30,2):\n",
    "    # instantiate learning model (k = 30)\n",
    "    knn = KNeighborsClassifier(n_neighbors=i, algorithm=\"brute\")\n",
    "\n",
    "    # fitting the model on crossvalidation train\n",
    "    knn.fit(Train_X_vector, Y_train)\n",
    "\n",
    "    # predict the response on the crossvalidation train\n",
    "    pred = knn.predict(CV_X_vector)\n",
    "\n",
    "    # evaluate CV accuracy\n",
    "    bag_acc = accuracy_score(Y_cv, pred, normalize=True) * float(100)\n",
    "    print('\\nCV accuracy for k = %d is %0.1f%%' % (i, bag_acc))\n",
    "end_time_code = time.time()\n",
    "print (\"Running Time for code execution \" + str(end_time_code - start_time_code) + \" secs\")"
   ]
  },
  {
   "cell_type": "code",
   "execution_count": 223,
   "metadata": {},
   "outputs": [
    {
     "name": "stdout",
     "output_type": "stream",
     "text": [
      "\n",
      "****Test accuracy for k = 15 is 81.70%\n"
     ]
    }
   ],
   "source": [
    "knn = KNeighborsClassifier(15,algorithm=\"brute\")\n",
    "knn.fit(Train_X_vector,Y_train)\n",
    "pred = knn.predict(Test_X_vector)\n",
    "bag_test_acc = accuracy_score(Y_test, pred, normalize=True) * float(100)\n",
    "print('\\n****Test accuracy for k = 15 is %0.2f%%' % (bag_test_acc))"
   ]
  },
  {
   "cell_type": "code",
   "execution_count": 224,
   "metadata": {},
   "outputs": [],
   "source": [
    "Conf_matrix=confusion_matrix(Y_test, pred)"
   ]
  },
  {
   "cell_type": "code",
   "execution_count": 225,
   "metadata": {},
   "outputs": [
    {
     "data": {
      "text/plain": [
       "array([[  29, 1520],\n",
       "       [   5, 6779]])"
      ]
     },
     "execution_count": 225,
     "metadata": {},
     "output_type": "execute_result"
    }
   ],
   "source": [
    "Conf_matrix"
   ]
  },
  {
   "cell_type": "code",
   "execution_count": 226,
   "metadata": {},
   "outputs": [],
   "source": [
    "# Function for plotting Confusion Matrix\n",
    "# Using this snipped of code copied from kaggle\n",
    "import numpy as np\n",
    "\n",
    "\n",
    "def plot_confusion_matrix(cm,\n",
    "                          target_names,\n",
    "                          title='Confusion matrix',\n",
    "                          cmap=None,\n",
    "                          normalize=True):\n",
    "\n",
    "    import matplotlib.pyplot as plt\n",
    "    import numpy as np\n",
    "    import itertools\n",
    "\n",
    "    accuracy = np.trace(cm) / float(np.sum(cm))\n",
    "    misclass = 1 - accuracy\n",
    "\n",
    "    if cmap is None:\n",
    "        cmap = plt.get_cmap('Blues')\n",
    "\n",
    "    plt.figure(figsize=(8, 6))\n",
    "    plt.imshow(cm, interpolation='nearest', cmap=cmap)\n",
    "    plt.title(title)\n",
    "    plt.colorbar()\n",
    "\n",
    "    if target_names is not None:\n",
    "        tick_marks = np.arange(len(target_names))\n",
    "        plt.xticks(tick_marks, target_names, rotation=45)\n",
    "        plt.yticks(tick_marks, target_names)\n",
    "\n",
    "    if normalize:\n",
    "        cm = cm.astype('float') / cm.sum(axis=1)[:, np.newaxis]\n",
    "\n",
    "\n",
    "    thresh = cm.max() / 1.5 if normalize else cm.max() / 2\n",
    "    for i, j in itertools.product(range(cm.shape[0]), range(cm.shape[1])):\n",
    "        if normalize:\n",
    "            plt.text(j, i, \"{:0.4f}\".format(cm[i, j]),\n",
    "                     horizontalalignment=\"center\",\n",
    "                     color=\"white\" if cm[i, j] > thresh else \"black\")\n",
    "        else:\n",
    "            plt.text(j, i, \"{:,}\".format(cm[i, j]),\n",
    "                     horizontalalignment=\"center\",\n",
    "                     color=\"white\" if cm[i, j] > thresh else \"black\")\n",
    "\n",
    "\n",
    "    plt.tight_layout()\n",
    "    plt.ylabel('True label')\n",
    "    plt.xlabel('Predicted label\\naccuracy={:0.4f}; misclass={:0.4f}'.format(accuracy, misclass))\n",
    "    plt.show()"
   ]
  },
  {
   "cell_type": "code",
   "execution_count": 227,
   "metadata": {},
   "outputs": [
    {
     "data": {
      "image/png": "[encoded data removed]",
      "text/plain": [
       "<Figure size 576x432 with 2 Axes>"
      ]
     },
     "metadata": {
      "needs_background": "light"
     },
     "output_type": "display_data"
    }
   ],
   "source": [
    "plot_confusion_matrix(cm           = Conf_matrix, \n",
    "                      normalize    = False,\n",
    "                      target_names = ['Negative', 'Positive'],\n",
    "                      title        = \"Confusion Matrix\")"
   ]
  },
  {
   "cell_type": "code",
   "execution_count": 228,
   "metadata": {},
   "outputs": [
    {
     "data": {
      "text/plain": [
       "array([[  29, 1520],\n",
       "       [   5, 6779]])"
      ]
     },
     "execution_count": 228,
     "metadata": {},
     "output_type": "execute_result"
    }
   ],
   "source": [
    "Conf_matrix"
   ]
  },
  {
   "cell_type": "code",
   "execution_count": 229,
   "metadata": {},
   "outputs": [],
   "source": [
    "TN,FP,FN,TP = Conf_matrix.ravel()\n",
    "#confusion_matrix(Y_test, pred)"
   ]
  },
  {
   "cell_type": "code",
   "execution_count": 230,
   "metadata": {},
   "outputs": [],
   "source": [
    "# Sensitivity, hit rate, recall, or true positive rate\n",
    "TPR ='{0:.2%}'.format( TP/(TP+FN))\n",
    "# Specificity or true negative rate\n",
    "TNR ='{0:.2%}'.format( TN/(TN+FP))\n",
    "# Fall out or false positive rate\n",
    "FPR ='{0:.2%}'.format( FP/(FP+TN))\n",
    "# False negative rate\n",
    "FNR ='{0:.2%}'.format( FN/(TP+FN))\n",
    "# Precision or positive predictive value\n",
    "PPV ='{0:.2%}'.format( TP/(TP+FP))\n",
    "# Negative predictive value\n",
    "NPV ='{0:.2%}'.format( TN/(TN+FN))\n",
    "# Overall accuracy\n",
    "ACC ='{0:.2%}'.format( (TP+TN)/(TP+FP+FN+TN))"
   ]
  },
  {
   "cell_type": "code",
   "execution_count": 231,
   "metadata": {},
   "outputs": [],
   "source": [
    "Recall=recall_score(Y_test, pred, average='micro') "
   ]
  },
  {
   "cell_type": "code",
   "execution_count": 232,
   "metadata": {},
   "outputs": [],
   "source": [
    "Precision=precision_score(Y_test, pred, average='micro')"
   ]
  },
  {
   "cell_type": "code",
   "execution_count": 233,
   "metadata": {},
   "outputs": [],
   "source": [
    "F1_Score=f1_score(Y_test, pred, average='weighted')"
   ]
  },
  {
   "cell_type": "code",
   "execution_count": 234,
   "metadata": {},
   "outputs": [
    {
     "data": {
      "text/html": [
       "<div>\n",
       "<style scoped>\n",
       "    .dataframe tbody tr th:only-of-type {\n",
       "        vertical-align: middle;\n",
       "    }\n",
       "\n",
       "    .dataframe tbody tr th {\n",
       "        vertical-align: top;\n",
       "    }\n",
       "\n",
       "    .dataframe thead th {\n",
       "        text-align: right;\n",
       "    }\n",
       "</style>\n",
       "<table border=\"1\" class=\"dataframe\">\n",
       "  <thead>\n",
       "    <tr style=\"text-align: right;\">\n",
       "      <th>Predicted</th>\n",
       "      <th>negative</th>\n",
       "      <th>positive</th>\n",
       "      <th>All</th>\n",
       "    </tr>\n",
       "    <tr>\n",
       "      <th>True</th>\n",
       "      <th></th>\n",
       "      <th></th>\n",
       "      <th></th>\n",
       "    </tr>\n",
       "  </thead>\n",
       "  <tbody>\n",
       "    <tr>\n",
       "      <th>negative</th>\n",
       "      <td>29</td>\n",
       "      <td>1520</td>\n",
       "      <td>1549</td>\n",
       "    </tr>\n",
       "    <tr>\n",
       "      <th>positive</th>\n",
       "      <td>5</td>\n",
       "      <td>6779</td>\n",
       "      <td>6784</td>\n",
       "    </tr>\n",
       "    <tr>\n",
       "      <th>All</th>\n",
       "      <td>34</td>\n",
       "      <td>8299</td>\n",
       "      <td>8333</td>\n",
       "    </tr>\n",
       "  </tbody>\n",
       "</table>\n",
       "</div>"
      ],
      "text/plain": [
       "Predicted  negative  positive   All\n",
       "True                               \n",
       "negative         29      1520  1549\n",
       "positive          5      6779  6784\n",
       "All              34      8299  8333"
      ]
     },
     "execution_count": 234,
     "metadata": {},
     "output_type": "execute_result"
    }
   ],
   "source": [
    "pd.crosstab(Y_test, pred, rownames=['True'], colnames=['Predicted'], margins=True)"
   ]
  },
  {
   "cell_type": "code",
   "execution_count": 235,
   "metadata": {},
   "outputs": [],
   "source": [
    "x.add_row([\"Bag of Words\",\"Brute\",15,TPR,TNR,'{0:.2f}'.format(Precision),'{0:.2f}'.format(Recall),'{0:.2f}'.format(F1_Score),FPR,FNR,PPV,NPV,ACC])"
   ]
  },
  {
   "cell_type": "code",
   "execution_count": 236,
   "metadata": {},
   "outputs": [
    {
     "name": "stdout",
     "output_type": "stream",
     "text": [
      "|          Model          | Algorithm |  K  |  TPR   |  TNR   | Precision | Recall | F1-Score |  FPR   |  FNR  |  PPV   |  NPV   | Overall Accuracy (ACC) |\n",
      "|       Bag of Words      |  kd_tree  |  17 | 99.07% | 7.29%  |    0.82   |  0.82  |   0.76   | 92.71% | 0.93% | 82.33% | 64.15% |         81.94%         |\n",
      "|         TF - IDF        |  Kd_tree  |  13 | 99.09% | 10.93% |    0.83   |  0.83  |   0.77   | 89.07% | 0.91% | 82.90% | 73.38% |         82.64%         |\n",
      "|       Average W2V       |  Kd_tree  |  11 | 98.25% | 18.11% |    0.83   |  0.83  |   0.79   | 81.89% | 1.75% | 83.95% | 70.42% |         83.30%         |\n",
      "|  TF - IDF Weighted W2V  |  Kd_tree  |  23 | 99.34% | 10.93% |    0.83   |  0.83  |   0.77   | 89.07% | 0.66% | 82.94% | 79.07% |         82.84%         |\n",
      "|       Bag of Words      |   Brute   |  15 | 99.93% | 1.87%  |    0.82   |  0.82  |   0.74   | 98.13% | 0.07% | 81.68% | 85.29% |         81.70%         |\n"
     ]
    }
   ],
   "source": [
    "print(x)"
   ]
  },
  {
   "cell_type": "code",
   "execution_count": 237,
   "metadata": {},
   "outputs": [
    {
     "name": "stdout",
     "output_type": "stream",
     "text": [
      "             precision    recall  f1-score   support\n",
      "\n",
      "   negative       0.85      0.02      0.04      1549\n",
      "   positive       0.82      1.00      0.90      6784\n",
      "\n",
      "avg / total       0.82      0.82      0.74      8333\n",
      "\n"
     ]
    }
   ],
   "source": [
    "print(classification_report(Y_test, pred))  "
   ]
  },
  {
   "cell_type": "markdown",
   "metadata": {},
   "source": [
    "## TF - IDF"
   ]
  },
  {
   "cell_type": "code",
   "execution_count": 238,
   "metadata": {},
   "outputs": [
    {
     "data": {
      "text/plain": [
       "(34723, 598035)"
      ]
     },
     "execution_count": 238,
     "metadata": {},
     "output_type": "execute_result"
    }
   ],
   "source": [
    "tf_transformer = TfidfVectorizer(ngram_range=(1,2))\n",
    "TF_vector=tf_transformer.fit(X_train_data['CleanedText'].values)\n",
    "TF_train_Vector = TF_vector.transform(X_train_data['CleanedText'].values)\n",
    "TF_train_Vector.shape"
   ]
  },
  {
   "cell_type": "code",
   "execution_count": 239,
   "metadata": {},
   "outputs": [
    {
     "data": {
      "text/plain": [
       "(6944, 598035)"
      ]
     },
     "execution_count": 239,
     "metadata": {},
     "output_type": "execute_result"
    }
   ],
   "source": [
    "TF_cv_Vector = TF_vector.transform(X_cv_data['CleanedText'].values)\n",
    "TF_cv_Vector.shape"
   ]
  },
  {
   "cell_type": "code",
   "execution_count": 240,
   "metadata": {},
   "outputs": [
    {
     "data": {
      "text/plain": [
       "(8333, 598035)"
      ]
     },
     "execution_count": 240,
     "metadata": {},
     "output_type": "execute_result"
    }
   ],
   "source": [
    "TF_test_Vector = TF_vector.transform(X_test_data['CleanedText'].values)\n",
    "TF_test_Vector.shape"
   ]
  },
  {
   "cell_type": "code",
   "execution_count": 241,
   "metadata": {},
   "outputs": [
    {
     "name": "stdout",
     "output_type": "stream",
     "text": [
      "(34723, 598035)\n",
      "(6944, 598035)\n",
      "(8333, 598035)\n",
      "-------------------\n",
      "(34723,)\n",
      "(6944,)\n",
      "(8333,)\n"
     ]
    }
   ],
   "source": [
    "print(TF_train_Vector.shape)\n",
    "print(TF_cv_Vector.shape)\n",
    "print(TF_test_Vector.shape)\n",
    "print('-------------------')\n",
    "print(Y_train.shape)\n",
    "print(Y_cv.shape)\n",
    "print(Y_test.shape)"
   ]
  },
  {
   "cell_type": "code",
   "execution_count": 242,
   "metadata": {},
   "outputs": [
    {
     "name": "stdout",
     "output_type": "stream",
     "text": [
      "\n",
      "CV accuracy for k = 1 is 80.04%\n",
      "\n",
      "CV accuracy for k = 3 is 83.19%\n",
      "\n",
      "CV accuracy for k = 5 is 83.60%\n",
      "\n",
      "CV accuracy for k = 7 is 83.81%\n",
      "\n",
      "CV accuracy for k = 9 is 83.68%\n",
      "\n",
      "CV accuracy for k = 11 is 83.80%\n",
      "\n",
      "CV accuracy for k = 13 is 83.74%\n",
      "\n",
      "CV accuracy for k = 15 is 83.60%\n",
      "\n",
      "CV accuracy for k = 17 is 83.50%\n",
      "\n",
      "CV accuracy for k = 19 is 83.40%\n",
      "\n",
      "CV accuracy for k = 21 is 83.40%\n",
      "\n",
      "CV accuracy for k = 23 is 83.35%\n",
      "\n",
      "CV accuracy for k = 25 is 83.31%\n",
      "\n",
      "CV accuracy for k = 27 is 83.35%\n",
      "\n",
      "CV accuracy for k = 29 is 83.37%\n",
      "Running Time for code execution 213.33067083358765 secs\n"
     ]
    }
   ],
   "source": [
    "start_time_code = time.time()\n",
    "for i in range(1,30,2):\n",
    "    # instantiate learning model (k = 30)\n",
    "    knn = KNeighborsClassifier(n_neighbors=i, algorithm=\"brute\")\n",
    "\n",
    "    # fitting the model on crossvalidation train\n",
    "    knn.fit(TF_train_Vector, Y_train)\n",
    "\n",
    "    # predict the response on the crossvalidation train\n",
    "    pred = knn.predict(TF_cv_Vector)\n",
    "\n",
    "    # evaluate CV accuracy\n",
    "    tf_acc = accuracy_score(Y_cv, pred, normalize=True) * float(100)\n",
    "    print('\\nCV accuracy for k = %d is %0.2f%%' % (i, tf_acc))\n",
    "end_time_code = time.time()\n",
    "print (\"Running Time for code execution \" + str(end_time_code - start_time_code) + \" secs\")"
   ]
  },
  {
   "cell_type": "code",
   "execution_count": 243,
   "metadata": {},
   "outputs": [
    {
     "name": "stdout",
     "output_type": "stream",
     "text": [
      "\n",
      "****Test accuracy for k = 11 is 82.91%\n"
     ]
    }
   ],
   "source": [
    "knn = KNeighborsClassifier(11,algorithm=\"brute\")\n",
    "knn.fit(TF_train_Vector,Y_train)\n",
    "pred = knn.predict(TF_test_Vector)\n",
    "tf_test_acc = accuracy_score(Y_test, pred, normalize=True) * float(100)\n",
    "print('\\n****Test accuracy for k = 11 is %0.2f%%' % (tf_test_acc))"
   ]
  },
  {
   "cell_type": "code",
   "execution_count": 244,
   "metadata": {},
   "outputs": [],
   "source": [
    "Conf_matrix=confusion_matrix(Y_test, pred)"
   ]
  },
  {
   "cell_type": "code",
   "execution_count": 245,
   "metadata": {},
   "outputs": [
    {
     "data": {
      "text/plain": [
       "array([[ 190, 1359],\n",
       "       [  65, 6719]])"
      ]
     },
     "execution_count": 245,
     "metadata": {},
     "output_type": "execute_result"
    }
   ],
   "source": [
    "Conf_matrix"
   ]
  },
  {
   "cell_type": "code",
   "execution_count": 246,
   "metadata": {},
   "outputs": [
    {
     "data": {
      "image/png": "[encoded data removed]",
      "text/plain": [
       "<Figure size 576x432 with 2 Axes>"
      ]
     },
     "metadata": {
      "needs_background": "light"
     },
     "output_type": "display_data"
    }
   ],
   "source": [
    "plot_confusion_matrix(cm           = Conf_matrix, \n",
    "                      normalize    = False,\n",
    "                      target_names = ['Negative', 'Positive'],\n",
    "                      title        = \"Confusion Matrix\")"
   ]
  },
  {
   "cell_type": "code",
   "execution_count": 247,
   "metadata": {},
   "outputs": [],
   "source": [
    "TN,FP,FN,TP = Conf_matrix.ravel()\n",
    "#confusion_matrix(Y_test, pred)"
   ]
  },
  {
   "cell_type": "code",
   "execution_count": 248,
   "metadata": {},
   "outputs": [],
   "source": [
    "# Sensitivity, hit rate, recall, or true positive rate\n",
    "TPR ='{0:.2%}'.format( TP/(TP+FN))\n",
    "# Specificity or true negative rate\n",
    "TNR ='{0:.2%}'.format( TN/(TN+FP))\n",
    "# Fall out or false positive rate\n",
    "FPR ='{0:.2%}'.format( FP/(FP+TN))\n",
    "# False negative rate\n",
    "FNR ='{0:.2%}'.format( FN/(TP+FN))\n",
    "# Precision or positive predictive value\n",
    "PPV ='{0:.2%}'.format( TP/(TP+FP))\n",
    "# Negative predictive value\n",
    "NPV ='{0:.2%}'.format( TN/(TN+FN))\n",
    "# Overall accuracy\n",
    "ACC ='{0:.2%}'.format( (TP+TN)/(TP+FP+FN+TN))"
   ]
  },
  {
   "cell_type": "code",
   "execution_count": 249,
   "metadata": {},
   "outputs": [],
   "source": [
    "Recall=recall_score(Y_test, pred, average='micro') "
   ]
  },
  {
   "cell_type": "code",
   "execution_count": 250,
   "metadata": {},
   "outputs": [],
   "source": [
    "Precision=precision_score(Y_test, pred, average='micro')"
   ]
  },
  {
   "cell_type": "code",
   "execution_count": 251,
   "metadata": {},
   "outputs": [],
   "source": [
    "F1_Score=f1_score(Y_test, pred, average='weighted')"
   ]
  },
  {
   "cell_type": "code",
   "execution_count": 252,
   "metadata": {},
   "outputs": [
    {
     "data": {
      "text/html": [
       "<div>\n",
       "<style scoped>\n",
       "    .dataframe tbody tr th:only-of-type {\n",
       "        vertical-align: middle;\n",
       "    }\n",
       "\n",
       "    .dataframe tbody tr th {\n",
       "        vertical-align: top;\n",
       "    }\n",
       "\n",
       "    .dataframe thead th {\n",
       "        text-align: right;\n",
       "    }\n",
       "</style>\n",
       "<table border=\"1\" class=\"dataframe\">\n",
       "  <thead>\n",
       "    <tr style=\"text-align: right;\">\n",
       "      <th>Predicted</th>\n",
       "      <th>negative</th>\n",
       "      <th>positive</th>\n",
       "      <th>All</th>\n",
       "    </tr>\n",
       "    <tr>\n",
       "      <th>True</th>\n",
       "      <th></th>\n",
       "      <th></th>\n",
       "      <th></th>\n",
       "    </tr>\n",
       "  </thead>\n",
       "  <tbody>\n",
       "    <tr>\n",
       "      <th>negative</th>\n",
       "      <td>190</td>\n",
       "      <td>1359</td>\n",
       "      <td>1549</td>\n",
       "    </tr>\n",
       "    <tr>\n",
       "      <th>positive</th>\n",
       "      <td>65</td>\n",
       "      <td>6719</td>\n",
       "      <td>6784</td>\n",
       "    </tr>\n",
       "    <tr>\n",
       "      <th>All</th>\n",
       "      <td>255</td>\n",
       "      <td>8078</td>\n",
       "      <td>8333</td>\n",
       "    </tr>\n",
       "  </tbody>\n",
       "</table>\n",
       "</div>"
      ],
      "text/plain": [
       "Predicted  negative  positive   All\n",
       "True                               \n",
       "negative        190      1359  1549\n",
       "positive         65      6719  6784\n",
       "All             255      8078  8333"
      ]
     },
     "execution_count": 252,
     "metadata": {},
     "output_type": "execute_result"
    }
   ],
   "source": [
    "pd.crosstab(Y_test, pred, rownames=['True'], colnames=['Predicted'], margins=True)"
   ]
  },
  {
   "cell_type": "code",
   "execution_count": 253,
   "metadata": {},
   "outputs": [],
   "source": [
    "x.add_row([\"TF - IDF\",\"Brute\",11,TPR,TNR,'{0:.2f}'.format(Precision),'{0:.2f}'.format(Recall),'{0:.2f}'.format(F1_Score),FPR,FNR,PPV,NPV,ACC])"
   ]
  },
  {
   "cell_type": "code",
   "execution_count": 254,
   "metadata": {},
   "outputs": [
    {
     "name": "stdout",
     "output_type": "stream",
     "text": [
      "             precision    recall  f1-score   support\n",
      "\n",
      "   negative       0.75      0.12      0.21      1549\n",
      "   positive       0.83      0.99      0.90      6784\n",
      "\n",
      "avg / total       0.82      0.83      0.78      8333\n",
      "\n"
     ]
    }
   ],
   "source": [
    "print(classification_report(Y_test, pred))  "
   ]
  },
  {
   "cell_type": "code",
   "execution_count": 255,
   "metadata": {},
   "outputs": [
    {
     "name": "stdout",
     "output_type": "stream",
     "text": [
      "|          Model          | Algorithm |  K  |  TPR   |  TNR   | Precision | Recall | F1-Score |  FPR   |  FNR  |  PPV   |  NPV   | Overall Accuracy (ACC) |\n",
      "|       Bag of Words      |  kd_tree  |  17 | 99.07% | 7.29%  |    0.82   |  0.82  |   0.76   | 92.71% | 0.93% | 82.33% | 64.15% |         81.94%         |\n",
      "|         TF - IDF        |  Kd_tree  |  13 | 99.09% | 10.93% |    0.83   |  0.83  |   0.77   | 89.07% | 0.91% | 82.90% | 73.38% |         82.64%         |\n",
      "|       Average W2V       |  Kd_tree  |  11 | 98.25% | 18.11% |    0.83   |  0.83  |   0.79   | 81.89% | 1.75% | 83.95% | 70.42% |         83.30%         |\n",
      "|  TF - IDF Weighted W2V  |  Kd_tree  |  23 | 99.34% | 10.93% |    0.83   |  0.83  |   0.77   | 89.07% | 0.66% | 82.94% | 79.07% |         82.84%         |\n",
      "|       Bag of Words      |   Brute   |  15 | 99.93% | 1.87%  |    0.82   |  0.82  |   0.74   | 98.13% | 0.07% | 81.68% | 85.29% |         81.70%         |\n",
      "|         TF - IDF        |   Brute   |  11 | 99.04% | 12.27% |    0.83   |  0.83  |   0.78   | 87.73% | 0.96% | 83.18% | 74.51% |         82.91%         |\n"
     ]
    }
   ],
   "source": [
    "print(x)"
   ]
  },
  {
   "cell_type": "markdown",
   "metadata": {},
   "source": [
    "## Average W2V"
   ]
  },
  {
   "cell_type": "code",
   "execution_count": 256,
   "metadata": {},
   "outputs": [
    {
     "name": "stdout",
     "output_type": "stream",
     "text": [
      "number of words that occured minimum 5 times  8321\n",
      "sample words  ['littl', 'book', 'make', 'son', 'laugh', 'loud', 'car', 'drive', 'along', 'alway', 'sing', 'refrain', 'hes', 'learn', 'india', 'love', 'new', 'word', 'introduc', 'silli', 'classic', 'will', 'bet', 'still', 'abl', 'memori', 'colleg', 'rememb', 'see', 'show', 'air', 'televis', 'year', 'ago', 'child', 'sister', 'later', 'bought', 'day', 'thirti', 'someth', 'use', 'seri', 'song', 'student', 'teach', 'preschool', 'turn', 'whole', 'school']\n"
     ]
    }
   ],
   "source": [
    "# Train your own Word2Vec model using your own text corpus for Training Dataset\n",
    "i=0\n",
    "list_of_sent=[]\n",
    "for sent in X_train_data['CleanedText'].values:\n",
    "    list_of_sent.append(sent.split())\n",
    "\n",
    "# min_count = 5 considers only words that occured atleast 5 times\n",
    "Trained_model=Word2Vec(list_of_sent,min_count=5,size=50, workers=4)\n",
    "\n",
    "w2v_words = list(Trained_model.wv.vocab)\n",
    "print(\"number of words that occured minimum 5 times \",len(w2v_words))\n",
    "print(\"sample words \", w2v_words[0:50])"
   ]
  },
  {
   "cell_type": "code",
   "execution_count": 257,
   "metadata": {},
   "outputs": [
    {
     "name": "stdout",
     "output_type": "stream",
     "text": [
      "34723\n",
      "Running Time for code execution 62.595484018325806 secs\n"
     ]
    }
   ],
   "source": [
    "# average Word2Vec\n",
    "# compute average word2vec for each review.\n",
    "start_time_code = time.time()\n",
    "Trained_vectors = []; # the avg-w2v for each sentence/review is stored in this list\n",
    "for sent in list_of_sent: # for each review/sentence\n",
    "    sent_vec = np.zeros(50) # as word vectors are of zero length\n",
    "    cnt_words =0; # num of words with a valid vector in the sentence/review\n",
    "    for word in sent: # for each word in a review/sentence\n",
    "        if word in w2v_words:\n",
    "            vec = Trained_model.wv[word]\n",
    "            sent_vec += vec\n",
    "            cnt_words += 1\n",
    "    if cnt_words != 0:\n",
    "        sent_vec /= cnt_words\n",
    "    Trained_vectors.append(sent_vec)\n",
    "print(len(Trained_vectors))\n",
    "end_time_code = time.time()\n",
    "print (\"Running Time for code execution \" + str(end_time_code - start_time_code) + \" secs\")"
   ]
  },
  {
   "cell_type": "code",
   "execution_count": 258,
   "metadata": {},
   "outputs": [],
   "source": [
    "Train_X=Trained_vectors"
   ]
  },
  {
   "cell_type": "code",
   "execution_count": 260,
   "metadata": {},
   "outputs": [],
   "source": [
    "# Train your own Word2Vec model using your own text corpus\n",
    "i=0\n",
    "list_of_sent_cv=[]\n",
    "for sent in X_cv_data['CleanedText'].values:\n",
    "    list_of_sent_cv.append(sent.split())"
   ]
  },
  {
   "cell_type": "code",
   "execution_count": 261,
   "metadata": {},
   "outputs": [
    {
     "name": "stdout",
     "output_type": "stream",
     "text": [
      "6944\n",
      "Running Time for code execution 11.396867990493774 secs\n"
     ]
    }
   ],
   "source": [
    "# average Word2Vec\n",
    "# compute average word2vec for each review.\n",
    "start_time_code = time.time()\n",
    "Cv_vectors = []; # the avg-w2v for each sentence/review is stored in this list\n",
    "for sent in list_of_sent_cv: # for each review/sentence\n",
    "    sent_vec = np.zeros(50) # as word vectors are of zero length\n",
    "    cnt_words =0; # num of words with a valid vector in the sentence/review\n",
    "    for word in sent: # for each word in a review/sentence\n",
    "        if word in w2v_words:\n",
    "            vec = Trained_model.wv[word]\n",
    "            sent_vec += vec\n",
    "            cnt_words += 1\n",
    "    if cnt_words != 0:\n",
    "        sent_vec /= cnt_words\n",
    "    Cv_vectors.append(sent_vec)\n",
    "print(len(Cv_vectors))\n",
    "end_time_code = time.time()\n",
    "print (\"Running Time for code execution \" + str(end_time_code - start_time_code) + \" secs\")"
   ]
  },
  {
   "cell_type": "code",
   "execution_count": 262,
   "metadata": {},
   "outputs": [],
   "source": [
    "CV_X=Cv_vectors"
   ]
  },
  {
   "cell_type": "code",
   "execution_count": 264,
   "metadata": {},
   "outputs": [],
   "source": [
    "# Train your own Word2Vec model using your own text corpus\n",
    "i=0\n",
    "list_of_sent_test=[]\n",
    "for sent in X_test_data['CleanedText'].values:\n",
    "    list_of_sent_test.append(sent.split())"
   ]
  },
  {
   "cell_type": "code",
   "execution_count": 265,
   "metadata": {},
   "outputs": [
    {
     "name": "stdout",
     "output_type": "stream",
     "text": [
      "8333\n",
      "Running Time for code execution 14.642790079116821 secs\n"
     ]
    }
   ],
   "source": [
    "# average Word2Vec\n",
    "# compute average word2vec for each review.\n",
    "start_time_code = time.time()\n",
    "test_vectors = []; # the avg-w2v for each sentence/review is stored in this list\n",
    "for sent in list_of_sent_test: # for each review/sentence\n",
    "    sent_vec = np.zeros(50) # as word vectors are of zero length\n",
    "    cnt_words =0; # num of words with a valid vector in the sentence/review\n",
    "    for word in sent: # for each word in a review/sentence\n",
    "        if word in w2v_words:\n",
    "            vec = Trained_model.wv[word]\n",
    "            sent_vec += vec\n",
    "            cnt_words += 1\n",
    "    if cnt_words != 0:\n",
    "        sent_vec /= cnt_words\n",
    "    test_vectors.append(sent_vec)\n",
    "print(len(test_vectors))\n",
    "end_time_code = time.time()\n",
    "print (\"Running Time for code execution \" + str(end_time_code - start_time_code) + \" secs\")"
   ]
  },
  {
   "cell_type": "code",
   "execution_count": 266,
   "metadata": {},
   "outputs": [],
   "source": [
    "Test_X=test_vectors"
   ]
  },
  {
   "cell_type": "code",
   "execution_count": 267,
   "metadata": {},
   "outputs": [
    {
     "name": "stdout",
     "output_type": "stream",
     "text": [
      "34723\n",
      "6944\n",
      "8333\n",
      "-----------------\n",
      "(34723,)\n",
      "(6944,)\n",
      "(8333,)\n"
     ]
    }
   ],
   "source": [
    "print (len(Train_X))\n",
    "print(len(CV_X))\n",
    "print(len(Test_X))\n",
    "print('-----------------')\n",
    "print (Y_train.shape)\n",
    "print(Y_cv.shape)\n",
    "print(Y_test.shape)"
   ]
  },
  {
   "cell_type": "code",
   "execution_count": 268,
   "metadata": {},
   "outputs": [
    {
     "name": "stdout",
     "output_type": "stream",
     "text": [
      "\n",
      "CV accuracy for k = 1 is 80.17%\n",
      "\n",
      "CV accuracy for k = 3 is 83.45%\n",
      "\n",
      "CV accuracy for k = 5 is 84.12%\n",
      "\n",
      "CV accuracy for k = 7 is 84.48%\n",
      "\n",
      "CV accuracy for k = 9 is 84.59%\n",
      "\n",
      "CV accuracy for k = 11 is 84.53%\n",
      "\n",
      "CV accuracy for k = 13 is 84.48%\n",
      "\n",
      "CV accuracy for k = 15 is 84.48%\n",
      "\n",
      "CV accuracy for k = 17 is 84.56%\n",
      "\n",
      "CV accuracy for k = 19 is 84.52%\n",
      "\n",
      "CV accuracy for k = 21 is 84.45%\n",
      "\n",
      "CV accuracy for k = 23 is 84.36%\n",
      "\n",
      "CV accuracy for k = 25 is 84.38%\n",
      "\n",
      "CV accuracy for k = 27 is 84.25%\n",
      "\n",
      "CV accuracy for k = 29 is 84.17%\n",
      "Running Time for code execution 105.32548975944519 secs\n"
     ]
    }
   ],
   "source": [
    "start_time_code = time.time()\n",
    "for i in range(1,30,2):\n",
    "    # instantiate learning model (k = 30)\n",
    "    knn = KNeighborsClassifier(n_neighbors=i, algorithm=\"brute\")\n",
    "\n",
    "    # fitting the model on crossvalidation train\n",
    "    knn.fit(Train_X, Y_train)\n",
    "\n",
    "    # predict the response on the crossvalidation train\n",
    "    pred = knn.predict(CV_X)\n",
    "\n",
    "    # evaluate CV accuracy\n",
    "    train_acc = accuracy_score(Y_cv, pred, normalize=True) * float(100)\n",
    "    print('\\nCV accuracy for k = %d is %0.2f%%' % (i, train_acc))\n",
    "end_time_code = time.time()\n",
    "print (\"Running Time for code execution \" + str(end_time_code - start_time_code) + \" secs\")"
   ]
  },
  {
   "cell_type": "code",
   "execution_count": 269,
   "metadata": {},
   "outputs": [
    {
     "name": "stdout",
     "output_type": "stream",
     "text": [
      "\n",
      "****Test accuracy for k = 17 is 83.96%\n"
     ]
    }
   ],
   "source": [
    "# Since the train accuracy for k is the same from k=3 to k=29. so the smallest k at maximum accuracy is the best i.e. k=3\n",
    "knn = KNeighborsClassifier(17,algorithm=\"brute\")\n",
    "knn.fit(Train_X,Y_train)\n",
    "pred = knn.predict(Test_X)\n",
    "test_acc = accuracy_score(Y_test, pred, normalize=True) * float(100)\n",
    "print('\\n****Test accuracy for k = 17 is %0.2f%%' % (test_acc))"
   ]
  },
  {
   "cell_type": "code",
   "execution_count": 270,
   "metadata": {},
   "outputs": [],
   "source": [
    "Conf_matrix=confusion_matrix(Y_test, pred)"
   ]
  },
  {
   "cell_type": "code",
   "execution_count": 271,
   "metadata": {},
   "outputs": [
    {
     "data": {
      "text/plain": [
       "array([[ 323, 1226],\n",
       "       [ 111, 6673]])"
      ]
     },
     "execution_count": 271,
     "metadata": {},
     "output_type": "execute_result"
    }
   ],
   "source": [
    "Conf_matrix"
   ]
  },
  {
   "cell_type": "code",
   "execution_count": 272,
   "metadata": {
    "scrolled": true
   },
   "outputs": [
    {
     "data": {
      "image/png": "[encoded data removed]",
      "text/plain": [
       "<Figure size 576x432 with 2 Axes>"
      ]
     },
     "metadata": {
      "needs_background": "light"
     },
     "output_type": "display_data"
    }
   ],
   "source": [
    "plot_confusion_matrix(cm           = Conf_matrix, \n",
    "                      normalize    = False,\n",
    "                      target_names = ['Negative', 'Positive'],\n",
    "                      title        = \"Confusion Matrix\")"
   ]
  },
  {
   "cell_type": "code",
   "execution_count": 273,
   "metadata": {},
   "outputs": [],
   "source": [
    "TN,FP,FN,TP = Conf_matrix.ravel()\n",
    "#confusion_matrix(Y_test, pred)"
   ]
  },
  {
   "cell_type": "code",
   "execution_count": 274,
   "metadata": {},
   "outputs": [],
   "source": [
    "# Sensitivity, hit rate, recall, or true positive rate\n",
    "TPR ='{0:.2%}'.format( TP/(TP+FN))\n",
    "# Specificity or true negative rate\n",
    "TNR ='{0:.2%}'.format( TN/(TN+FP))\n",
    "# Fall out or false positive rate\n",
    "FPR ='{0:.2%}'.format( FP/(FP+TN))\n",
    "# False negative rate\n",
    "FNR ='{0:.2%}'.format( FN/(TP+FN))\n",
    "# Precision or positive predictive value\n",
    "PPV ='{0:.2%}'.format( TP/(TP+FP))\n",
    "# Negative predictive value\n",
    "NPV ='{0:.2%}'.format( TN/(TN+FN))\n",
    "# Overall accuracy\n",
    "ACC ='{0:.2%}'.format( (TP+TN)/(TP+FP+FN+TN))"
   ]
  },
  {
   "cell_type": "code",
   "execution_count": 275,
   "metadata": {},
   "outputs": [],
   "source": [
    "Recall=recall_score(Y_test, pred, average='micro') "
   ]
  },
  {
   "cell_type": "code",
   "execution_count": 276,
   "metadata": {},
   "outputs": [],
   "source": [
    "Precision=precision_score(Y_test, pred, average='micro')"
   ]
  },
  {
   "cell_type": "code",
   "execution_count": 277,
   "metadata": {},
   "outputs": [],
   "source": [
    "F1_Score=f1_score(Y_test, pred, average='weighted')"
   ]
  },
  {
   "cell_type": "code",
   "execution_count": 278,
   "metadata": {},
   "outputs": [
    {
     "data": {
      "text/html": [
       "<div>\n",
       "<style scoped>\n",
       "    .dataframe tbody tr th:only-of-type {\n",
       "        vertical-align: middle;\n",
       "    }\n",
       "\n",
       "    .dataframe tbody tr th {\n",
       "        vertical-align: top;\n",
       "    }\n",
       "\n",
       "    .dataframe thead th {\n",
       "        text-align: right;\n",
       "    }\n",
       "</style>\n",
       "<table border=\"1\" class=\"dataframe\">\n",
       "  <thead>\n",
       "    <tr style=\"text-align: right;\">\n",
       "      <th>Predicted</th>\n",
       "      <th>negative</th>\n",
       "      <th>positive</th>\n",
       "      <th>All</th>\n",
       "    </tr>\n",
       "    <tr>\n",
       "      <th>True</th>\n",
       "      <th></th>\n",
       "      <th></th>\n",
       "      <th></th>\n",
       "    </tr>\n",
       "  </thead>\n",
       "  <tbody>\n",
       "    <tr>\n",
       "      <th>negative</th>\n",
       "      <td>323</td>\n",
       "      <td>1226</td>\n",
       "      <td>1549</td>\n",
       "    </tr>\n",
       "    <tr>\n",
       "      <th>positive</th>\n",
       "      <td>111</td>\n",
       "      <td>6673</td>\n",
       "      <td>6784</td>\n",
       "    </tr>\n",
       "    <tr>\n",
       "      <th>All</th>\n",
       "      <td>434</td>\n",
       "      <td>7899</td>\n",
       "      <td>8333</td>\n",
       "    </tr>\n",
       "  </tbody>\n",
       "</table>\n",
       "</div>"
      ],
      "text/plain": [
       "Predicted  negative  positive   All\n",
       "True                               \n",
       "negative        323      1226  1549\n",
       "positive        111      6673  6784\n",
       "All             434      7899  8333"
      ]
     },
     "execution_count": 278,
     "metadata": {},
     "output_type": "execute_result"
    }
   ],
   "source": [
    "pd.crosstab(Y_test, pred, rownames=['True'], colnames=['Predicted'], margins=True)"
   ]
  },
  {
   "cell_type": "code",
   "execution_count": 279,
   "metadata": {},
   "outputs": [],
   "source": [
    "x.add_row([\" Average W2V\",\"Brute\",17,TPR,TNR,'{0:.2f}'.format(Precision),'{0:.2f}'.format(Recall),'{0:.2f}'.format(F1_Score),FPR,FNR,PPV,NPV,ACC])"
   ]
  },
  {
   "cell_type": "code",
   "execution_count": 280,
   "metadata": {},
   "outputs": [
    {
     "name": "stdout",
     "output_type": "stream",
     "text": [
      "             precision    recall  f1-score   support\n",
      "\n",
      "   negative       0.74      0.21      0.33      1549\n",
      "   positive       0.84      0.98      0.91      6784\n",
      "\n",
      "avg / total       0.83      0.84      0.80      8333\n",
      "\n"
     ]
    }
   ],
   "source": [
    "print(classification_report(Y_test, pred))  "
   ]
  },
  {
   "cell_type": "code",
   "execution_count": 281,
   "metadata": {},
   "outputs": [
    {
     "name": "stdout",
     "output_type": "stream",
     "text": [
      "|          Model          | Algorithm |  K  |  TPR   |  TNR   | Precision | Recall | F1-Score |  FPR   |  FNR  |  PPV   |  NPV   | Overall Accuracy (ACC) |\n",
      "|       Bag of Words      |  kd_tree  |  17 | 99.07% | 7.29%  |    0.82   |  0.82  |   0.76   | 92.71% | 0.93% | 82.33% | 64.15% |         81.94%         |\n",
      "|         TF - IDF        |  Kd_tree  |  13 | 99.09% | 10.93% |    0.83   |  0.83  |   0.77   | 89.07% | 0.91% | 82.90% | 73.38% |         82.64%         |\n",
      "|       Average W2V       |  Kd_tree  |  11 | 98.25% | 18.11% |    0.83   |  0.83  |   0.79   | 81.89% | 1.75% | 83.95% | 70.42% |         83.30%         |\n",
      "|  TF - IDF Weighted W2V  |  Kd_tree  |  23 | 99.34% | 10.93% |    0.83   |  0.83  |   0.77   | 89.07% | 0.66% | 82.94% | 79.07% |         82.84%         |\n",
      "|       Bag of Words      |   Brute   |  15 | 99.93% | 1.87%  |    0.82   |  0.82  |   0.74   | 98.13% | 0.07% | 81.68% | 85.29% |         81.70%         |\n",
      "|         TF - IDF        |   Brute   |  11 | 99.04% | 12.27% |    0.83   |  0.83  |   0.78   | 87.73% | 0.96% | 83.18% | 74.51% |         82.91%         |\n",
      "|        Average W2V      |   Brute   |  17 | 98.36% | 20.85% |    0.84   |  0.84  |   0.80   | 79.15% | 1.64% | 84.48% | 74.42% |         83.96%         |\n"
     ]
    }
   ],
   "source": [
    "print(x)"
   ]
  },
  {
   "cell_type": "markdown",
   "metadata": {},
   "source": [
    "## TF-IDF weighted Word2Vec"
   ]
  },
  {
   "cell_type": "code",
   "execution_count": 26,
   "metadata": {},
   "outputs": [],
   "source": [
    "# TF-IDF weighted Word2Vec\n",
    "tfidf_feat = TF_vector.get_feature_names() # tfidf words/col-names"
   ]
  },
  {
   "cell_type": "code",
   "execution_count": 87,
   "metadata": {},
   "outputs": [
    {
     "name": "stdout",
     "output_type": "stream",
     "text": [
      "Running Time for code execution 28771.18012213707 secs\n"
     ]
    }
   ],
   "source": [
    "# final_tf_idf is the sparse matrix with row= sentence, col=word and cell_val = tfidf\n",
    "start_time_code = time.time()\n",
    "tfidf_sent_vectors = []; # the tfidf-w2v for each sentence/review is stored in this list\n",
    "row=0;\n",
    "for sent in list_of_sent: # for each review/sentence \n",
    "    sent_vec = np.zeros(50) # as word vectors are of zero length\n",
    "    weight_sum =0; # num of words with a valid vector in the sentence/review\n",
    "    for word in sent: # for each word in a review/sentence\n",
    "        if word in w2v_words:\n",
    "            vec = Trained_model.wv[word]\n",
    "            # obtain the tf_idfidf of a word in a sentence/review\n",
    "            tf_idf = TF_train_Vector[row, tfidf_feat.index(word)]\n",
    "            sent_vec += (vec * tf_idf)\n",
    "            weight_sum += tf_idf\n",
    "    if weight_sum != 0:\n",
    "        sent_vec /= weight_sum\n",
    "    tfidf_sent_vectors.append(sent_vec)\n",
    "    row += 1\n",
    "end_time_code = time.time()\n",
    "print (\"Running Time for code execution \" + str(end_time_code - start_time_code) + \" secs\")"
   ]
  },
  {
   "cell_type": "code",
   "execution_count": 88,
   "metadata": {},
   "outputs": [],
   "source": [
    "Train_X=tfidf_sent_vectors"
   ]
  },
  {
   "cell_type": "code",
   "execution_count": 89,
   "metadata": {},
   "outputs": [],
   "source": [
    "df = pd.DataFrame.from_records(Train_X)\n",
    "df.to_csv('TF-IDF_W2V_Train.csv',index=None)"
   ]
  },
  {
   "cell_type": "code",
   "execution_count": 282,
   "metadata": {},
   "outputs": [],
   "source": [
    "Train_X = pd.read_csv(\"TF-IDF_W2V_Train.csv\") "
   ]
  },
  {
   "cell_type": "code",
   "execution_count": 116,
   "metadata": {},
   "outputs": [
    {
     "data": {
      "text/plain": [
       "34723"
      ]
     },
     "execution_count": 116,
     "metadata": {},
     "output_type": "execute_result"
    }
   ],
   "source": [
    "len(Train_X)"
   ]
  },
  {
   "cell_type": "code",
   "execution_count": 92,
   "metadata": {},
   "outputs": [
    {
     "name": "stdout",
     "output_type": "stream",
     "text": [
      "Running Time for code execution 5836.9589948654175 secs\n"
     ]
    }
   ],
   "source": [
    "# final_tf_idf is the sparse matrix with row= sentence, col=word and cell_val = tfidf\n",
    "start_time_code = time.time()\n",
    "tfidf_sent_vectors = []; # the tfidf-w2v for each sentence/review is stored in this list\n",
    "row=0;\n",
    "for sent in list_of_sent_cv: # for each review/sentence \n",
    "    sent_vec = np.zeros(50) # as word vectors are of zero length\n",
    "    weight_sum =0; # num of words with a valid vector in the sentence/review\n",
    "    for word in sent: # for each word in a review/sentence\n",
    "        if word in w2v_words:\n",
    "            vec = Trained_model.wv[word]\n",
    "            # obtain the tf_idfidf of a word in a sentence/review\n",
    "            tf_idf = TF_cv_Vector[row, tfidf_feat.index(word)]\n",
    "            sent_vec += (vec * tf_idf)\n",
    "            weight_sum += tf_idf\n",
    "    if weight_sum != 0:\n",
    "        sent_vec /= weight_sum\n",
    "    tfidf_sent_vectors.append(sent_vec)\n",
    "    row += 1\n",
    "end_time_code = time.time()\n",
    "print (\"Running Time for code execution \" + str(end_time_code - start_time_code) + \" secs\")"
   ]
  },
  {
   "cell_type": "code",
   "execution_count": 93,
   "metadata": {},
   "outputs": [],
   "source": [
    "CV_X=tfidf_sent_vectors"
   ]
  },
  {
   "cell_type": "code",
   "execution_count": 94,
   "metadata": {},
   "outputs": [],
   "source": [
    "df = pd.DataFrame.from_records(CV_X)\n",
    "df.to_csv('TF-IDF_W2V_CV.csv',index=None)"
   ]
  },
  {
   "cell_type": "code",
   "execution_count": 283,
   "metadata": {},
   "outputs": [],
   "source": [
    "CV_X = pd.read_csv(\"TF-IDF_W2V_CV.csv\") "
   ]
  },
  {
   "cell_type": "code",
   "execution_count": 27,
   "metadata": {},
   "outputs": [
    {
     "name": "stdout",
     "output_type": "stream",
     "text": [
      "Running Time for code execution 7043.685368061066 secs\n"
     ]
    }
   ],
   "source": [
    "# final_tf_idf is the sparse matrix with row= sentence, col=word and cell_val = tfidf\n",
    "start_time_code = time.time()\n",
    "tfidf_sent_vectors = []; # the tfidf-w2v for each sentence/review is stored in this list\n",
    "row=0;\n",
    "for sent in list_of_sent_test: # for each review/sentence \n",
    "    sent_vec = np.zeros(50) # as word vectors are of zero length\n",
    "    weight_sum =0; # num of words with a valid vector in the sentence/review\n",
    "    for word in sent: # for each word in a review/sentence\n",
    "        if word in w2v_words:\n",
    "            vec = Trained_model.wv[word]\n",
    "            # obtain the tf_idfidf of a word in a sentence/review\n",
    "            tf_idf = TF_test_Vector[row, tfidf_feat.index(word)]\n",
    "            sent_vec += (vec * tf_idf)\n",
    "            weight_sum += tf_idf\n",
    "    if weight_sum != 0:\n",
    "        sent_vec /= weight_sum\n",
    "    tfidf_sent_vectors.append(sent_vec)\n",
    "    row += 1\n",
    "end_time_code = time.time()\n",
    "print (\"Running Time for code execution \" + str(end_time_code - start_time_code) + \" secs\")"
   ]
  },
  {
   "cell_type": "code",
   "execution_count": 28,
   "metadata": {},
   "outputs": [],
   "source": [
    "Test_X=tfidf_sent_vectors"
   ]
  },
  {
   "cell_type": "code",
   "execution_count": 29,
   "metadata": {},
   "outputs": [],
   "source": [
    "df = pd.DataFrame.from_records(Test_X)\n",
    "df.to_csv('TF-IDF_W2V_test.csv',index=None)"
   ]
  },
  {
   "cell_type": "code",
   "execution_count": 284,
   "metadata": {},
   "outputs": [],
   "source": [
    "Test_X = pd.read_csv(\"TF-IDF_W2V_test.csv\") "
   ]
  },
  {
   "cell_type": "code",
   "execution_count": 285,
   "metadata": {},
   "outputs": [
    {
     "name": "stdout",
     "output_type": "stream",
     "text": [
      "\n",
      "CV accuracy for k = 1 is 80.11%\n",
      "\n",
      "CV accuracy for k = 3 is 82.75%\n",
      "\n",
      "CV accuracy for k = 5 is 83.55%\n",
      "\n",
      "CV accuracy for k = 7 is 83.73%\n",
      "\n",
      "CV accuracy for k = 9 is 83.94%\n",
      "\n",
      "CV accuracy for k = 11 is 83.71%\n",
      "\n",
      "CV accuracy for k = 13 is 83.67%\n",
      "\n",
      "CV accuracy for k = 15 is 83.50%\n",
      "\n",
      "CV accuracy for k = 17 is 83.53%\n",
      "\n",
      "CV accuracy for k = 19 is 83.44%\n",
      "\n",
      "CV accuracy for k = 21 is 83.48%\n",
      "\n",
      "CV accuracy for k = 23 is 83.38%\n",
      "\n",
      "CV accuracy for k = 25 is 83.45%\n",
      "\n",
      "CV accuracy for k = 27 is 83.38%\n",
      "\n",
      "CV accuracy for k = 29 is 83.41%\n",
      "Running Time for code execution 100.78603434562683 secs\n"
     ]
    }
   ],
   "source": [
    "start_time_code = time.time()\n",
    "for i in range(1,30,2):\n",
    "    # instantiate learning model (k = 30)\n",
    "    knn = KNeighborsClassifier(n_neighbors=i, algorithm=\"brute\")\n",
    "\n",
    "    # fitting the model on crossvalidation train\n",
    "    knn.fit(Train_X, Y_train)\n",
    "\n",
    "    # predict the response on the crossvalidation train\n",
    "    pred = knn.predict(CV_X)\n",
    "\n",
    "    # evaluate CV accuracy\n",
    "    train_acc = accuracy_score(Y_cv, pred, normalize=True) * float(100)\n",
    "    print('\\nCV accuracy for k = %d is %0.2f%%' % (i, train_acc))\n",
    "end_time_code = time.time()\n",
    "print (\"Running Time for code execution \" + str(end_time_code - start_time_code) + \" secs\")"
   ]
  },
  {
   "cell_type": "code",
   "execution_count": 286,
   "metadata": {},
   "outputs": [
    {
     "name": "stdout",
     "output_type": "stream",
     "text": [
      "\n",
      "****Test accuracy for k = 9 is 80.88%\n"
     ]
    }
   ],
   "source": [
    "# Since the train accuracy for k is the same from k=3 to k=29. so the smallest k at maximum accuracy is the best i.e. k=3\n",
    "knn = KNeighborsClassifier(9,algorithm=\"brute\")\n",
    "knn.fit(Train_X,Y_train)\n",
    "pred = knn.predict(Test_X)\n",
    "test_acc = accuracy_score(Y_test, pred, normalize=True) * float(100)\n",
    "print('\\n****Test accuracy for k = 9 is %0.2f%%' % (test_acc))"
   ]
  },
  {
   "cell_type": "code",
   "execution_count": 287,
   "metadata": {},
   "outputs": [],
   "source": [
    "Conf_matrix=confusion_matrix(Y_test, pred)"
   ]
  },
  {
   "cell_type": "code",
   "execution_count": 288,
   "metadata": {},
   "outputs": [
    {
     "data": {
      "text/plain": [
       "array([[  32, 1517],\n",
       "       [  76, 6708]])"
      ]
     },
     "execution_count": 288,
     "metadata": {},
     "output_type": "execute_result"
    }
   ],
   "source": [
    "Conf_matrix"
   ]
  },
  {
   "cell_type": "code",
   "execution_count": 289,
   "metadata": {},
   "outputs": [
    {
     "data": {
      "image/png": "[encoded data removed]",
      "text/plain": [
       "<Figure size 576x432 with 2 Axes>"
      ]
     },
     "metadata": {
      "needs_background": "light"
     },
     "output_type": "display_data"
    }
   ],
   "source": [
    "plot_confusion_matrix(cm           = Conf_matrix, \n",
    "                      normalize    = False,\n",
    "                      target_names = ['Negative', 'Positive'],\n",
    "                      title        = \"Confusion Matrix\")"
   ]
  },
  {
   "cell_type": "code",
   "execution_count": 290,
   "metadata": {},
   "outputs": [],
   "source": [
    "TN,FP,FN,TP = Conf_matrix.ravel()\n",
    "#confusion_matrix(Y_test, pred)"
   ]
  },
  {
   "cell_type": "code",
   "execution_count": 291,
   "metadata": {},
   "outputs": [],
   "source": [
    "# Sensitivity, hit rate, recall, or true positive rate\n",
    "TPR ='{0:.2%}'.format( TP/(TP+FN))\n",
    "# Specificity or true negative rate\n",
    "TNR ='{0:.2%}'.format( TN/(TN+FP))\n",
    "# Fall out or false positive rate\n",
    "FPR ='{0:.2%}'.format( FP/(FP+TN))\n",
    "# False negative rate\n",
    "FNR ='{0:.2%}'.format( FN/(TP+FN))\n",
    "# Precision or positive predictive value\n",
    "PPV ='{0:.2%}'.format( TP/(TP+FP))\n",
    "# Negative predictive value\n",
    "NPV ='{0:.2%}'.format( TN/(TN+FN))\n",
    "# Overall accuracy\n",
    "ACC ='{0:.2%}'.format( (TP+TN)/(TP+FP+FN+TN))"
   ]
  },
  {
   "cell_type": "code",
   "execution_count": 292,
   "metadata": {},
   "outputs": [],
   "source": [
    "Recall=recall_score(Y_test, pred, average='micro') "
   ]
  },
  {
   "cell_type": "code",
   "execution_count": 293,
   "metadata": {},
   "outputs": [],
   "source": [
    "Precision=precision_score(Y_test, pred, average='micro')"
   ]
  },
  {
   "cell_type": "code",
   "execution_count": 294,
   "metadata": {},
   "outputs": [],
   "source": [
    "F1_Score=f1_score(Y_test, pred, average='weighted')"
   ]
  },
  {
   "cell_type": "code",
   "execution_count": 295,
   "metadata": {},
   "outputs": [
    {
     "data": {
      "text/html": [
       "<div>\n",
       "<style scoped>\n",
       "    .dataframe tbody tr th:only-of-type {\n",
       "        vertical-align: middle;\n",
       "    }\n",
       "\n",
       "    .dataframe tbody tr th {\n",
       "        vertical-align: top;\n",
       "    }\n",
       "\n",
       "    .dataframe thead th {\n",
       "        text-align: right;\n",
       "    }\n",
       "</style>\n",
       "<table border=\"1\" class=\"dataframe\">\n",
       "  <thead>\n",
       "    <tr style=\"text-align: right;\">\n",
       "      <th>Predicted</th>\n",
       "      <th>negative</th>\n",
       "      <th>positive</th>\n",
       "      <th>All</th>\n",
       "    </tr>\n",
       "    <tr>\n",
       "      <th>True</th>\n",
       "      <th></th>\n",
       "      <th></th>\n",
       "      <th></th>\n",
       "    </tr>\n",
       "  </thead>\n",
       "  <tbody>\n",
       "    <tr>\n",
       "      <th>negative</th>\n",
       "      <td>32</td>\n",
       "      <td>1517</td>\n",
       "      <td>1549</td>\n",
       "    </tr>\n",
       "    <tr>\n",
       "      <th>positive</th>\n",
       "      <td>76</td>\n",
       "      <td>6708</td>\n",
       "      <td>6784</td>\n",
       "    </tr>\n",
       "    <tr>\n",
       "      <th>All</th>\n",
       "      <td>108</td>\n",
       "      <td>8225</td>\n",
       "      <td>8333</td>\n",
       "    </tr>\n",
       "  </tbody>\n",
       "</table>\n",
       "</div>"
      ],
      "text/plain": [
       "Predicted  negative  positive   All\n",
       "True                               \n",
       "negative         32      1517  1549\n",
       "positive         76      6708  6784\n",
       "All             108      8225  8333"
      ]
     },
     "execution_count": 295,
     "metadata": {},
     "output_type": "execute_result"
    }
   ],
   "source": [
    "pd.crosstab(Y_test, pred, rownames=['True'], colnames=['Predicted'], margins=True)"
   ]
  },
  {
   "cell_type": "code",
   "execution_count": 296,
   "metadata": {},
   "outputs": [],
   "source": [
    "x.add_row([\" TF-IDF Weighted W2V \",\"Brute\",17,TPR,TNR,'{0:.2f}'.format(Precision),'{0:.2f}'.format(Recall),'{0:.2f}'.format(F1_Score),FPR,FNR,PPV,NPV,ACC])"
   ]
  },
  {
   "cell_type": "code",
   "execution_count": 297,
   "metadata": {},
   "outputs": [
    {
     "name": "stdout",
     "output_type": "stream",
     "text": [
      "             precision    recall  f1-score   support\n",
      "\n",
      "   negative       0.30      0.02      0.04      1549\n",
      "   positive       0.82      0.99      0.89      6784\n",
      "\n",
      "avg / total       0.72      0.81      0.73      8333\n",
      "\n"
     ]
    }
   ],
   "source": [
    "print(classification_report(Y_test, pred))  "
   ]
  },
  {
   "cell_type": "code",
   "execution_count": 298,
   "metadata": {},
   "outputs": [
    {
     "name": "stdout",
     "output_type": "stream",
     "text": [
      "|          Model          | Algorithm |  K  |  TPR   |  TNR   | Precision | Recall | F1-Score |  FPR   |  FNR  |  PPV   |  NPV   | Overall Accuracy (ACC) |\n",
      "|       Bag of Words      |  kd_tree  |  17 | 99.07% | 7.29%  |    0.82   |  0.82  |   0.76   | 92.71% | 0.93% | 82.33% | 64.15% |         81.94%         |\n",
      "|         TF - IDF        |  Kd_tree  |  13 | 99.09% | 10.93% |    0.83   |  0.83  |   0.77   | 89.07% | 0.91% | 82.90% | 73.38% |         82.64%         |\n",
      "|       Average W2V       |  Kd_tree  |  11 | 98.25% | 18.11% |    0.83   |  0.83  |   0.79   | 81.89% | 1.75% | 83.95% | 70.42% |         83.30%         |\n",
      "|  TF - IDF Weighted W2V  |  Kd_tree  |  23 | 99.34% | 10.93% |    0.83   |  0.83  |   0.77   | 89.07% | 0.66% | 82.94% | 79.07% |         82.84%         |\n",
      "|       Bag of Words      |   Brute   |  15 | 99.93% | 1.87%  |    0.82   |  0.82  |   0.74   | 98.13% | 0.07% | 81.68% | 85.29% |         81.70%         |\n",
      "|         TF - IDF        |   Brute   |  11 | 99.04% | 12.27% |    0.83   |  0.83  |   0.78   | 87.73% | 0.96% | 83.18% | 74.51% |         82.91%         |\n",
      "|        Average W2V      |   Brute   |  17 | 98.36% | 20.85% |    0.84   |  0.84  |   0.80   | 79.15% | 1.64% | 84.48% | 74.42% |         83.96%         |\n",
      "|   TF-IDF Weighted W2V   |   Brute   |  17 | 98.88% | 2.07%  |    0.81   |  0.81  |   0.73   | 97.93% | 1.12% | 81.56% | 29.63% |         80.88%         |\n"
     ]
    }
   ],
   "source": [
    "print(x)"
   ]
  },
  {
   "cell_type": "markdown",
   "metadata": {},
   "source": [
    "## Considering 30K data for KNN with 'kd_tree' Algorithm"
   ]
  },
  {
   "cell_type": "code",
   "execution_count": 6,
   "metadata": {},
   "outputs": [],
   "source": [
    "# Taking 75K data points from the dataset\n",
    "final_dataset=final.head(30000)"
   ]
  },
  {
   "cell_type": "code",
   "execution_count": 7,
   "metadata": {},
   "outputs": [
    {
     "data": {
      "text/plain": [
       "positive    25494\n",
       "negative     4506\n",
       "Name: Score, dtype: int64"
      ]
     },
     "execution_count": 7,
     "metadata": {},
     "output_type": "execute_result"
    }
   ],
   "source": [
    "final_dataset['Score'].value_counts()"
   ]
  },
  {
   "cell_type": "code",
   "execution_count": 8,
   "metadata": {},
   "outputs": [],
   "source": [
    "#Sorting the Dataframe with Date to apply Timebased Split\n",
    "final_dataset=final_dataset.sort_values(by='Time',ascending=1)"
   ]
  },
  {
   "cell_type": "code",
   "execution_count": 9,
   "metadata": {},
   "outputs": [],
   "source": [
    "# create design matrix X and target vector y\n",
    "X = np.array(final_dataset.iloc[:, 0:12]) # end index is exclusive\n",
    "Y = np.array(final_dataset['Score']) # showing you two ways of indexing a pandas df"
   ]
  },
  {
   "cell_type": "code",
   "execution_count": 10,
   "metadata": {},
   "outputs": [
    {
     "name": "stdout",
     "output_type": "stream",
     "text": [
      "TimeSeriesSplit(max_train_size=None, n_splits=5)\n"
     ]
    }
   ],
   "source": [
    "#Time based split\n",
    "tscv = TimeSeriesSplit(n_splits=5)\n",
    "print(tscv)  "
   ]
  },
  {
   "cell_type": "code",
   "execution_count": 11,
   "metadata": {},
   "outputs": [
    {
     "name": "stdout",
     "output_type": "stream",
     "text": [
      "TRAIN: [   0    1    2 ... 4997 4998 4999] TEST: [5000 5001 5002 ... 9997 9998 9999]\n",
      "TRAIN: [   0    1    2 ... 9997 9998 9999] TEST: [10000 10001 10002 ... 14997 14998 14999]\n",
      "TRAIN: [    0     1     2 ... 14997 14998 14999] TEST: [15000 15001 15002 ... 19997 19998 19999]\n",
      "TRAIN: [    0     1     2 ... 19997 19998 19999] TEST: [20000 20001 20002 ... 24997 24998 24999]\n",
      "TRAIN: [    0     1     2 ... 24997 24998 24999] TEST: [25000 25001 25002 ... 29997 29998 29999]\n"
     ]
    }
   ],
   "source": [
    "#Splitting the Dataset into Train set & Test set\n",
    "for train_index, test_index in tscv.split(X):\n",
    "   print(\"TRAIN:\", train_index, \"TEST:\", test_index)\n",
    "   X_tr, X_test = X[train_index], X[test_index]\n",
    "   Y_tr, Y_test = Y[train_index], Y[test_index]"
   ]
  },
  {
   "cell_type": "code",
   "execution_count": 12,
   "metadata": {},
   "outputs": [
    {
     "name": "stdout",
     "output_type": "stream",
     "text": [
      "TRAIN: [   0    1    2 ... 4167 4168 4169] TEST: [4170 4171 4172 ... 8333 8334 8335]\n",
      "TRAIN: [   0    1    2 ... 8333 8334 8335] TEST: [ 8336  8337  8338 ... 12499 12500 12501]\n",
      "TRAIN: [    0     1     2 ... 12499 12500 12501] TEST: [12502 12503 12504 ... 16665 16666 16667]\n",
      "TRAIN: [    0     1     2 ... 16665 16666 16667] TEST: [16668 16669 16670 ... 20831 20832 20833]\n",
      "TRAIN: [    0     1     2 ... 20831 20832 20833] TEST: [20834 20835 20836 ... 24997 24998 24999]\n"
     ]
    }
   ],
   "source": [
    "# Splitting the Train dataset into Cross Validation & Train Datasets\n",
    "for train_index, test_index in tscv.split(X_tr):\n",
    "   print(\"TRAIN:\", train_index, \"TEST:\", test_index)\n",
    "   X_train, X_cv = X[train_index], X[test_index]\n",
    "   Y_train, Y_cv = Y[train_index], Y[test_index]"
   ]
  },
  {
   "cell_type": "code",
   "execution_count": 13,
   "metadata": {},
   "outputs": [
    {
     "name": "stdout",
     "output_type": "stream",
     "text": [
      "(20834, 12)\n",
      "(4166, 12)\n",
      "(5000, 12)\n",
      "-------------------\n",
      "(20834,)\n",
      "(4166,)\n",
      "(5000,)\n"
     ]
    }
   ],
   "source": [
    "print(X_train.shape)\n",
    "print(X_cv.shape)\n",
    "print(X_test.shape)\n",
    "print('-------------------')\n",
    "print(Y_train.shape)\n",
    "print(Y_cv.shape)\n",
    "print(Y_test.shape)"
   ]
  },
  {
   "cell_type": "code",
   "execution_count": 14,
   "metadata": {},
   "outputs": [],
   "source": [
    "# Converting X_Train, X_cv & X_test data is  to Dataframe for the ease of use\n",
    "X_train_data=pd.DataFrame(X_train, columns=['index', 'Id', 'ProductId', 'UserId', 'ProfileName',\n",
    "       'HelpfulnessNumerator', 'HelpfulnessDenominator', 'Score', 'Time',\n",
    "       'Summary', 'Text', 'CleanedText']) \n",
    "\n",
    "X_cv_data=pd.DataFrame(X_cv, columns=['index', 'Id', 'ProductId', 'UserId', 'ProfileName',\n",
    "       'HelpfulnessNumerator', 'HelpfulnessDenominator', 'Score', 'Time',\n",
    "       'Summary', 'Text', 'CleanedText']) \n",
    "\n",
    "X_test_data=pd.DataFrame(X_test, columns=['index', 'Id', 'ProductId', 'UserId', 'ProfileName',\n",
    "       'HelpfulnessNumerator', 'HelpfulnessDenominator', 'Score', 'Time',\n",
    "       'Summary', 'Text', 'CleanedText']) \n"
   ]
  },
  {
   "cell_type": "markdown",
   "metadata": {},
   "source": [
    "## Bag of Words"
   ]
  },
  {
   "cell_type": "code",
   "execution_count": 118,
   "metadata": {},
   "outputs": [
    {
     "name": "stdout",
     "output_type": "stream",
     "text": [
      "(20834, 19971)\n"
     ]
    }
   ],
   "source": [
    "# create the transform\n",
    "vectorizer = CountVectorizer()\n",
    "# tokenize and build vocab\n",
    "vectorizer.fit(X_train_data['CleanedText'].values)\n",
    "# Bag of Words : Train Data Set\n",
    "Train_X_vector = vectorizer.transform(X_train_data['CleanedText'].values)\n",
    "# summarize encoded vector\n",
    "print(Train_X_vector.shape)"
   ]
  },
  {
   "cell_type": "code",
   "execution_count": 119,
   "metadata": {},
   "outputs": [
    {
     "name": "stdout",
     "output_type": "stream",
     "text": [
      "(4166, 19971)\n"
     ]
    }
   ],
   "source": [
    "# Cross Validation Data Set\n",
    "CV_X_vector = vectorizer.transform(X_cv_data['CleanedText'].values)\n",
    "print(CV_X_vector.shape)"
   ]
  },
  {
   "cell_type": "code",
   "execution_count": 120,
   "metadata": {},
   "outputs": [
    {
     "name": "stdout",
     "output_type": "stream",
     "text": [
      "(5000, 19971)\n"
     ]
    }
   ],
   "source": [
    "#Test Data Set\n",
    "Test_X_vector = vectorizer.transform(X_test_data['CleanedText'].values)\n",
    "print(Test_X_vector.shape)"
   ]
  },
  {
   "cell_type": "code",
   "execution_count": 121,
   "metadata": {},
   "outputs": [
    {
     "name": "stdout",
     "output_type": "stream",
     "text": [
      "(20834, 19971)\n",
      "(4166, 19971)\n",
      "(5000, 19971)\n",
      "-------------------\n",
      "(20834,)\n",
      "(4166,)\n",
      "(5000,)\n"
     ]
    }
   ],
   "source": [
    "print(Train_X_vector.shape)\n",
    "print(CV_X_vector.shape)\n",
    "print(Test_X_vector.shape)\n",
    "print('-------------------')\n",
    "print(Y_train.shape)\n",
    "print(Y_cv.shape)\n",
    "print(Y_test.shape)"
   ]
  },
  {
   "cell_type": "code",
   "execution_count": 122,
   "metadata": {},
   "outputs": [],
   "source": [
    "svd = TruncatedSVD(n_components=50)"
   ]
  },
  {
   "cell_type": "code",
   "execution_count": 123,
   "metadata": {},
   "outputs": [
    {
     "data": {
      "text/plain": [
       "TruncatedSVD(algorithm='randomized', n_components=50, n_iter=5,\n",
       "       random_state=None, tol=0.0)"
      ]
     },
     "execution_count": 123,
     "metadata": {},
     "output_type": "execute_result"
    }
   ],
   "source": [
    "svd.fit(Train_X_vector)"
   ]
  },
  {
   "cell_type": "code",
   "execution_count": 124,
   "metadata": {},
   "outputs": [],
   "source": [
    "TF_svd_Train=svd.transform(Train_X_vector)"
   ]
  },
  {
   "cell_type": "code",
   "execution_count": 125,
   "metadata": {},
   "outputs": [
    {
     "data": {
      "text/plain": [
       "(20834, 50)"
      ]
     },
     "execution_count": 125,
     "metadata": {},
     "output_type": "execute_result"
    }
   ],
   "source": [
    "TF_svd_Train.shape"
   ]
  },
  {
   "cell_type": "code",
   "execution_count": 126,
   "metadata": {},
   "outputs": [],
   "source": [
    "TF_svd_CV=svd.transform(CV_X_vector)"
   ]
  },
  {
   "cell_type": "code",
   "execution_count": 127,
   "metadata": {},
   "outputs": [],
   "source": [
    "TF_svd_Test=svd.transform(Test_X_vector)"
   ]
  },
  {
   "cell_type": "code",
   "execution_count": 128,
   "metadata": {},
   "outputs": [
    {
     "name": "stdout",
     "output_type": "stream",
     "text": [
      "\n",
      "CV accuracy for k = 1 is 77.8%\n",
      "\n",
      "CV accuracy for k = 3 is 81.2%\n",
      "\n",
      "CV accuracy for k = 5 is 82.3%\n",
      "\n",
      "CV accuracy for k = 7 is 82.2%\n",
      "\n",
      "CV accuracy for k = 9 is 82.6%\n",
      "\n",
      "CV accuracy for k = 11 is 82.6%\n",
      "\n",
      "CV accuracy for k = 13 is 82.5%\n",
      "\n",
      "CV accuracy for k = 15 is 82.6%\n",
      "\n",
      "CV accuracy for k = 17 is 82.5%\n",
      "\n",
      "CV accuracy for k = 19 is 82.6%\n",
      "\n",
      "CV accuracy for k = 21 is 82.7%\n",
      "\n",
      "CV accuracy for k = 23 is 82.8%\n",
      "\n",
      "CV accuracy for k = 25 is 82.8%\n",
      "\n",
      "CV accuracy for k = 27 is 82.7%\n",
      "\n",
      "CV accuracy for k = 29 is 82.7%\n",
      "Running Time for code execution 174.01987504959106 secs\n"
     ]
    }
   ],
   "source": [
    "start_time_code = time.time()\n",
    "for i in range(1,30,2):\n",
    "    # instantiate learning model (k = 30)\n",
    "    knn = KNeighborsClassifier(n_neighbors=i, algorithm=\"kd_tree\")\n",
    "\n",
    "    # fitting the model on crossvalidation train\n",
    "    knn.fit(TF_svd_Train, Y_train)\n",
    "\n",
    "    # predict the response on the crossvalidation train\n",
    "    pred = knn.predict(TF_svd_CV)\n",
    "\n",
    "    # evaluate CV accuracy\n",
    "    bag_acc = accuracy_score(Y_cv, pred, normalize=True) * float(100)\n",
    "    print('\\nCV accuracy for k = %d is %0.1f%%' % (i, bag_acc))\n",
    "end_time_code = time.time()\n",
    "print (\"Running Time for code execution \" + str(end_time_code - start_time_code) + \" secs\")"
   ]
  },
  {
   "cell_type": "code",
   "execution_count": 129,
   "metadata": {},
   "outputs": [
    {
     "name": "stdout",
     "output_type": "stream",
     "text": [
      "\n",
      "****Test accuracy for k = 17 is 81.94%\n"
     ]
    }
   ],
   "source": [
    "knn = KNeighborsClassifier(17,algorithm=\"kd_tree\")\n",
    "knn.fit(TF_svd_Train,Y_train)\n",
    "pred = knn.predict(TF_svd_Test)\n",
    "bag_test_acc = accuracy_score(Y_test, pred, normalize=True) * float(100)\n",
    "print('\\n****Test accuracy for k = 17 is %0.2f%%' % (bag_test_acc))"
   ]
  },
  {
   "cell_type": "code",
   "execution_count": 130,
   "metadata": {},
   "outputs": [],
   "source": [
    "Conf_matrix=confusion_matrix(Y_test, pred)"
   ]
  },
  {
   "cell_type": "code",
   "execution_count": 131,
   "metadata": {},
   "outputs": [
    {
     "data": {
      "text/plain": [
       "array([[  68,  865],\n",
       "       [  38, 4029]])"
      ]
     },
     "execution_count": 131,
     "metadata": {},
     "output_type": "execute_result"
    }
   ],
   "source": [
    "Conf_matrix"
   ]
  },
  {
   "cell_type": "code",
   "execution_count": 132,
   "metadata": {},
   "outputs": [
    {
     "data": {
      "image/png": "[encoded data removed]",
      "text/plain": [
       "<Figure size 576x432 with 2 Axes>"
      ]
     },
     "metadata": {
      "needs_background": "light"
     },
     "output_type": "display_data"
    }
   ],
   "source": [
    "plot_confusion_matrix(cm           = Conf_matrix, \n",
    "                      normalize    = False,\n",
    "                      target_names = ['Negative', 'Positive'],\n",
    "                      title        = \"Confusion Matrix\")"
   ]
  },
  {
   "cell_type": "code",
   "execution_count": 133,
   "metadata": {},
   "outputs": [],
   "source": [
    "TN,FP,FN,TP = Conf_matrix.ravel()\n",
    "#confusion_matrix(Y_test, pred)"
   ]
  },
  {
   "cell_type": "code",
   "execution_count": 134,
   "metadata": {},
   "outputs": [],
   "source": [
    "# Sensitivity, hit rate, recall, or true positive rate\n",
    "TPR ='{0:.2%}'.format( TP/(TP+FN))\n",
    "# Specificity or true negative rate\n",
    "TNR ='{0:.2%}'.format( TN/(TN+FP))\n",
    "# Fall out or false positive rate\n",
    "FPR ='{0:.2%}'.format( FP/(FP+TN))\n",
    "# False negative rate\n",
    "FNR ='{0:.2%}'.format( FN/(TP+FN))\n",
    "# Precision or positive predictive value\n",
    "PPV ='{0:.2%}'.format( TP/(TP+FP))\n",
    "# Negative predictive value\n",
    "NPV ='{0:.2%}'.format( TN/(TN+FN))\n",
    "# Overall accuracy\n",
    "ACC ='{0:.2%}'.format( (TP+TN)/(TP+FP+FN+TN))"
   ]
  },
  {
   "cell_type": "code",
   "execution_count": 135,
   "metadata": {},
   "outputs": [],
   "source": [
    "Recall=recall_score(Y_test, pred, average='micro') "
   ]
  },
  {
   "cell_type": "code",
   "execution_count": 136,
   "metadata": {},
   "outputs": [],
   "source": [
    "Precision=precision_score(Y_test, pred, average='micro')"
   ]
  },
  {
   "cell_type": "code",
   "execution_count": 137,
   "metadata": {},
   "outputs": [],
   "source": [
    "F1_Score=f1_score(Y_test, pred, average='weighted')"
   ]
  },
  {
   "cell_type": "code",
   "execution_count": 138,
   "metadata": {},
   "outputs": [
    {
     "data": {
      "text/html": [
       "<div>\n",
       "<style scoped>\n",
       "    .dataframe tbody tr th:only-of-type {\n",
       "        vertical-align: middle;\n",
       "    }\n",
       "\n",
       "    .dataframe tbody tr th {\n",
       "        vertical-align: top;\n",
       "    }\n",
       "\n",
       "    .dataframe thead th {\n",
       "        text-align: right;\n",
       "    }\n",
       "</style>\n",
       "<table border=\"1\" class=\"dataframe\">\n",
       "  <thead>\n",
       "    <tr style=\"text-align: right;\">\n",
       "      <th>Predicted</th>\n",
       "      <th>negative</th>\n",
       "      <th>positive</th>\n",
       "      <th>All</th>\n",
       "    </tr>\n",
       "    <tr>\n",
       "      <th>True</th>\n",
       "      <th></th>\n",
       "      <th></th>\n",
       "      <th></th>\n",
       "    </tr>\n",
       "  </thead>\n",
       "  <tbody>\n",
       "    <tr>\n",
       "      <th>negative</th>\n",
       "      <td>68</td>\n",
       "      <td>865</td>\n",
       "      <td>933</td>\n",
       "    </tr>\n",
       "    <tr>\n",
       "      <th>positive</th>\n",
       "      <td>38</td>\n",
       "      <td>4029</td>\n",
       "      <td>4067</td>\n",
       "    </tr>\n",
       "    <tr>\n",
       "      <th>All</th>\n",
       "      <td>106</td>\n",
       "      <td>4894</td>\n",
       "      <td>5000</td>\n",
       "    </tr>\n",
       "  </tbody>\n",
       "</table>\n",
       "</div>"
      ],
      "text/plain": [
       "Predicted  negative  positive   All\n",
       "True                               \n",
       "negative         68       865   933\n",
       "positive         38      4029  4067\n",
       "All             106      4894  5000"
      ]
     },
     "execution_count": 138,
     "metadata": {},
     "output_type": "execute_result"
    }
   ],
   "source": [
    "pd.crosstab(Y_test, pred, rownames=['True'], colnames=['Predicted'], margins=True)"
   ]
  },
  {
   "cell_type": "code",
   "execution_count": 139,
   "metadata": {},
   "outputs": [],
   "source": [
    "x.add_row([\"Bag of Words\",\"kd_tree\",17,TPR,TNR,'{0:.2f}'.format(Precision),'{0:.2f}'.format(Recall),'{0:.2f}'.format(F1_Score),FPR,FNR,PPV,NPV,ACC])"
   ]
  },
  {
   "cell_type": "code",
   "execution_count": 140,
   "metadata": {},
   "outputs": [
    {
     "name": "stdout",
     "output_type": "stream",
     "text": [
      "|    Model     | Algorithm |  K  |  TPR   |  TNR  | Precision | Recall | F1-Score |  FPR   |  FNR  |  PPV   |  NPV   | Overall Accuracy (ACC) |\n",
      "| Bag of Words |  kd_tree  |  17 | 99.07% | 7.29% |    0.82   |  0.82  |   0.76   | 92.71% | 0.93% | 82.33% | 64.15% |         81.94%         |\n"
     ]
    }
   ],
   "source": [
    "print(x)"
   ]
  },
  {
   "cell_type": "code",
   "execution_count": 141,
   "metadata": {},
   "outputs": [
    {
     "name": "stdout",
     "output_type": "stream",
     "text": [
      "             precision    recall  f1-score   support\n",
      "\n",
      "   negative       0.64      0.07      0.13       933\n",
      "   positive       0.82      0.99      0.90      4067\n",
      "\n",
      "avg / total       0.79      0.82      0.76      5000\n",
      "\n"
     ]
    }
   ],
   "source": [
    "print(classification_report(Y_test, pred))  "
   ]
  },
  {
   "cell_type": "code",
   "execution_count": 142,
   "metadata": {},
   "outputs": [],
   "source": [
    "with open('Output_kd-tree.txt', 'w') as w:\n",
    "    w.write(str(x))"
   ]
  },
  {
   "cell_type": "markdown",
   "metadata": {},
   "source": [
    "## TF - IDF"
   ]
  },
  {
   "cell_type": "code",
   "execution_count": 143,
   "metadata": {},
   "outputs": [
    {
     "data": {
      "text/plain": [
       "(20834, 427963)"
      ]
     },
     "execution_count": 143,
     "metadata": {},
     "output_type": "execute_result"
    }
   ],
   "source": [
    "tf_transformer = TfidfVectorizer(ngram_range=(1,2))\n",
    "TF_vector=tf_transformer.fit(X_train_data['CleanedText'].values)\n",
    "TF_train_Vector = TF_vector.transform(X_train_data['CleanedText'].values)\n",
    "TF_train_Vector.shape"
   ]
  },
  {
   "cell_type": "code",
   "execution_count": 144,
   "metadata": {},
   "outputs": [
    {
     "data": {
      "text/plain": [
       "(4166, 427963)"
      ]
     },
     "execution_count": 144,
     "metadata": {},
     "output_type": "execute_result"
    }
   ],
   "source": [
    "TF_cv_Vector = TF_vector.transform(X_cv_data['CleanedText'].values)\n",
    "TF_cv_Vector.shape"
   ]
  },
  {
   "cell_type": "code",
   "execution_count": 145,
   "metadata": {},
   "outputs": [
    {
     "data": {
      "text/plain": [
       "(5000, 427963)"
      ]
     },
     "execution_count": 145,
     "metadata": {},
     "output_type": "execute_result"
    }
   ],
   "source": [
    "TF_test_Vector = TF_vector.transform(X_test_data['CleanedText'].values)\n",
    "TF_test_Vector.shape"
   ]
  },
  {
   "cell_type": "code",
   "execution_count": 146,
   "metadata": {},
   "outputs": [
    {
     "name": "stdout",
     "output_type": "stream",
     "text": [
      "(20834, 427963)\n",
      "(4166, 427963)\n",
      "(5000, 427963)\n",
      "-------------------\n",
      "(20834,)\n",
      "(4166,)\n",
      "(5000,)\n"
     ]
    }
   ],
   "source": [
    "print(TF_train_Vector.shape)\n",
    "print(TF_cv_Vector.shape)\n",
    "print(TF_test_Vector.shape)\n",
    "print('-------------------')\n",
    "print(Y_train.shape)\n",
    "print(Y_cv.shape)\n",
    "print(Y_test.shape)"
   ]
  },
  {
   "cell_type": "code",
   "execution_count": 147,
   "metadata": {},
   "outputs": [],
   "source": [
    "svd = TruncatedSVD(n_components=20)"
   ]
  },
  {
   "cell_type": "code",
   "execution_count": 148,
   "metadata": {},
   "outputs": [
    {
     "data": {
      "text/plain": [
       "TruncatedSVD(algorithm='randomized', n_components=20, n_iter=5,\n",
       "       random_state=None, tol=0.0)"
      ]
     },
     "execution_count": 148,
     "metadata": {},
     "output_type": "execute_result"
    }
   ],
   "source": [
    "svd.fit(TF_train_Vector)"
   ]
  },
  {
   "cell_type": "code",
   "execution_count": 149,
   "metadata": {},
   "outputs": [],
   "source": [
    "TF_svd_Train=svd.transform(TF_train_Vector)"
   ]
  },
  {
   "cell_type": "code",
   "execution_count": 150,
   "metadata": {},
   "outputs": [
    {
     "data": {
      "text/plain": [
       "(20834, 20)"
      ]
     },
     "execution_count": 150,
     "metadata": {},
     "output_type": "execute_result"
    }
   ],
   "source": [
    "TF_svd_Train.shape"
   ]
  },
  {
   "cell_type": "code",
   "execution_count": 151,
   "metadata": {},
   "outputs": [],
   "source": [
    "TF_svd_CV=svd.transform(TF_cv_Vector)"
   ]
  },
  {
   "cell_type": "code",
   "execution_count": 152,
   "metadata": {},
   "outputs": [],
   "source": [
    "TF_svd_Test=svd.transform(TF_test_Vector)"
   ]
  },
  {
   "cell_type": "code",
   "execution_count": 153,
   "metadata": {},
   "outputs": [
    {
     "name": "stdout",
     "output_type": "stream",
     "text": [
      "\n",
      "CV accuracy for k = 1 is 78.06%\n",
      "\n",
      "CV accuracy for k = 3 is 81.04%\n",
      "\n",
      "CV accuracy for k = 5 is 82.72%\n",
      "\n",
      "CV accuracy for k = 7 is 82.53%\n",
      "\n",
      "CV accuracy for k = 9 is 82.53%\n",
      "\n",
      "CV accuracy for k = 11 is 82.55%\n",
      "\n",
      "CV accuracy for k = 13 is 82.93%\n",
      "\n",
      "CV accuracy for k = 15 is 82.74%\n",
      "\n",
      "CV accuracy for k = 17 is 82.69%\n",
      "\n",
      "CV accuracy for k = 19 is 82.81%\n",
      "\n",
      "CV accuracy for k = 21 is 82.74%\n",
      "\n",
      "CV accuracy for k = 23 is 82.84%\n",
      "\n",
      "CV accuracy for k = 25 is 82.72%\n",
      "\n",
      "CV accuracy for k = 27 is 82.81%\n",
      "\n",
      "CV accuracy for k = 29 is 82.79%\n",
      "Running Time for code execution 46.00462007522583 secs\n"
     ]
    }
   ],
   "source": [
    "start_time_code = time.time()\n",
    "for i in range(1,30,2):\n",
    "    # instantiate learning model (k = 30)\n",
    "    knn = KNeighborsClassifier(n_neighbors=i, algorithm=\"kd_tree\")\n",
    "\n",
    "    # fitting the model on crossvalidation train\n",
    "    knn.fit(TF_svd_Train, Y_train)\n",
    "\n",
    "    # predict the response on the crossvalidation train\n",
    "    pred = knn.predict(TF_svd_CV)\n",
    "\n",
    "    # evaluate CV accuracy\n",
    "    tf_acc = accuracy_score(Y_cv, pred, normalize=True) * float(100)\n",
    "    print('\\nCV accuracy for k = %d is %0.2f%%' % (i, tf_acc))\n",
    "end_time_code = time.time()\n",
    "print (\"Running Time for code execution \" + str(end_time_code - start_time_code) + \" secs\")"
   ]
  },
  {
   "cell_type": "code",
   "execution_count": 154,
   "metadata": {},
   "outputs": [
    {
     "name": "stdout",
     "output_type": "stream",
     "text": [
      "\n",
      "****Test accuracy for k = 17 is 82.64%\n"
     ]
    }
   ],
   "source": [
    "knn = KNeighborsClassifier(17,algorithm=\"kd_tree\")\n",
    "knn.fit(TF_svd_Train,Y_train)\n",
    "pred = knn.predict(TF_svd_Test)\n",
    "tf_test_acc = accuracy_score(Y_test, pred, normalize=True) * float(100)\n",
    "print('\\n****Test accuracy for k = 17 is %0.2f%%' % (tf_test_acc))"
   ]
  },
  {
   "cell_type": "code",
   "execution_count": 155,
   "metadata": {},
   "outputs": [],
   "source": [
    "Conf_matrix=confusion_matrix(Y_test, pred)"
   ]
  },
  {
   "cell_type": "code",
   "execution_count": 156,
   "metadata": {},
   "outputs": [
    {
     "data": {
      "text/plain": [
       "array([[ 102,  831],\n",
       "       [  37, 4030]])"
      ]
     },
     "execution_count": 156,
     "metadata": {},
     "output_type": "execute_result"
    }
   ],
   "source": [
    "Conf_matrix"
   ]
  },
  {
   "cell_type": "code",
   "execution_count": 157,
   "metadata": {},
   "outputs": [
    {
     "data": {
      "image/png": "[encoded data removed]",
      "text/plain": [
       "<Figure size 576x432 with 2 Axes>"
      ]
     },
     "metadata": {
      "needs_background": "light"
     },
     "output_type": "display_data"
    }
   ],
   "source": [
    "plot_confusion_matrix(cm           = Conf_matrix, \n",
    "                      normalize    = False,\n",
    "                      target_names = ['Negative', 'Positive'],\n",
    "                      title        = \"Confusion Matrix\")"
   ]
  },
  {
   "cell_type": "code",
   "execution_count": 158,
   "metadata": {},
   "outputs": [],
   "source": [
    "TN,FP,FN,TP = Conf_matrix.ravel()\n",
    "#confusion_matrix(Y_test, pred)"
   ]
  },
  {
   "cell_type": "code",
   "execution_count": 159,
   "metadata": {},
   "outputs": [],
   "source": [
    "# Sensitivity, hit rate, recall, or true positive rate\n",
    "TPR ='{0:.2%}'.format( TP/(TP+FN))\n",
    "# Specificity or true negative rate\n",
    "TNR ='{0:.2%}'.format( TN/(TN+FP))\n",
    "# Fall out or false positive rate\n",
    "FPR ='{0:.2%}'.format( FP/(FP+TN))\n",
    "# False negative rate\n",
    "FNR ='{0:.2%}'.format( FN/(TP+FN))\n",
    "# Precision or positive predictive value\n",
    "PPV ='{0:.2%}'.format( TP/(TP+FP))\n",
    "# Negative predictive value\n",
    "NPV ='{0:.2%}'.format( TN/(TN+FN))\n",
    "# Overall accuracy\n",
    "ACC ='{0:.2%}'.format( (TP+TN)/(TP+FP+FN+TN))"
   ]
  },
  {
   "cell_type": "code",
   "execution_count": 160,
   "metadata": {},
   "outputs": [],
   "source": [
    "Recall=recall_score(Y_test, pred, average='micro') "
   ]
  },
  {
   "cell_type": "code",
   "execution_count": 161,
   "metadata": {},
   "outputs": [],
   "source": [
    "Precision=precision_score(Y_test, pred, average='micro')"
   ]
  },
  {
   "cell_type": "code",
   "execution_count": 162,
   "metadata": {},
   "outputs": [],
   "source": [
    "F1_Score=f1_score(Y_test, pred, average='weighted')"
   ]
  },
  {
   "cell_type": "code",
   "execution_count": 163,
   "metadata": {},
   "outputs": [
    {
     "data": {
      "text/html": [
       "<div>\n",
       "<style scoped>\n",
       "    .dataframe tbody tr th:only-of-type {\n",
       "        vertical-align: middle;\n",
       "    }\n",
       "\n",
       "    .dataframe tbody tr th {\n",
       "        vertical-align: top;\n",
       "    }\n",
       "\n",
       "    .dataframe thead th {\n",
       "        text-align: right;\n",
       "    }\n",
       "</style>\n",
       "<table border=\"1\" class=\"dataframe\">\n",
       "  <thead>\n",
       "    <tr style=\"text-align: right;\">\n",
       "      <th>Predicted</th>\n",
       "      <th>negative</th>\n",
       "      <th>positive</th>\n",
       "      <th>All</th>\n",
       "    </tr>\n",
       "    <tr>\n",
       "      <th>True</th>\n",
       "      <th></th>\n",
       "      <th></th>\n",
       "      <th></th>\n",
       "    </tr>\n",
       "  </thead>\n",
       "  <tbody>\n",
       "    <tr>\n",
       "      <th>negative</th>\n",
       "      <td>102</td>\n",
       "      <td>831</td>\n",
       "      <td>933</td>\n",
       "    </tr>\n",
       "    <tr>\n",
       "      <th>positive</th>\n",
       "      <td>37</td>\n",
       "      <td>4030</td>\n",
       "      <td>4067</td>\n",
       "    </tr>\n",
       "    <tr>\n",
       "      <th>All</th>\n",
       "      <td>139</td>\n",
       "      <td>4861</td>\n",
       "      <td>5000</td>\n",
       "    </tr>\n",
       "  </tbody>\n",
       "</table>\n",
       "</div>"
      ],
      "text/plain": [
       "Predicted  negative  positive   All\n",
       "True                               \n",
       "negative        102       831   933\n",
       "positive         37      4030  4067\n",
       "All             139      4861  5000"
      ]
     },
     "execution_count": 163,
     "metadata": {},
     "output_type": "execute_result"
    }
   ],
   "source": [
    "pd.crosstab(Y_test, pred, rownames=['True'], colnames=['Predicted'], margins=True)"
   ]
  },
  {
   "cell_type": "code",
   "execution_count": 164,
   "metadata": {},
   "outputs": [],
   "source": [
    "x.add_row([\" TF - IDF \",\"Kd_tree\",17,TPR,TNR,'{0:.2f}'.format(Precision),'{0:.2f}'.format(Recall),'{0:.2f}'.format(F1_Score),FPR,FNR,PPV,NPV,ACC])"
   ]
  },
  {
   "cell_type": "code",
   "execution_count": 165,
   "metadata": {},
   "outputs": [
    {
     "name": "stdout",
     "output_type": "stream",
     "text": [
      "             precision    recall  f1-score   support\n",
      "\n",
      "   negative       0.73      0.11      0.19       933\n",
      "   positive       0.83      0.99      0.90      4067\n",
      "\n",
      "avg / total       0.81      0.83      0.77      5000\n",
      "\n"
     ]
    }
   ],
   "source": [
    "print(classification_report(Y_test, pred))  "
   ]
  },
  {
   "cell_type": "code",
   "execution_count": 166,
   "metadata": {},
   "outputs": [
    {
     "name": "stdout",
     "output_type": "stream",
     "text": [
      "|    Model     | Algorithm |  K  |  TPR   |  TNR   | Precision | Recall | F1-Score |  FPR   |  FNR  |  PPV   |  NPV   | Overall Accuracy (ACC) |\n",
      "| Bag of Words |  kd_tree  |  17 | 99.07% | 7.29%  |    0.82   |  0.82  |   0.76   | 92.71% | 0.93% | 82.33% | 64.15% |         81.94%         |\n",
      "|   TF - IDF   |  Kd_tree  |  13 | 99.09% | 10.93% |    0.83   |  0.83  |   0.77   | 89.07% | 0.91% | 82.90% | 73.38% |         82.64%         |\n"
     ]
    }
   ],
   "source": [
    "print(x)"
   ]
  },
  {
   "cell_type": "markdown",
   "metadata": {},
   "source": [
    "## Average W2V"
   ]
  },
  {
   "cell_type": "code",
   "execution_count": 167,
   "metadata": {},
   "outputs": [
    {
     "name": "stdout",
     "output_type": "stream",
     "text": [
      "number of words that occured minimum 5 times  6969\n",
      "sample words  ['littl', 'book', 'make', 'son', 'laugh', 'loud', 'car', 'drive', 'along', 'alway', 'sing', 'refrain', 'hes', 'learn', 'india', 'love', 'new', 'word', 'introduc', 'silli', 'classic', 'will', 'bet', 'still', 'abl', 'memori', 'colleg', 'rememb', 'see', 'show', 'air', 'televis', 'year', 'ago', 'child', 'sister', 'later', 'bought', 'day', 'thirti', 'someth', 'use', 'seri', 'song', 'student', 'teach', 'turn', 'whole', 'school', 'purchas']\n"
     ]
    }
   ],
   "source": [
    "# Train your own Word2Vec model using your own text corpus for Training Dataset\n",
    "i=0\n",
    "list_of_sent=[]\n",
    "for sent in X_train_data['CleanedText'].values:\n",
    "    list_of_sent.append(sent.split())\n",
    "\n",
    "# min_count = 5 considers only words that occured atleast 5 times\n",
    "Trained_model=Word2Vec(list_of_sent,min_count=5,size=50, workers=4)\n",
    "\n",
    "w2v_words = list(Trained_model.wv.vocab)\n",
    "print(\"number of words that occured minimum 5 times \",len(w2v_words))\n",
    "print(\"sample words \", w2v_words[0:50])"
   ]
  },
  {
   "cell_type": "code",
   "execution_count": 168,
   "metadata": {},
   "outputs": [
    {
     "name": "stdout",
     "output_type": "stream",
     "text": [
      "20834\n"
     ]
    }
   ],
   "source": [
    "# average Word2Vec\n",
    "# compute average word2vec for each review.\n",
    "Trained_vectors = []; # the avg-w2v for each sentence/review is stored in this list\n",
    "for sent in list_of_sent: # for each review/sentence\n",
    "    sent_vec = np.zeros(50) # as word vectors are of zero length\n",
    "    cnt_words =0; # num of words with a valid vector in the sentence/review\n",
    "    for word in sent: # for each word in a review/sentence\n",
    "        if word in w2v_words:\n",
    "            vec = Trained_model.wv[word]\n",
    "            sent_vec += vec\n",
    "            cnt_words += 1\n",
    "    if cnt_words != 0:\n",
    "        sent_vec /= cnt_words\n",
    "    Trained_vectors.append(sent_vec)\n",
    "print(len(Trained_vectors))"
   ]
  },
  {
   "cell_type": "code",
   "execution_count": 169,
   "metadata": {},
   "outputs": [],
   "source": [
    "Train_X=Trained_vectors"
   ]
  },
  {
   "cell_type": "code",
   "execution_count": 170,
   "metadata": {},
   "outputs": [],
   "source": [
    "# Train your own Word2Vec model using your own text corpus\n",
    "i=0\n",
    "list_of_sent_cv=[]\n",
    "for sent in X_cv_data['CleanedText'].values:\n",
    "    list_of_sent_cv.append(sent.split())"
   ]
  },
  {
   "cell_type": "code",
   "execution_count": 171,
   "metadata": {},
   "outputs": [
    {
     "name": "stdout",
     "output_type": "stream",
     "text": [
      "4166\n"
     ]
    }
   ],
   "source": [
    "# average Word2Vec\n",
    "# compute average word2vec for each review.\n",
    "Cv_vectors = []; # the avg-w2v for each sentence/review is stored in this list\n",
    "for sent in list_of_sent_cv: # for each review/sentence\n",
    "    sent_vec = np.zeros(50) # as word vectors are of zero length\n",
    "    cnt_words =0; # num of words with a valid vector in the sentence/review\n",
    "    for word in sent: # for each word in a review/sentence\n",
    "        if word in w2v_words:\n",
    "            vec = Trained_model.wv[word]\n",
    "            sent_vec += vec\n",
    "            cnt_words += 1\n",
    "    if cnt_words != 0:\n",
    "        sent_vec /= cnt_words\n",
    "    Cv_vectors.append(sent_vec)\n",
    "print(len(Cv_vectors))"
   ]
  },
  {
   "cell_type": "code",
   "execution_count": 172,
   "metadata": {},
   "outputs": [],
   "source": [
    "CV_X=Cv_vectors"
   ]
  },
  {
   "cell_type": "code",
   "execution_count": 173,
   "metadata": {},
   "outputs": [],
   "source": [
    "# Train your own Word2Vec model using your own text corpus\n",
    "i=0\n",
    "list_of_sent_test=[]\n",
    "for sent in X_test_data['CleanedText'].values:\n",
    "    list_of_sent_test.append(sent.split())"
   ]
  },
  {
   "cell_type": "code",
   "execution_count": 174,
   "metadata": {},
   "outputs": [
    {
     "name": "stdout",
     "output_type": "stream",
     "text": [
      "5000\n"
     ]
    }
   ],
   "source": [
    "# average Word2Vec\n",
    "# compute average word2vec for each review.\n",
    "test_vectors = []; # the avg-w2v for each sentence/review is stored in this list\n",
    "for sent in list_of_sent_test: # for each review/sentence\n",
    "    sent_vec = np.zeros(50) # as word vectors are of zero length\n",
    "    cnt_words =0; # num of words with a valid vector in the sentence/review\n",
    "    for word in sent: # for each word in a review/sentence\n",
    "        if word in w2v_words:\n",
    "            vec = Trained_model.wv[word]\n",
    "            sent_vec += vec\n",
    "            cnt_words += 1\n",
    "    if cnt_words != 0:\n",
    "        sent_vec /= cnt_words\n",
    "    test_vectors.append(sent_vec)\n",
    "print(len(test_vectors))"
   ]
  },
  {
   "cell_type": "code",
   "execution_count": 175,
   "metadata": {},
   "outputs": [],
   "source": [
    "Test_X=test_vectors"
   ]
  },
  {
   "cell_type": "code",
   "execution_count": 176,
   "metadata": {},
   "outputs": [
    {
     "name": "stdout",
     "output_type": "stream",
     "text": [
      "20834\n",
      "4166\n",
      "5000\n",
      "-----------------\n",
      "(20834,)\n",
      "(4166,)\n",
      "(5000,)\n"
     ]
    }
   ],
   "source": [
    "print (len(Train_X))\n",
    "print(len(CV_X))\n",
    "print(len(Test_X))\n",
    "print('-----------------')\n",
    "print (Y_train.shape)\n",
    "print(Y_cv.shape)\n",
    "print(Y_test.shape)"
   ]
  },
  {
   "cell_type": "code",
   "execution_count": 177,
   "metadata": {},
   "outputs": [
    {
     "name": "stdout",
     "output_type": "stream",
     "text": [
      "\n",
      "CV accuracy for k = 1 is 79.28%\n",
      "\n",
      "CV accuracy for k = 3 is 82.45%\n",
      "\n",
      "CV accuracy for k = 5 is 83.39%\n",
      "\n",
      "CV accuracy for k = 7 is 83.27%\n",
      "\n",
      "CV accuracy for k = 9 is 83.22%\n",
      "\n",
      "CV accuracy for k = 11 is 83.44%\n",
      "\n",
      "CV accuracy for k = 13 is 83.34%\n",
      "\n",
      "CV accuracy for k = 15 is 83.41%\n",
      "\n",
      "CV accuracy for k = 17 is 83.39%\n",
      "\n",
      "CV accuracy for k = 19 is 83.27%\n",
      "\n",
      "CV accuracy for k = 21 is 83.34%\n",
      "\n",
      "CV accuracy for k = 23 is 83.37%\n",
      "\n",
      "CV accuracy for k = 25 is 83.29%\n",
      "\n",
      "CV accuracy for k = 27 is 83.29%\n",
      "\n",
      "CV accuracy for k = 29 is 83.27%\n",
      "Running Time for code execution 153.1801438331604 secs\n"
     ]
    }
   ],
   "source": [
    "start_time_code = time.time()\n",
    "for i in range(1,30,2):\n",
    "    # instantiate learning model (k = 30)\n",
    "    knn = KNeighborsClassifier(n_neighbors=i, algorithm=\"kd_tree\")\n",
    "\n",
    "    # fitting the model on crossvalidation train\n",
    "    knn.fit(Train_X, Y_train)\n",
    "\n",
    "    # predict the response on the crossvalidation train\n",
    "    pred = knn.predict(CV_X)\n",
    "\n",
    "    # evaluate CV accuracy\n",
    "    train_acc = accuracy_score(Y_cv, pred, normalize=True) * float(100)\n",
    "    print('\\nCV accuracy for k = %d is %0.2f%%' % (i, train_acc))\n",
    "end_time_code = time.time()\n",
    "print (\"Running Time for code execution \" + str(end_time_code - start_time_code) + \" secs\")"
   ]
  },
  {
   "cell_type": "code",
   "execution_count": 178,
   "metadata": {},
   "outputs": [
    {
     "name": "stdout",
     "output_type": "stream",
     "text": [
      "\n",
      "****Test accuracy for k = 11 is 83.30%\n"
     ]
    }
   ],
   "source": [
    "# Since the train accuracy for k is the same from k=3 to k=29. so the smallest k at maximum accuracy is the best i.e. k=3\n",
    "knn = KNeighborsClassifier(11,algorithm=\"kd_tree\")\n",
    "knn.fit(Train_X,Y_train)\n",
    "pred = knn.predict(Test_X)\n",
    "test_acc = accuracy_score(Y_test, pred, normalize=True) * float(100)\n",
    "print('\\n****Test accuracy for k = 11 is %0.2f%%' % (test_acc))"
   ]
  },
  {
   "cell_type": "code",
   "execution_count": 179,
   "metadata": {},
   "outputs": [],
   "source": [
    "Conf_matrix=confusion_matrix(Y_test, pred)"
   ]
  },
  {
   "cell_type": "code",
   "execution_count": 180,
   "metadata": {},
   "outputs": [
    {
     "data": {
      "text/plain": [
       "array([[ 169,  764],\n",
       "       [  71, 3996]])"
      ]
     },
     "execution_count": 180,
     "metadata": {},
     "output_type": "execute_result"
    }
   ],
   "source": [
    "Conf_matrix"
   ]
  },
  {
   "cell_type": "code",
   "execution_count": 181,
   "metadata": {},
   "outputs": [
    {
     "data": {
      "image/png": "[encoded data removed]",
      "text/plain": [
       "<Figure size 576x432 with 2 Axes>"
      ]
     },
     "metadata": {
      "needs_background": "light"
     },
     "output_type": "display_data"
    }
   ],
   "source": [
    "plot_confusion_matrix(cm           = Conf_matrix, \n",
    "                      normalize    = False,\n",
    "                      target_names = ['Negative', 'Positive'],\n",
    "                      title        = \"Confusion Matrix\")"
   ]
  },
  {
   "cell_type": "code",
   "execution_count": 182,
   "metadata": {},
   "outputs": [],
   "source": [
    "TN,FP,FN,TP = Conf_matrix.ravel()\n",
    "#confusion_matrix(Y_test, pred)"
   ]
  },
  {
   "cell_type": "code",
   "execution_count": 183,
   "metadata": {},
   "outputs": [],
   "source": [
    "# Sensitivity, hit rate, recall, or true positive rate\n",
    "TPR ='{0:.2%}'.format( TP/(TP+FN))\n",
    "# Specificity or true negative rate\n",
    "TNR ='{0:.2%}'.format( TN/(TN+FP))\n",
    "# Fall out or false positive rate\n",
    "FPR ='{0:.2%}'.format( FP/(FP+TN))\n",
    "# False negative rate\n",
    "FNR ='{0:.2%}'.format( FN/(TP+FN))\n",
    "# Precision or positive predictive value\n",
    "PPV ='{0:.2%}'.format( TP/(TP+FP))\n",
    "# Negative predictive value\n",
    "NPV ='{0:.2%}'.format( TN/(TN+FN))\n",
    "# Overall accuracy\n",
    "ACC ='{0:.2%}'.format( (TP+TN)/(TP+FP+FN+TN))"
   ]
  },
  {
   "cell_type": "code",
   "execution_count": 184,
   "metadata": {},
   "outputs": [],
   "source": [
    "Recall=recall_score(Y_test, pred, average='micro') "
   ]
  },
  {
   "cell_type": "code",
   "execution_count": 185,
   "metadata": {},
   "outputs": [],
   "source": [
    "Precision=precision_score(Y_test, pred, average='micro')"
   ]
  },
  {
   "cell_type": "code",
   "execution_count": 186,
   "metadata": {},
   "outputs": [],
   "source": [
    "F1_Score=f1_score(Y_test, pred, average='weighted')"
   ]
  },
  {
   "cell_type": "code",
   "execution_count": 187,
   "metadata": {},
   "outputs": [
    {
     "data": {
      "text/html": [
       "<div>\n",
       "<style scoped>\n",
       "    .dataframe tbody tr th:only-of-type {\n",
       "        vertical-align: middle;\n",
       "    }\n",
       "\n",
       "    .dataframe tbody tr th {\n",
       "        vertical-align: top;\n",
       "    }\n",
       "\n",
       "    .dataframe thead th {\n",
       "        text-align: right;\n",
       "    }\n",
       "</style>\n",
       "<table border=\"1\" class=\"dataframe\">\n",
       "  <thead>\n",
       "    <tr style=\"text-align: right;\">\n",
       "      <th>Predicted</th>\n",
       "      <th>negative</th>\n",
       "      <th>positive</th>\n",
       "      <th>All</th>\n",
       "    </tr>\n",
       "    <tr>\n",
       "      <th>True</th>\n",
       "      <th></th>\n",
       "      <th></th>\n",
       "      <th></th>\n",
       "    </tr>\n",
       "  </thead>\n",
       "  <tbody>\n",
       "    <tr>\n",
       "      <th>negative</th>\n",
       "      <td>169</td>\n",
       "      <td>764</td>\n",
       "      <td>933</td>\n",
       "    </tr>\n",
       "    <tr>\n",
       "      <th>positive</th>\n",
       "      <td>71</td>\n",
       "      <td>3996</td>\n",
       "      <td>4067</td>\n",
       "    </tr>\n",
       "    <tr>\n",
       "      <th>All</th>\n",
       "      <td>240</td>\n",
       "      <td>4760</td>\n",
       "      <td>5000</td>\n",
       "    </tr>\n",
       "  </tbody>\n",
       "</table>\n",
       "</div>"
      ],
      "text/plain": [
       "Predicted  negative  positive   All\n",
       "True                               \n",
       "negative        169       764   933\n",
       "positive         71      3996  4067\n",
       "All             240      4760  5000"
      ]
     },
     "execution_count": 187,
     "metadata": {},
     "output_type": "execute_result"
    }
   ],
   "source": [
    "pd.crosstab(Y_test, pred, rownames=['True'], colnames=['Predicted'], margins=True)"
   ]
  },
  {
   "cell_type": "code",
   "execution_count": 188,
   "metadata": {},
   "outputs": [],
   "source": [
    "x.add_row([\" Average W2V \",\"Kd_tree\",11,TPR,TNR,'{0:.2f}'.format(Precision),'{0:.2f}'.format(Recall),'{0:.2f}'.format(F1_Score),FPR,FNR,PPV,NPV,ACC])"
   ]
  },
  {
   "cell_type": "code",
   "execution_count": 189,
   "metadata": {},
   "outputs": [
    {
     "name": "stdout",
     "output_type": "stream",
     "text": [
      "             precision    recall  f1-score   support\n",
      "\n",
      "   negative       0.70      0.18      0.29       933\n",
      "   positive       0.84      0.98      0.91      4067\n",
      "\n",
      "avg / total       0.81      0.83      0.79      5000\n",
      "\n"
     ]
    }
   ],
   "source": [
    "print(classification_report(Y_test, pred))  "
   ]
  },
  {
   "cell_type": "code",
   "execution_count": 190,
   "metadata": {},
   "outputs": [
    {
     "name": "stdout",
     "output_type": "stream",
     "text": [
      "|     Model     | Algorithm |  K  |  TPR   |  TNR   | Precision | Recall | F1-Score |  FPR   |  FNR  |  PPV   |  NPV   | Overall Accuracy (ACC) |\n",
      "|  Bag of Words |  kd_tree  |  17 | 99.07% | 7.29%  |    0.82   |  0.82  |   0.76   | 92.71% | 0.93% | 82.33% | 64.15% |         81.94%         |\n",
      "|    TF - IDF   |  Kd_tree  |  13 | 99.09% | 10.93% |    0.83   |  0.83  |   0.77   | 89.07% | 0.91% | 82.90% | 73.38% |         82.64%         |\n",
      "|  Average W2V  |  Kd_tree  |  11 | 98.25% | 18.11% |    0.83   |  0.83  |   0.79   | 81.89% | 1.75% | 83.95% | 70.42% |         83.30%         |\n"
     ]
    }
   ],
   "source": [
    "print(x)"
   ]
  },
  {
   "cell_type": "markdown",
   "metadata": {},
   "source": [
    "## TF-IDF weighted Word2Vec"
   ]
  },
  {
   "cell_type": "code",
   "execution_count": 53,
   "metadata": {},
   "outputs": [],
   "source": [
    "# TF-IDF weighted Word2Vec\n",
    "tfidf_feat = TF_vector.get_feature_names() # tfidf words/col-names"
   ]
  },
  {
   "cell_type": "code",
   "execution_count": 54,
   "metadata": {},
   "outputs": [
    {
     "name": "stdout",
     "output_type": "stream",
     "text": [
      "Running Time for code execution 13474.992048978806 secs\n"
     ]
    }
   ],
   "source": [
    "# final_tf_idf is the sparse matrix with row= sentence, col=word and cell_val = tfidf\n",
    "start_time_code = time.time()\n",
    "tfidf_sent_vectors = []; # the tfidf-w2v for each sentence/review is stored in this list\n",
    "row=0;\n",
    "for sent in list_of_sent: # for each review/sentence \n",
    "    sent_vec = np.zeros(50) # as word vectors are of zero length\n",
    "    weight_sum =0; # num of words with a valid vector in the sentence/review\n",
    "    for word in sent: # for each word in a review/sentence\n",
    "        if word in w2v_words:\n",
    "            vec = Trained_model.wv[word]\n",
    "            # obtain the tf_idfidf of a word in a sentence/review\n",
    "            tf_idf = TF_train_Vector[row, tfidf_feat.index(word)]\n",
    "            sent_vec += (vec * tf_idf)\n",
    "            weight_sum += tf_idf\n",
    "    if weight_sum != 0:\n",
    "        sent_vec /= weight_sum\n",
    "    tfidf_sent_vectors.append(sent_vec)\n",
    "    row += 1\n",
    "end_time_code = time.time()\n",
    "print (\"Running Time for code execution \" + str(end_time_code - start_time_code) + \" secs\")"
   ]
  },
  {
   "cell_type": "code",
   "execution_count": 55,
   "metadata": {},
   "outputs": [],
   "source": [
    "Train_X=tfidf_sent_vectors"
   ]
  },
  {
   "cell_type": "code",
   "execution_count": 56,
   "metadata": {},
   "outputs": [],
   "source": [
    "df = pd.DataFrame.from_records(Train_X)\n",
    "df.to_csv('TF-IDF_W2V_Train_kd.csv',index=None)"
   ]
  },
  {
   "cell_type": "code",
   "execution_count": 191,
   "metadata": {},
   "outputs": [],
   "source": [
    "Train_X = pd.read_csv(\"TF-IDF_W2V_Train_kd.csv\") "
   ]
  },
  {
   "cell_type": "code",
   "execution_count": 57,
   "metadata": {},
   "outputs": [
    {
     "name": "stdout",
     "output_type": "stream",
     "text": [
      "Running Time for code execution 2435.09094786644 secs\n"
     ]
    }
   ],
   "source": [
    "# final_tf_idf is the sparse matrix with row= sentence, col=word and cell_val = tfidf\n",
    "start_time_code = time.time()\n",
    "tfidf_sent_vectors = []; # the tfidf-w2v for each sentence/review is stored in this list\n",
    "row=0;\n",
    "for sent in list_of_sent_cv: # for each review/sentence \n",
    "    sent_vec = np.zeros(50) # as word vectors are of zero length\n",
    "    weight_sum =0; # num of words with a valid vector in the sentence/review\n",
    "    for word in sent: # for each word in a review/sentence\n",
    "        if word in w2v_words:\n",
    "            vec = Trained_model.wv[word]\n",
    "            # obtain the tf_idfidf of a word in a sentence/review\n",
    "            tf_idf = TF_cv_Vector[row, tfidf_feat.index(word)]\n",
    "            sent_vec += (vec * tf_idf)\n",
    "            weight_sum += tf_idf\n",
    "    if weight_sum != 0:\n",
    "        sent_vec /= weight_sum\n",
    "    tfidf_sent_vectors.append(sent_vec)\n",
    "    row += 1\n",
    "end_time_code = time.time()\n",
    "print (\"Running Time for code execution \" + str(end_time_code - start_time_code) + \" secs\")"
   ]
  },
  {
   "cell_type": "code",
   "execution_count": 58,
   "metadata": {},
   "outputs": [],
   "source": [
    "CV_X=tfidf_sent_vectors"
   ]
  },
  {
   "cell_type": "code",
   "execution_count": 59,
   "metadata": {},
   "outputs": [],
   "source": [
    "df = pd.DataFrame.from_records(CV_X)\n",
    "df.to_csv('TF-IDF_W2V_CV_Kd.csv',index=None)"
   ]
  },
  {
   "cell_type": "code",
   "execution_count": 192,
   "metadata": {},
   "outputs": [],
   "source": [
    "CV_X = pd.read_csv(\"TF-IDF_W2V_CV_Kd.csv\") "
   ]
  },
  {
   "cell_type": "code",
   "execution_count": 60,
   "metadata": {},
   "outputs": [
    {
     "name": "stdout",
     "output_type": "stream",
     "text": [
      "Running Time for code execution 2871.7937688827515 secs\n"
     ]
    }
   ],
   "source": [
    "# final_tf_idf is the sparse matrix with row= sentence, col=word and cell_val = tfidf\n",
    "start_time_code = time.time()\n",
    "tfidf_sent_vectors = []; # the tfidf-w2v for each sentence/review is stored in this list\n",
    "row=0;\n",
    "for sent in list_of_sent_test: # for each review/sentence \n",
    "    sent_vec = np.zeros(50) # as word vectors are of zero length\n",
    "    weight_sum =0; # num of words with a valid vector in the sentence/review\n",
    "    for word in sent: # for each word in a review/sentence\n",
    "        if word in w2v_words:\n",
    "            vec = Trained_model.wv[word]\n",
    "            # obtain the tf_idfidf of a word in a sentence/review\n",
    "            tf_idf = TF_test_Vector[row, tfidf_feat.index(word)]\n",
    "            sent_vec += (vec * tf_idf)\n",
    "            weight_sum += tf_idf\n",
    "    if weight_sum != 0:\n",
    "        sent_vec /= weight_sum\n",
    "    tfidf_sent_vectors.append(sent_vec)\n",
    "    row += 1\n",
    "end_time_code = time.time()\n",
    "print (\"Running Time for code execution \" + str(end_time_code - start_time_code) + \" secs\")"
   ]
  },
  {
   "cell_type": "code",
   "execution_count": 61,
   "metadata": {},
   "outputs": [],
   "source": [
    "Test_X=tfidf_sent_vectors"
   ]
  },
  {
   "cell_type": "code",
   "execution_count": 62,
   "metadata": {},
   "outputs": [],
   "source": [
    "df = pd.DataFrame.from_records(Test_X)\n",
    "df.to_csv('TF-IDF_W2V_Test_Kd.csv',index=None)"
   ]
  },
  {
   "cell_type": "code",
   "execution_count": 193,
   "metadata": {},
   "outputs": [],
   "source": [
    "Test_X = pd.read_csv(\"TF-IDF_W2V_Test_Kd.csv\") "
   ]
  },
  {
   "cell_type": "code",
   "execution_count": 194,
   "metadata": {},
   "outputs": [
    {
     "name": "stdout",
     "output_type": "stream",
     "text": [
      "\n",
      "CV accuracy for k = 1 is 77.87%\n",
      "\n",
      "CV accuracy for k = 3 is 81.06%\n",
      "\n",
      "CV accuracy for k = 5 is 82.53%\n",
      "\n",
      "CV accuracy for k = 7 is 82.67%\n",
      "\n",
      "CV accuracy for k = 9 is 83.37%\n",
      "\n",
      "CV accuracy for k = 11 is 83.15%\n",
      "\n",
      "CV accuracy for k = 13 is 83.08%\n",
      "\n",
      "CV accuracy for k = 15 is 82.89%\n",
      "\n",
      "CV accuracy for k = 17 is 82.89%\n",
      "\n",
      "CV accuracy for k = 19 is 82.93%\n",
      "\n",
      "CV accuracy for k = 21 is 82.89%\n",
      "\n",
      "CV accuracy for k = 23 is 82.93%\n",
      "\n",
      "CV accuracy for k = 25 is 82.91%\n",
      "\n",
      "CV accuracy for k = 27 is 83.03%\n",
      "\n",
      "CV accuracy for k = 29 is 82.86%\n",
      "Running Time for code execution 135.67332410812378 secs\n"
     ]
    }
   ],
   "source": [
    "start_time_code = time.time()\n",
    "for i in range(1,30,2):\n",
    "    # instantiate learning model (k = 30)\n",
    "    knn = KNeighborsClassifier(n_neighbors=i, algorithm=\"kd_tree\")\n",
    "\n",
    "    # fitting the model on crossvalidation train\n",
    "    knn.fit(Train_X, Y_train)\n",
    "\n",
    "    # predict the response on the crossvalidation train\n",
    "    pred = knn.predict(CV_X)\n",
    "\n",
    "    # evaluate CV accuracy\n",
    "    train_acc = accuracy_score(Y_cv, pred, normalize=True) * float(100)\n",
    "    print('\\nCV accuracy for k = %d is %0.2f%%' % (i, train_acc))\n",
    "end_time_code = time.time()\n",
    "print (\"Running Time for code execution \" + str(end_time_code - start_time_code) + \" secs\")"
   ]
  },
  {
   "cell_type": "code",
   "execution_count": 195,
   "metadata": {},
   "outputs": [
    {
     "name": "stdout",
     "output_type": "stream",
     "text": [
      "\n",
      "****Test accuracy for k = 23 is 82.84%\n"
     ]
    }
   ],
   "source": [
    "# Since the train accuracy for k is the same from k=3 to k=29. so the smallest k at maximum accuracy is the best i.e. k=3\n",
    "knn = KNeighborsClassifier(23,algorithm=\"kd_tree\")\n",
    "knn.fit(Train_X,Y_train)\n",
    "pred = knn.predict(Test_X)\n",
    "test_acc = accuracy_score(Y_test, pred, normalize=True) * float(100)\n",
    "print('\\n****Test accuracy for k = 23 is %0.2f%%' % (test_acc))"
   ]
  },
  {
   "cell_type": "code",
   "execution_count": 196,
   "metadata": {},
   "outputs": [],
   "source": [
    "Conf_matrix=confusion_matrix(Y_test, pred)"
   ]
  },
  {
   "cell_type": "code",
   "execution_count": 197,
   "metadata": {},
   "outputs": [
    {
     "data": {
      "text/plain": [
       "array([[ 102,  831],\n",
       "       [  27, 4040]])"
      ]
     },
     "execution_count": 197,
     "metadata": {},
     "output_type": "execute_result"
    }
   ],
   "source": [
    "Conf_matrix"
   ]
  },
  {
   "cell_type": "code",
   "execution_count": 198,
   "metadata": {},
   "outputs": [
    {
     "data": {
      "image/png": "[encoded data removed]",
      "text/plain": [
       "<Figure size 576x432 with 2 Axes>"
      ]
     },
     "metadata": {
      "needs_background": "light"
     },
     "output_type": "display_data"
    }
   ],
   "source": [
    "plot_confusion_matrix(cm           = Conf_matrix, \n",
    "                      normalize    = False,\n",
    "                      target_names = ['Negative', 'Positive'],\n",
    "                      title        = \"Confusion Matrix\")"
   ]
  },
  {
   "cell_type": "code",
   "execution_count": 199,
   "metadata": {},
   "outputs": [],
   "source": [
    "TN,FP,FN,TP = Conf_matrix.ravel()\n",
    "#confusion_matrix(Y_test, pred)"
   ]
  },
  {
   "cell_type": "code",
   "execution_count": 200,
   "metadata": {},
   "outputs": [],
   "source": [
    "# Sensitivity, hit rate, recall, or true positive rate\n",
    "TPR ='{0:.2%}'.format( TP/(TP+FN))\n",
    "# Specificity or true negative rate\n",
    "TNR ='{0:.2%}'.format( TN/(TN+FP))\n",
    "# Fall out or false positive rate\n",
    "FPR ='{0:.2%}'.format( FP/(FP+TN))\n",
    "# False negative rate\n",
    "FNR ='{0:.2%}'.format( FN/(TP+FN))\n",
    "# Precision or positive predictive value\n",
    "PPV ='{0:.2%}'.format( TP/(TP+FP))\n",
    "# Negative predictive value\n",
    "NPV ='{0:.2%}'.format( TN/(TN+FN))\n",
    "# Overall accuracy\n",
    "ACC ='{0:.2%}'.format( (TP+TN)/(TP+FP+FN+TN))"
   ]
  },
  {
   "cell_type": "code",
   "execution_count": 201,
   "metadata": {},
   "outputs": [],
   "source": [
    "Recall=recall_score(Y_test, pred, average='micro') "
   ]
  },
  {
   "cell_type": "code",
   "execution_count": 202,
   "metadata": {},
   "outputs": [],
   "source": [
    "Precision=precision_score(Y_test, pred, average='micro')"
   ]
  },
  {
   "cell_type": "code",
   "execution_count": 203,
   "metadata": {},
   "outputs": [],
   "source": [
    "F1_Score=f1_score(Y_test, pred, average='weighted')"
   ]
  },
  {
   "cell_type": "code",
   "execution_count": 204,
   "metadata": {},
   "outputs": [
    {
     "data": {
      "text/html": [
       "<div>\n",
       "<style scoped>\n",
       "    .dataframe tbody tr th:only-of-type {\n",
       "        vertical-align: middle;\n",
       "    }\n",
       "\n",
       "    .dataframe tbody tr th {\n",
       "        vertical-align: top;\n",
       "    }\n",
       "\n",
       "    .dataframe thead th {\n",
       "        text-align: right;\n",
       "    }\n",
       "</style>\n",
       "<table border=\"1\" class=\"dataframe\">\n",
       "  <thead>\n",
       "    <tr style=\"text-align: right;\">\n",
       "      <th>Predicted</th>\n",
       "      <th>negative</th>\n",
       "      <th>positive</th>\n",
       "      <th>All</th>\n",
       "    </tr>\n",
       "    <tr>\n",
       "      <th>True</th>\n",
       "      <th></th>\n",
       "      <th></th>\n",
       "      <th></th>\n",
       "    </tr>\n",
       "  </thead>\n",
       "  <tbody>\n",
       "    <tr>\n",
       "      <th>negative</th>\n",
       "      <td>102</td>\n",
       "      <td>831</td>\n",
       "      <td>933</td>\n",
       "    </tr>\n",
       "    <tr>\n",
       "      <th>positive</th>\n",
       "      <td>27</td>\n",
       "      <td>4040</td>\n",
       "      <td>4067</td>\n",
       "    </tr>\n",
       "    <tr>\n",
       "      <th>All</th>\n",
       "      <td>129</td>\n",
       "      <td>4871</td>\n",
       "      <td>5000</td>\n",
       "    </tr>\n",
       "  </tbody>\n",
       "</table>\n",
       "</div>"
      ],
      "text/plain": [
       "Predicted  negative  positive   All\n",
       "True                               \n",
       "negative        102       831   933\n",
       "positive         27      4040  4067\n",
       "All             129      4871  5000"
      ]
     },
     "execution_count": 204,
     "metadata": {},
     "output_type": "execute_result"
    }
   ],
   "source": [
    "pd.crosstab(Y_test, pred, rownames=['True'], colnames=['Predicted'], margins=True)"
   ]
  },
  {
   "cell_type": "code",
   "execution_count": 205,
   "metadata": {},
   "outputs": [],
   "source": [
    "x.add_row([\" TF - IDF Weighted W2V \",\"Kd_tree\",23,TPR,TNR,'{0:.2f}'.format(Precision),'{0:.2f}'.format(Recall),'{0:.2f}'.format(F1_Score),FPR,FNR,PPV,NPV,ACC])"
   ]
  },
  {
   "cell_type": "code",
   "execution_count": 206,
   "metadata": {},
   "outputs": [
    {
     "name": "stdout",
     "output_type": "stream",
     "text": [
      "             precision    recall  f1-score   support\n",
      "\n",
      "   negative       0.79      0.11      0.19       933\n",
      "   positive       0.83      0.99      0.90      4067\n",
      "\n",
      "avg / total       0.82      0.83      0.77      5000\n",
      "\n"
     ]
    }
   ],
   "source": [
    "print(classification_report(Y_test, pred))  "
   ]
  },
  {
   "cell_type": "code",
   "execution_count": 299,
   "metadata": {},
   "outputs": [
    {
     "name": "stdout",
     "output_type": "stream",
     "text": [
      "|          Model          | Algorithm |  K  |  TPR   |  TNR   | Precision | Recall | F1-Score |  FPR   |  FNR  |  PPV   |  NPV   | Overall Accuracy (ACC) |\n",
      "|       Bag of Words      |  kd_tree  |  17 | 99.07% | 7.29%  |    0.82   |  0.82  |   0.76   | 92.71% | 0.93% | 82.33% | 64.15% |         81.94%         |\n",
      "|         TF - IDF        |  Kd_tree  |  13 | 99.09% | 10.93% |    0.83   |  0.83  |   0.77   | 89.07% | 0.91% | 82.90% | 73.38% |         82.64%         |\n",
      "|       Average W2V       |  Kd_tree  |  11 | 98.25% | 18.11% |    0.83   |  0.83  |   0.79   | 81.89% | 1.75% | 83.95% | 70.42% |         83.30%         |\n",
      "|  TF - IDF Weighted W2V  |  Kd_tree  |  23 | 99.34% | 10.93% |    0.83   |  0.83  |   0.77   | 89.07% | 0.66% | 82.94% | 79.07% |         82.84%         |\n",
      "|       Bag of Words      |   Brute   |  15 | 99.93% | 1.87%  |    0.82   |  0.82  |   0.74   | 98.13% | 0.07% | 81.68% | 85.29% |         81.70%         |\n",
      "|         TF - IDF        |   Brute   |  11 | 99.04% | 12.27% |    0.83   |  0.83  |   0.78   | 87.73% | 0.96% | 83.18% | 74.51% |         82.91%         |\n",
      "|        Average W2V      |   Brute   |  17 | 98.36% | 20.85% |    0.84   |  0.84  |   0.80   | 79.15% | 1.64% | 84.48% | 74.42% |         83.96%         |\n",
      "|   TF-IDF Weighted W2V   |   Brute   |  17 | 98.88% | 2.07%  |    0.81   |  0.81  |   0.73   | 97.93% | 1.12% | 81.56% | 29.63% |         80.88%         |\n"
     ]
    }
   ],
   "source": [
    "print(x)"
   ]
  },
  {
   "cell_type": "code",
   "execution_count": 300,
   "metadata": {},
   "outputs": [],
   "source": [
    "with open('Output.txt', 'w') as w:\n",
    "    w.write(str(x))"
   ]
  },
  {
   "cell_type": "markdown",
   "metadata": {},
   "source": [
    "## Conclusion\n",
    "            1. Of all the Word to vector conversion models, TF - IDF got more True Positive Rate and True Negative Rate in 'Brute' and 'Kd-tree'"
   ]
  }
 ],
 "metadata": {
  "kernelspec": {
   "display_name": "Python 3",
   "language": "python",
   "name": "python3"
  },
  "language_info": {
   "codemirror_mode": {
    "name": "ipython",
    "version": 3
   },
   "file_extension": ".py",
   "mimetype": "text/x-python",
   "name": "python",
   "nbconvert_exporter": "python",
   "pygments_lexer": "ipython3",
   "version": "3.7.0"
  }
 },
 "nbformat": 4,
 "nbformat_minor": 2
}
